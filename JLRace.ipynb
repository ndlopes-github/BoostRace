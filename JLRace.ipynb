{
 "cells": [
  {
   "cell_type": "markdown",
   "id": "690a5b1b",
   "metadata": {},
   "source": [
    "#  jupyter notebook  for \"The modeling of urban races\"\n",
    "\n",
    "## 'julia-1.7.2' code"
   ]
  },
  {
   "cell_type": "markdown",
   "id": "mineral-glenn",
   "metadata": {
    "ExecuteTime": {
     "end_time": "2022-07-23T12:05:07.438000+01:00",
     "start_time": "2022-07-23T11:05:07.437Z"
    }
   },
   "source": [
    "## Loading required modules"
   ]
  },
  {
   "cell_type": "code",
   "execution_count": 1,
   "id": "2c462784",
   "metadata": {
    "ExecuteTime": {
     "end_time": "2022-09-23T18:47:34.610000+01:00",
     "start_time": "2022-09-23T17:47:26.899Z"
    }
   },
   "outputs": [],
   "source": [
    "using Random\n",
    "using Distributions\n",
    "using CubicSplines\n",
    "using Plots\n",
    "using Random\n",
    "using Distributions\n",
    "using LinearAlgebra\n",
    "using Interpolations\n",
    "Random.seed!(1234);"
   ]
  },
  {
   "cell_type": "markdown",
   "id": "7a0f16ec",
   "metadata": {},
   "source": [
    "## All the settings are introduced in the following cells "
   ]
  },
  {
   "cell_type": "markdown",
   "id": "daily-accessory",
   "metadata": {},
   "source": [
    "### Numerical model discretization parameters"
   ]
  },
  {
   "cell_type": "code",
   "execution_count": 2,
   "id": "2fb17b94",
   "metadata": {
    "ExecuteTime": {
     "end_time": "2022-09-23T18:47:37.077000+01:00",
     "start_time": "2022-09-23T17:47:27.275Z"
    }
   },
   "outputs": [],
   "source": [
    "const racedistance=10000.0 #race length (in meters)\n",
    "const timestep=0.4 #time step for time discretized method (in seconds)\n",
    "const observertimestep=1.0 #time interval to save data into memory (in seconds)\n",
    "const observernsteps=8080 # Number of steps saved into memory for Post-Processing\n",
    "const endtime=8080.0; #"
   ]
  },
  {
   "cell_type": "markdown",
   "id": "interested-architecture",
   "metadata": {},
   "source": [
    "### Mathematical model parameters"
   ]
  },
  {
   "cell_type": "code",
   "execution_count": 3,
   "id": "discrete-balance",
   "metadata": {
    "ExecuteTime": {
     "end_time": "2022-09-23T18:47:37.141000+01:00",
     "start_time": "2022-09-23T17:47:27.466Z"
    }
   },
   "outputs": [],
   "source": [
    "const frontviewdistance=4.0 # Linear distance in front of the runner defining his vital space\n",
    "const minratio=15.0/40.0 #Min density (ratio of runners per area unit) \n",
    "const maxratio=25.0/40.0 #Max density \n",
    "const minrho=0.4 #Min value for rho\n",
    "const maxrho=0.8 #Max value for rho\n",
    "const posweights=[0.2 0; 2.0 30;  1.5 60;  1.25 120; 1.0 100000] # Parameters defining the metric\n",
    "const ldist=0.5; #Distance between rows at the starting position (in meters)"
   ]
  },
  {
   "cell_type": "markdown",
   "id": "worth-cincinnati",
   "metadata": {},
   "source": [
    "### Race settings"
   ]
  },
  {
   "cell_type": "code",
   "execution_count": 4,
   "id": "front-russell",
   "metadata": {
    "ExecuteTime": {
     "end_time": "2022-09-23T18:47:37.197000+01:00",
     "start_time": "2022-09-23T17:47:27.653Z"
    }
   },
   "outputs": [],
   "source": [
    "const gap=180 # Time gap between consecutive waves\n",
    "const waves=[3000 166 167 0.0 3.34;\n",
    "        166  3000 167 (145 +1*gap) 2.92;\n",
    "        167 167 3000 (283.0+2*gap) 2.5]; # Configuration of wave mixtures "
   ]
  },
  {
   "cell_type": "markdown",
   "id": "aquatic-manor",
   "metadata": {},
   "source": [
    "### Course definition"
   ]
  },
  {
   "cell_type": "code",
   "execution_count": 5,
   "id": "cellular-honor",
   "metadata": {
    "ExecuteTime": {
     "end_time": "2022-09-23T18:47:37.884000+01:00",
     "start_time": "2022-09-23T17:47:27.840Z"
    }
   },
   "outputs": [],
   "source": [
    "const coursename=\"Silvestre\"\n",
    "const courseauxdata=[-500.0 10.0 16.0;\n",
    "    220.0 (-0.02*220) 16.0;\n",
    "    260.0 (-0.02*260) 11.0;\n",
    "    480.0 (-0.02*480) 11.0;\n",
    "    520.0 (-0.02*520) 6.0;\n",
    "    1000.0 -20.0 6.0;\n",
    "    1040.0 -20.0 8.0;\n",
    "    1500.0 -20.0 8.0;\n",
    "    2000.0 -20.0 8.0;\n",
    "    6000.0 -20.0 8.0;\n",
    "    6500.0 -20.0 8.0;\n",
    "    7460.0 13.6 8.0;\n",
    "    7500.0 15.0 16.0;\n",
    "    8500.0 50.0 16.0;\n",
    "    10000.0 0.0 16.0;\n",
    "    10500.0 (-1050.0/3.0+1000.0/3.0) 16.0];\n",
    "\n",
    "elev_interpolator=LinearInterpolation(courseauxdata[:,1], courseauxdata[:,2],extrapolation_bc=Line())\n",
    "width_interpolator=LinearInterpolation(courseauxdata[:,1], courseauxdata[:,3],extrapolation_bc=Line())\n",
    "\n",
    "N=501 #To avoid oscillations due to the CubicSpline ahead\n",
    "auxwidth=zeros(N)\n",
    "auxlev=zeros(N)\n",
    "x=range(-500,10500,N)\n",
    "datainterp=zeros((N,3));\n",
    "for i in 1:N\n",
    "    datainterp[i,1]=x[i]\n",
    "    datainterp[i,2]=elev_interpolator(x[i])\n",
    "    datainterp[i,3]=width_interpolator(x[i])\n",
    "end\n",
    "const coursedata=datainterp; "
   ]
  },
  {
   "cell_type": "markdown",
   "id": "closed-block",
   "metadata": {
    "ExecuteTime": {
     "end_time": "2022-08-03T17:53:15.187000+01:00",
     "start_time": "2022-08-03T16:53:15.185Z"
    }
   },
   "source": [
    "### Defining a Team for detailed reports "
   ]
  },
  {
   "cell_type": "code",
   "execution_count": 6,
   "id": "adjustable-sacramento",
   "metadata": {
    "ExecuteTime": {
     "end_time": "2022-09-23T18:47:37.885000+01:00",
     "start_time": "2022-09-23T17:47:28.027Z"
    }
   },
   "outputs": [],
   "source": [
    "#team=rand(1:nrunners,10) #e.g., random 10 runners\n",
    "team=[478,5891,9345];  #e.g, 3 runners: 1 in the first wave, 1 in the second wave, 1 in the third wave "
   ]
  },
  {
   "cell_type": "markdown",
   "id": "comic-superior",
   "metadata": {},
   "source": [
    "### Setting specific data for certain exception runners (may be in the team or not)"
   ]
  },
  {
   "cell_type": "code",
   "execution_count": 7,
   "id": "designed-destination",
   "metadata": {
    "ExecuteTime": {
     "end_time": "2022-09-23T18:47:37.959000+01:00",
     "start_time": "2022-09-23T17:47:28.229Z"
    }
   },
   "outputs": [],
   "source": [
    "# exceptionrunners=[] # No exception runners\n",
    "# Testing the same runner in the three waves\n",
    "teamrunner1=[team[1] 40.0 -3.0] # Runner 356 with Average Time 34.0 mnts (per 10Km) and -4.0 Slope Factor\n",
    "teamrunner2=[team[2] 40.0 -3.0] # Runner 5891 with Average Time 34.0 mnts (per 10Km) and -4.0 Slope Factor\n",
    "teamrunner3=[team[3] 40.0 -3.0] # Runner 9345 with Average Time 34.0mnts(per 10Km) and -4.3 Slope Factor\n",
    "exceptionrunners=[teamrunner1, teamrunner2, teamrunner3];"
   ]
  },
  {
   "cell_type": "markdown",
   "id": "olive-magnet",
   "metadata": {},
   "source": [
    "## Parameters  struct"
   ]
  },
  {
   "cell_type": "code",
   "execution_count": 9,
   "id": "275dcc68",
   "metadata": {
    "ExecuteTime": {
     "end_time": "2022-09-23T18:47:38.552000+01:00",
     "start_time": "2022-09-23T17:47:28.641Z"
    }
   },
   "outputs": [],
   "source": [
    "struct Parameters\n",
    "    timestep::Float32\n",
    "    observertimestep::Float32\n",
    "    observernsteps::Int16\n",
    "    endtime::Float32\n",
    "    waves::Matrix{Float32}\n",
    "    frontviewdistance::Float32\n",
    "    minratio::Float32\n",
    "    maxratio::Float32\n",
    "    minrho::Float32\n",
    "    maxrho::Float32\n",
    "    posweights::Matrix{Float32}\n",
    "    ldist::Float32\n",
    "    numberofwaves::Int8\n",
    "    nrunners::Int16\n",
    "    coursename::String\n",
    "    coursedata::Matrix{Float32}\n",
    "    racedistance::Float32\n",
    "end"
   ]
  },
  {
   "cell_type": "markdown",
   "id": "dental-pennsylvania",
   "metadata": {},
   "source": [
    "### Construct the Parameters struct"
   ]
  },
  {
   "cell_type": "code",
   "execution_count": 10,
   "id": "a78f818d",
   "metadata": {
    "ExecuteTime": {
     "end_time": "2022-09-23T18:47:38.738000+01:00",
     "start_time": "2022-09-23T17:47:28.827Z"
    }
   },
   "outputs": [],
   "source": [
    "const numberofwaves=size(waves)[1]\n",
    "const nrunners=Int(sum(waves[:,1:numberofwaves]))\n",
    "const parameters=Parameters(timestep,observertimestep,observernsteps, endtime,\n",
    "               waves,frontviewdistance,minratio,maxratio,minrho,maxrho,\n",
    "               posweights,ldist, numberofwaves, nrunners, coursename,coursedata,\n",
    "               racedistance);"
   ]
  },
  {
   "cell_type": "markdown",
   "id": "fourth-inside",
   "metadata": {},
   "source": [
    "## Courses struct"
   ]
  },
  {
   "cell_type": "code",
   "execution_count": 11,
   "id": "loose-insulation",
   "metadata": {
    "ExecuteTime": {
     "end_time": "2022-09-23T18:47:38.742000+01:00",
     "start_time": "2022-09-23T17:47:29.013Z"
    }
   },
   "outputs": [],
   "source": [
    "struct Courses\n",
    "    name::String\n",
    "    x_data::Vector{Float32}\n",
    "    diff_data::Vector{Float32}\n",
    "    width_data::Vector{Float32}\n",
    "    cspline_elev::CubicSplines.CubicSpline{Float32}\n",
    "    cspline_width::CubicSplines.CubicSpline{Float32}\n",
    "    foresightarea_data::Vector{Float32}\n",
    "end"
   ]
  },
  {
   "cell_type": "markdown",
   "id": "executive-voltage",
   "metadata": {},
   "source": [
    "### Construct the Courses struct"
   ]
  },
  {
   "cell_type": "code",
   "execution_count": 12,
   "id": "5e8d15ae",
   "metadata": {
    "ExecuteTime": {
     "end_time": "2022-09-23T18:47:39.720000+01:00",
     "start_time": "2022-09-23T17:47:29.218Z"
    }
   },
   "outputs": [],
   "source": [
    "coursename=parameters.coursename\n",
    "data=parameters.coursedata;\n",
    "x_data=data[:,1]\n",
    "diff_data=data[:,2]\n",
    "width_data=data[:,3]\n",
    "cspline_elev=CubicSpline(x_data,diff_data)\n",
    "cspline_width=CubicSpline(x_data,width_data)\n",
    "\n",
    "# the course is divided in 1 bin per meter\n",
    "roadstart=0.0\n",
    "roadend=floor(Int,parameters.racedistance)\n",
    "roadbins= range(roadstart,roadend-1.0,ceil(Int,parameters.racedistance))\n",
    "foresightarea_data=zeros(size(roadbins)[1])\n",
    "\n",
    "for bin in roadbins\n",
    "    h=parameters.frontviewdistance\n",
    "    a=bin\n",
    "    b=a+h\n",
    "    wa=cspline_width(a)\n",
    "    wb=cspline_width(b)\n",
    "    foresightarea_data[floor(Int,bin)+1]=(wa+wb)*h/2.0\n",
    "end\n",
    "\n",
    "const course=Courses(coursename,x_data,diff_data,width_data,cspline_elev,cspline_width,foresightarea_data);"
   ]
  },
  {
   "cell_type": "markdown",
   "id": "downtown-mentor",
   "metadata": {},
   "source": [
    "## Plot the course elevation gain/loss and width profiles"
   ]
  },
  {
   "cell_type": "code",
   "execution_count": 13,
   "id": "2aae7579",
   "metadata": {
    "ExecuteTime": {
     "end_time": "2022-09-23T18:47:39.724000+01:00",
     "start_time": "2022-09-23T17:47:29.405Z"
    }
   },
   "outputs": [],
   "source": [
    "function plot_diff_course( )\n",
    "    xs = range(start=minimum(course.x_data), stop=maximum(course.x_data), length=1000)\n",
    "    ys=course.cspline_elev(xs)\n",
    "    display(plot(xs, ys,title=\"Elevation (m)\",reuse=false))\n",
    "end\n",
    "\n",
    "function plot_width_course()\n",
    "    xs = range(start=minimum(course.x_data), stop=maximum(course.x_data), length=1000)\n",
    "    ys=course.cspline_width(xs)\n",
    "    display(plot(xs, ys,reuse=false, title=\"Width (m)\"))\n",
    "\n",
    "end;"
   ]
  },
  {
   "cell_type": "code",
   "execution_count": 14,
   "id": "recovered-fence",
   "metadata": {
    "ExecuteTime": {
     "end_time": "2022-09-23T18:47:39.725000+01:00",
     "start_time": "2022-09-23T17:47:29.409Z"
    }
   },
   "outputs": [],
   "source": [
    "if false\n",
    "    plot_diff_course()\n",
    "    plot_width_course()\n",
    "end"
   ]
  },
  {
   "cell_type": "markdown",
   "id": "appreciated-values",
   "metadata": {},
   "source": [
    "## Processing waves distribution and setting the speed profiles for the runners\n",
    "### Generation of average times, slope factors, initial positions, etc"
   ]
  },
  {
   "cell_type": "code",
   "execution_count": 15,
   "id": "055465a9",
   "metadata": {
    "ExecuteTime": {
     "end_time": "2022-09-23T18:47:39.864000+01:00",
     "start_time": "2022-09-23T17:47:29.597Z"
    }
   },
   "outputs": [],
   "source": [
    "TimeBins=[i for i in 30:100];\n",
    "ReactionLineTime=parameters.timestep\n",
    "\n",
    "RunnerDist=[15,18,20,17,18,18,31,40,45,72,96,88,109,131,155,192,\n",
    "            207,270,281,263,326,298,268,240,309,296,346,313,323,347,\n",
    "            286,325,281,274,291,252 ,285,220,220,207,213,180,172,145,140,\n",
    "            151,112,145,96,85,85,87,85,73,42,47,27,39,45,31,28,29,24,21,15,21,14,17,14,12,12]\n",
    "\n",
    "AcumulatedRelativeRunnerDist=cumsum(RunnerDist/sum(RunnerDist));"
   ]
  },
  {
   "cell_type": "code",
   "execution_count": 16,
   "id": "313d16a8",
   "metadata": {
    "ExecuteTime": {
     "end_time": "2022-09-23T18:47:40.171000+01:00",
     "start_time": "2022-09-23T17:47:29.601Z"
    }
   },
   "outputs": [
    {
     "data": {
      "text/plain": [
       "inversepseudosigmoid (generic function with 1 method)"
      ]
     },
     "execution_count": 16,
     "metadata": {},
     "output_type": "execute_result"
    }
   ],
   "source": [
    "function inversepseudosigmoid(exceptionrunnners)\n",
    "    ldist=parameters.ldist\n",
    "    nwaves=parameters.numberofwaves\n",
    "    mixwaves=Int.(parameters.waves[:,1:nwaves])\n",
    "    wavedelays=parameters.waves[:,nwaves+1]\n",
    "    waveinitspeeds=parameters.waves[:,nwaves+2]\n",
    "\n",
    "    partitions=zeros(Float32,size(mixwaves)[1]+1)\n",
    "    for part in range(1,nwaves)\n",
    "        partitions[part+1]=partitions[part]+sum(mixwaves[:,part])/nrunners\n",
    "    end\n",
    "\n",
    "    println(\">Control PreProcessing: partitions \", partitions)\n",
    "    println(\">Control PreProcessing: number of waves\",  nwaves)\n",
    "\n",
    "    waves=zeros(Float32,nrunners)\n",
    "    wb=1\n",
    "    we=1\n",
    "\n",
    "    for wave in range(1, nwaves)\n",
    "        parts=zeros(Float32,sum(mixwaves[wave, 1 : nwaves]))\n",
    "        pb=1\n",
    "        pe=1\n",
    "        for part in range(1, nwaves)\n",
    "            size=mixwaves[wave,part]\n",
    "            pe+=size\n",
    "            wavepart=rand(Uniform(partitions[part],partitions[part+1]),size)\n",
    "            parts[pb:pe-1]=wavepart\n",
    "            pb=pe\n",
    "        end\n",
    "        we+=size(parts)[1]\n",
    "        shuffle!(parts) #mix parts in each wave\n",
    "        waves[wb:we-1]=parts\n",
    "        wb=we\n",
    "    end\n",
    "\n",
    "    RandDist=waves\n",
    "    AvgTimes=CubicSpline(AcumulatedRelativeRunnerDist,TimeBins,  extrapl=[1, ], extrapr=[1, ])[RandDist]\n",
    "    InitPositions=zeros(Float32,nrunners)\n",
    "    WaveDelays=zeros(Float32,nrunners)\n",
    "    WaveInitSpeeds=zeros(Float32,nrunners)\n",
    "    SlopeFactors=rand(Uniform(-13.0,-3.0),nrunners)\n",
    "    \n",
    "    # Redefine AvgTimes and SlopeFactors for the exception runners\n",
    "    if length(exceptionrunners)>0\n",
    "        for runner in exceptionrunners\n",
    "            AvgTimes[Int(runner[1])]=runner[2]\n",
    "            SlopeFactors[Int(runner[1])]=runner[3]\n",
    "        end\n",
    "    end\n",
    "\n",
    "    # Position along the start line\n",
    "    NinWaves=Int.(zeros(Float32,nwaves))\n",
    "    for wave in range(1,nwaves)\n",
    "        NinWaves[wave]=sum(mixwaves[wave, 1: nwaves])\n",
    "    end\n",
    "\n",
    "    itemcount=0\n",
    "    for (nwave,nrunners) in enumerate(NinWaves)\n",
    "        linecounter=0\n",
    "        for i in range(1,nrunners)\n",
    "            # To avoid truncations due to the cubic spline\n",
    "            auxwidthcontrl=Int(floor(course.cspline_width(-linecounter*ldist)+0.5))\n",
    "\n",
    "            if (i+1)%auxwidthcontrl==0\n",
    "                linecounter+=1\n",
    "            end\n",
    "            InitPositions[i+itemcount]=-linecounter*ldist#+0.30*np.random.random_sample()-0.15\n",
    "            WaveDelays[i+itemcount]=wavedelays[nwave]+linecounter*ReactionLineTime\n",
    "            WaveInitSpeeds[i+itemcount]=waveinitspeeds[nwave]\n",
    "        end\n",
    "        itemcount+=nrunners\n",
    "    end\n",
    "    AvgTimes, RandDist, NinWaves,InitPositions, WaveDelays,WaveInitSpeeds,SlopeFactors\n",
    "end"
   ]
  },
  {
   "cell_type": "markdown",
   "id": "meaning-evidence",
   "metadata": {},
   "source": [
    "## Setting the speed profiles, initial positions, etc "
   ]
  },
  {
   "cell_type": "code",
   "execution_count": 17,
   "id": "3789fcad",
   "metadata": {
    "ExecuteTime": {
     "end_time": "2022-09-23T18:47:42.865000+01:00",
     "start_time": "2022-09-23T17:47:29.789Z"
    }
   },
   "outputs": [
    {
     "name": "stdout",
     "output_type": "stream",
     "text": [
      ">Control PreProcessing: partitions Float32[0.0, 0.3333, 0.6666, 1.0]\n",
      ">Control PreProcessing: number of waves3\n"
     ]
    }
   ],
   "source": [
    "const (AvgTimes, RandDist, NinWaves,InitPositions, \n",
    "    WaveDelays, WaveInitSpeeds, SlopeFactors)= inversepseudosigmoid(exceptionrunners);"
   ]
  },
  {
   "cell_type": "markdown",
   "id": "accessible-dynamics",
   "metadata": {},
   "source": [
    "### Scatter plot of the times distributions accordingly to the wave mixtures"
   ]
  },
  {
   "cell_type": "code",
   "execution_count": 18,
   "id": "cbb2d8bd",
   "metadata": {
    "ExecuteTime": {
     "end_time": "2022-09-23T18:47:42.867000+01:00",
     "start_time": "2022-09-23T17:47:29.981Z"
    }
   },
   "outputs": [],
   "source": [
    "if false\n",
    "    plot(AcumulatedRelativeRunnerDist,CubicSpline(AcumulatedRelativeRunnerDist,TimeBins,\n",
    "        extrapl=[1, ], extrapr=[1, ])[AcumulatedRelativeRunnerDist],linecolor = :red,lw=2)\n",
    "    plot!(RandDist,sort(AvgTimes),seriestype = :scatter,title=\"Random Times Distribution\",\n",
    "        markersize=0.3,markeralpha = 0.4,markercolor = :blue )\n",
    "end"
   ]
  },
  {
   "cell_type": "markdown",
   "id": "wicked-feeding",
   "metadata": {},
   "source": [
    "### Defining a struct for each runner data "
   ]
  },
  {
   "cell_type": "code",
   "execution_count": 19,
   "id": "7e20a13a",
   "metadata": {
    "ExecuteTime": {
     "end_time": "2022-09-23T18:47:42.870000+01:00",
     "start_time": "2022-09-23T17:47:30.170Z"
    }
   },
   "outputs": [],
   "source": [
    "struct Frunner\n",
    "    time::Float32\n",
    "    wavedelay::Float32\n",
    "    waveinitspeed::Float32\n",
    "    initposition::Float32\n",
    "    slopefactor::Float32\n",
    "\n",
    "    avgspeed::Float32\n",
    "    pos::Vector{Float32}\n",
    "    vels::Vector{Float32}\n",
    "    rhos::Vector{Float32}\n",
    "end"
   ]
  },
  {
   "cell_type": "code",
   "execution_count": 20,
   "id": "3b78c295",
   "metadata": {
    "ExecuteTime": {
     "end_time": "2022-09-23T18:47:42.871000+01:00",
     "start_time": "2022-09-23T17:47:30.174Z"
    }
   },
   "outputs": [],
   "source": [
    "avgspeed(time)=(10000.0/(time*60.0)); # meters per second"
   ]
  },
  {
   "cell_type": "code",
   "execution_count": 21,
   "id": "dc306ee3",
   "metadata": {
    "ExecuteTime": {
     "end_time": "2022-09-23T18:47:42.985000+01:00",
     "start_time": "2022-09-23T17:47:30.178Z"
    }
   },
   "outputs": [
    {
     "data": {
      "text/plain": [
       "pos (generic function with 1 method)"
      ]
     },
     "execution_count": 21,
     "metadata": {},
     "output_type": "execute_result"
    }
   ],
   "source": [
    "function pos(initposition)\n",
    "    aux=zeros(parameters.observernsteps)\n",
    "    aux[1]=initposition\n",
    "    aux\n",
    "end"
   ]
  },
  {
   "cell_type": "code",
   "execution_count": 22,
   "id": "5a2bcdcc",
   "metadata": {
    "ExecuteTime": {
     "end_time": "2022-09-23T18:47:42.999000+01:00",
     "start_time": "2022-09-23T17:47:30.182Z"
    }
   },
   "outputs": [],
   "source": [
    "vels=zeros(parameters.observernsteps)\n",
    "rhos=zeros(parameters.observernsteps);"
   ]
  },
  {
   "cell_type": "code",
   "execution_count": 23,
   "id": "6acc67d1",
   "metadata": {
    "ExecuteTime": {
     "end_time": "2022-09-23T18:47:43+01:00",
     "start_time": "2022-09-23T17:47:30.186Z"
    }
   },
   "outputs": [],
   "source": [
    "Frunner(time,wavedelay,waveinitspeed,initposition,slopefactor)=\n",
    "Frunner(time,wavedelay,waveinitspeed,initposition,slopefactor,\n",
    "        avgspeed(time),pos(initposition),vels,rhos);"
   ]
  },
  {
   "cell_type": "markdown",
   "id": "composed-farmer",
   "metadata": {},
   "source": [
    "## Runners struct (container for all data)"
   ]
  },
  {
   "cell_type": "code",
   "execution_count": 24,
   "id": "f2ca9621",
   "metadata": {
    "ExecuteTime": {
     "end_time": "2022-09-23T18:47:43.003000+01:00",
     "start_time": "2022-09-23T17:47:30.375Z"
    }
   },
   "outputs": [],
   "source": [
    "mutable struct Runners\n",
    "    group::Vector{Frunner}\n",
    "    nrunners::Int16\n",
    "    pos::Matrix{Float32} \n",
    "    vels::Matrix{Float32}\n",
    "    rhos::Matrix{Float32}\n",
    "    wavedelays::Vector{Float32}\n",
    "    waveinitspeeds::Vector{Float32}\n",
    "    avgspeeds::Vector{Float32}\n",
    "    slopefactors::Vector{Float32}\n",
    "end"
   ]
  },
  {
   "cell_type": "code",
   "execution_count": 25,
   "id": "85324220",
   "metadata": {
    "ExecuteTime": {
     "end_time": "2022-09-23T18:47:43.011000+01:00",
     "start_time": "2022-09-23T17:47:30.378Z"
    }
   },
   "outputs": [],
   "source": [
    "positions(group)=reduce(hcat,[runner.pos for runner in group])' # ' = transpose\n",
    "velocities(group)=reduce(hcat,[runner.vels for runner in group])'\n",
    "rhosall(group)=reduce(hcat,[runner.rhos for runner in group])'\n",
    "wavedelays(group)=[runner.wavedelay for runner in group]\n",
    "waveinitspeeds(group)=[runner.waveinitspeed for runner in group]\n",
    "avgspeeds(group)=[runner.avgspeed for runner in group]\n",
    "slopefactors(group)=[runner.slopefactor for runner in group];"
   ]
  },
  {
   "cell_type": "code",
   "execution_count": 26,
   "id": "e712fe82",
   "metadata": {
    "ExecuteTime": {
     "end_time": "2022-09-23T18:47:43.012000+01:00",
     "start_time": "2022-09-23T17:47:30.382Z"
    }
   },
   "outputs": [],
   "source": [
    "Runners(group)=Runners(group,\n",
    "                       nrunners,\n",
    "                       positions(group),\n",
    "                       velocities(group),\n",
    "                       rhosall(group),\n",
    "                       wavedelays(group),\n",
    "                       waveinitspeeds(group),\n",
    "                       avgspeeds(group),\n",
    "                       slopefactors(group));"
   ]
  },
  {
   "cell_type": "markdown",
   "id": "needed-electric",
   "metadata": {},
   "source": [
    "## Function for Rho and Group Speed (VL) computation"
   ]
  },
  {
   "cell_type": "code",
   "execution_count": 27,
   "id": "f8b70967",
   "metadata": {
    "ExecuteTime": {
     "end_time": "2022-09-23T18:47:43.152000+01:00",
     "start_time": "2022-09-23T17:47:30.569Z"
    }
   },
   "outputs": [
    {
     "data": {
      "text/plain": [
       "RhoVL! (generic function with 1 method)"
      ]
     },
     "execution_count": 27,
     "metadata": {},
     "output_type": "execute_result"
    }
   ],
   "source": [
    "function RhoVL!(R::Vector{Float32},VL::Vector{Float32},X::Vector{Float32},V::Vector{Float32},\n",
    "               allrunners::Runners,training::Bool)\n",
    "    minrho=parameters.minrho\n",
    "    maxrho=parameters.maxrho\n",
    "    minratio=parameters.minratio\n",
    "    maxratio=parameters.maxratio\n",
    "    racedistance=parameters.racedistance\n",
    "    fvdist=parameters.frontviewdistance\n",
    "    # sorted indexes of  the runners\n",
    "    sortedargs=sortperm(X)\n",
    "    # rho definition (density container)\n",
    "    #For VL calculation. average of the  slowest in front of the runner\n",
    "    foresightarea=zeros(Float32,nrunners)\n",
    "\n",
    "    # First step: counting the number of runner in the frontview  area\n",
    "     for (arg_idx, arg) in enumerate(sortedargs)\n",
    "        if X[arg]< 0.0 continue end #start counting only after crossing the starting line\n",
    "        if X[arg] > racedistance - fvdist continue end #stop near the crossing the finish line\n",
    "        foresightarea[arg]=course.foresightarea_data[ceil(Int,X[arg])+1]\n",
    "        #minn rf is the minimum number of runners in the foresight that impacts the runners speed\n",
    "\n",
    "        minn=floor(Int, minratio*foresightarea[arg]) #min number of  runners for impact area\n",
    "        maxn=floor(Int, maxratio*foresightarea[arg]) #max number of  runners for impact are\n",
    "        #println(minn,\" \",maxn)\n",
    "        # continue conditions\n",
    "        if minn<3 continue end #At least 3 runners in the impact area\n",
    "        if arg_idx+minn>length(sortedargs) continue end\n",
    "        if X[sortedargs[arg_idx+minn]]-X[arg]>= fvdist continue end\n",
    "\n",
    "        rhocounter=1.0\n",
    "        argsofguysinfront=sortedargs[arg_idx+1:min(arg_idx+maxn,nrunners)]\n",
    "         for arg_i in argsofguysinfront\n",
    "            if X[arg_i]-X[arg]>fvdist continue\n",
    "            else rhocounter+=1.0\n",
    "            end\n",
    "        end\n",
    "\n",
    "        if (rhocounter/foresightarea[arg])>maxratio\n",
    "            R[arg]=maxrho\n",
    "        elseif ((rhocounter/foresightarea[arg]<=maxratio)\n",
    "                && (rhocounter/foresightarea[arg]>=minratio))\n",
    "            D_A=rhocounter/foresightarea[arg]\n",
    "            R[arg]=(minrho*(D_A-maxratio)-maxrho*(D_A-minratio))/(minratio-maxratio)\n",
    "        end\n",
    "\n",
    "\n",
    "        lngth=floor(Int,minn/2) #\n",
    "        sortedspeeds=sort(V[argsofguysinfront])\n",
    "        slowersspeeds=sortedspeeds[1:lngth]\n",
    "        slowersavgspeed=sum(slowersspeeds)/length(slowersspeeds)\n",
    "        VL[arg]=min(slowersavgspeed,V[arg])\n",
    "    end\n",
    "    R,VL\n",
    "end"
   ]
  },
  {
   "cell_type": "markdown",
   "id": "incredible-andrew",
   "metadata": {},
   "source": [
    "## Speed function F $(\\frac{dx}{dt}=F)$"
   ]
  },
  {
   "cell_type": "code",
   "execution_count": 28,
   "id": "threaded-richards",
   "metadata": {
    "ExecuteTime": {
     "end_time": "2022-09-23T18:47:43.159000+01:00",
     "start_time": "2022-09-23T17:47:30.756Z"
    }
   },
   "outputs": [],
   "source": [
    "# Speed function \n",
    "function F(t::Float32,X::Vector{Float32},V::Vector{Float32},allrunners::Runners,training::Bool)\n",
    "    ## Some alias to simplify\n",
    "    spline=course.cspline_elev\n",
    "    VL=zeros(Float32,nrunners)\n",
    "    racedistance=parameters.racedistance\n",
    "    epsm=100\n",
    "    R=zeros(Float32,nrunners)\n",
    "\n",
    "    if training==true\n",
    "        # Race for timing reports\n",
    "         for r in 1:nrunners\n",
    "            # Stop epsm=100m after the finishing line\n",
    "            if (t <= allrunners.wavedelays[r]) || (X[r]>=racedistance+epsm)\n",
    "                V[r]=0.0\n",
    "            else\n",
    "                V[r]=(allrunners.avgspeeds[r] + CubicSplines.gradient(spline,X[r],1)*allrunners.slopefactors[r])\n",
    "            end \n",
    "        end\n",
    "    elseif training==false\n",
    "\n",
    "        RhoVL!(R,VL,X,V,allrunners,training)\n",
    "\n",
    "         for r in 1:nrunners\n",
    "            if (t <= allrunners.wavedelays[r]) || (X[r]>=racedistance+epsm)\n",
    "                V[r]=0.0\n",
    "            elseif X[r]<0 # This Condition can be improved! (wave propagation in lanes)\n",
    "                V[r]=min(allrunners.waveinitspeeds[r],allrunners.avgspeeds[r])\n",
    "            else\n",
    "                rspeed=(allrunners.avgspeeds[r]+CubicSplines.gradient(spline,X[r],1)*allrunners.slopefactors[r])\n",
    "                V[r]=(1.0-R[r])*rspeed+R[r]*VL[r]\n",
    "            end\n",
    "        end\n",
    "\n",
    "    end\n",
    "    V, R\n",
    "end"
   ]
  },
  {
   "cell_type": "markdown",
   "id": "inclusive-cookie",
   "metadata": {},
   "source": [
    "## 2nd order Runge-Kutta solver "
   ]
  },
  {
   "cell_type": "code",
   "execution_count": 29,
   "id": "atmospheric-person",
   "metadata": {
    "ExecuteTime": {
     "end_time": "2022-09-23T18:47:43.318000+01:00",
     "start_time": "2022-09-23T17:47:30.943Z"
    }
   },
   "outputs": [
    {
     "data": {
      "text/plain": [
       "rk2 (generic function with 1 method)"
      ]
     },
     "execution_count": 29,
     "metadata": {},
     "output_type": "execute_result"
    }
   ],
   "source": [
    "function rk2(allrunners::Runners,training::Bool)\n",
    "    println(\">Control OdeSystemSolvers: Entering rk2_solver\")\n",
    "    \n",
    "    obsnsteps=parameters.observernsteps\n",
    "    obststep=parameters.observertimestep\n",
    "    dt=parameters.timestep\n",
    "    nsteps=ceil(Int,parameters.endtime/dt)\n",
    "    println(\">Control OdeSystemSolvers: total number of time steps = \", nsteps)\n",
    "    avgspeeds=allrunners.avgspeeds\n",
    "    slopefactors=allrunners.slopefactors\n",
    "\n",
    "    println(\">Control OdeSystemSolvers: number of runners = \", nrunners)\n",
    "    # Container for the solutions\n",
    "    times=zeros(Float32,obsnsteps)\n",
    "\n",
    "    # Internal Copy of allrunners.positions\n",
    "    positions=allrunners.pos\n",
    "    println(\">control OdeSystemSolvers: size(positions)= \", size(positions))\n",
    "    println(\">control OdeSystemSolvers: initial positions= \", positions[nrunners-10:nrunners,1])\n",
    "\n",
    "    #println(typeof(positions))\n",
    "    velocities=zeros(Float32,nrunners,obsnsteps)\n",
    "    rhos=zeros(Float32,nrunners,obsnsteps)\n",
    "\n",
    "    X1=positions[:,1] #rk Updated positions\n",
    "    X0=positions[:,1] #rk old positions\n",
    "    V=velocities[:,1] # useless since it is 0\n",
    "\n",
    "    K1=zeros(Float32,nrunners)\n",
    "    K2=zeros(Float32,nrunners)\n",
    "    R =zeros(Float32,nrunners)\n",
    "    \n",
    "    j=0\n",
    "    for i in 0:(nsteps-1)\n",
    "        t=dt*i\n",
    "        V,R= F(t,X0, V, allrunners,training) #update velocities\n",
    "        K1=dt .* V\n",
    "        V,R=F(t+dt, X0 .+ K1, V, allrunners,training) #update velocities\n",
    "        K2=dt .* V\n",
    "        X1=X0 .+ 0.5 .* (K1 .+ K2) # update positions\n",
    "\n",
    "        ## Containers for Observer\n",
    "        if ((i+1)*dt>=(obststep*j) && i*dt<=(obststep*j))\n",
    "            delta=(j*obststep-i*dt)/dt\n",
    "            beta=1.0-delta\n",
    "            times[j+1]=obststep*(j+1)\n",
    "            ## interpolations\n",
    "            positions[:,j+1]= beta .* X0 .+ delta .*X1\n",
    "            velocities[:,j+1]=V #beta .* velocities[:,j] .+delta.* V\n",
    "            rhos[:,j+1]=R #beta .* rhos[:,j] .+ delta .* R\n",
    "            if (j+1 == obsnsteps) break end\n",
    "            j+=1\n",
    "        end\n",
    "        X0[:] .= X1[:]\n",
    "    end\n",
    "    \n",
    "    times, positions,velocities, rhos\n",
    "end;\n",
    "solver=rk2"
   ]
  },
  {
   "cell_type": "markdown",
   "id": "fixed-craps",
   "metadata": {},
   "source": [
    "## Race processing function"
   ]
  },
  {
   "cell_type": "code",
   "execution_count": 30,
   "id": "5b9834aa",
   "metadata": {
    "ExecuteTime": {
     "end_time": "2022-09-23T18:47:43.439000+01:00",
     "start_time": "2022-09-23T17:47:31.134Z"
    }
   },
   "outputs": [
    {
     "data": {
      "text/plain": [
       "race (generic function with 1 method)"
      ]
     },
     "execution_count": 30,
     "metadata": {},
     "output_type": "execute_result"
    }
   ],
   "source": [
    "function race(raceswitch::Bool)\n",
    "    if raceswitch==true strng=\"Race\"\n",
    "    else strng=\"Training\"\n",
    "    end\n",
    "    println(\">control $strng: model\")\n",
    "    runnerslist=Array{Frunner,1}(undef, nrunners)\n",
    "    for i in 1:nrunners\n",
    "        runnerslist[i]=Frunner(AvgTimes[i],WaveDelays[i],WaveInitSpeeds[i],InitPositions[i],SlopeFactors[i])\n",
    "    end\n",
    "    allrunners=Runners(runnerslist)\n",
    "    println(\">control $strng: sizes(allrunners.group)= \", size(allrunners.group))\n",
    "    println(\">control $strng: Pre-Processing done\")\n",
    "    println(\">control $strng: Starting $strng Simulation\")\n",
    "    times, allrunners.pos, allrunners.vels, allrunners.rhos=solver(allrunners,!raceswitch)\n",
    "    println(\">Control $strng: Processing done\")\n",
    "    times, allrunners\n",
    "end"
   ]
  },
  {
   "cell_type": "markdown",
   "id": "continuous-signal",
   "metadata": {},
   "source": [
    "## Training race (free running)"
   ]
  },
  {
   "cell_type": "code",
   "execution_count": 31,
   "id": "9c6ae0cd",
   "metadata": {
    "ExecuteTime": {
     "end_time": "2022-09-23T18:49:52.538000+01:00",
     "start_time": "2022-09-23T17:47:31.316Z"
    }
   },
   "outputs": [
    {
     "name": "stdout",
     "output_type": "stream",
     "text": [
      ">control Training: model\n",
      ">control Training: sizes(allrunners.group)= (10000,)\n",
      ">control Training: Pre-Processing done\n",
      ">control Training: Starting Training Simulation\n",
      ">Control OdeSystemSolvers: Entering rk2_solver\n",
      ">Control OdeSystemSolvers: total number of time steps = 20200\n",
      ">Control OdeSystemSolvers: number of runners = 10000\n",
      ">control OdeSystemSolvers: size(positions)= (10000, 8080)\n",
      ">control OdeSystemSolvers: initial positions= Float32[-103.5, -103.5, -103.5, -104.0, -104.0, -104.0, -104.0, -104.0, -104.0, -104.0, -104.0]\n",
      ">Control Training: Processing done\n",
      ">Elapsed time=128.66885429\n"
     ]
    }
   ],
   "source": [
    "t=@elapsed begin \n",
    "    times , alltrainees = race(false) \n",
    "end\n",
    "println(\">Elapsed time=\", t)"
   ]
  },
  {
   "cell_type": "markdown",
   "id": "considerable-florida",
   "metadata": {},
   "source": [
    "## Race"
   ]
  },
  {
   "cell_type": "code",
   "execution_count": null,
   "id": "square-habitat",
   "metadata": {
    "ExecuteTime": {
     "start_time": "2022-09-23T17:47:31.497Z"
    }
   },
   "outputs": [],
   "source": [
    "t= @elapsed begin \n",
    "        _ , allrunners= race(true)\n",
    "end\n",
    "println(\">Elapsed time=\", t)"
   ]
  },
  {
   "cell_type": "markdown",
   "id": "alien-photography",
   "metadata": {},
   "source": [
    "## Post-Processing functions"
   ]
  },
  {
   "cell_type": "markdown",
   "id": "absolute-intake",
   "metadata": {},
   "source": [
    "### Positions snapshot"
   ]
  },
  {
   "cell_type": "code",
   "execution_count": null,
   "id": "7d4bb257",
   "metadata": {
    "ExecuteTime": {
     "start_time": "2022-09-23T17:47:31.855Z"
    }
   },
   "outputs": [],
   "source": [
    "function snapshot(steps,allrunners,ninwaves)\n",
    "    xs = range(start=minimum(course.x_data), stop=maximum(course.x_data), length=1000)\n",
    "    ys=course.cspline_elev(xs)\n",
    "    ws=course.cspline_width(xs)\n",
    "    yws=zeros(length(ys))\n",
    "    yws .= ys .+ ws\n",
    "\n",
    "    println(\"Control PostProcessing: number of snapshots \", length(steps))\n",
    "    for step in steps\n",
    "        time=Int(step*parameters.observertimestep)\n",
    "        X=allrunners.pos[:, step]\n",
    "        YWS=zeros(nrunners)\n",
    "        for r in 1:nrunners\n",
    "            YWS[r]=rand(Uniform(0,1))*course.cspline_width(X[r])+course.cspline_elev(X[r])\n",
    "        end\n",
    "\n",
    "        colors=[\"orange\",\"cyan\",\"green\",\"purple\",\"brown\",\"pink\",\"gray\",\"azure\",\"olive\",\"blue\"]\n",
    "        nwaves=size(ninwaves)[1]\n",
    "\n",
    "        plot(xs, ys,title=\"Race Snapshot t=$time (s)\",label=\"Elevation\")\n",
    "        xlabel!(\"Course length (m)\")\n",
    "        ylabel!(\"Course elevation (m)\")\n",
    "        plot!(xs,yws,label=\"Width\")\n",
    "        wb=1\n",
    "        we=0\n",
    "        n=0\n",
    "        for (color,counter) in zip(colors[1:nwaves],ninwaves)\n",
    "            n+=1\n",
    "            we+=counter\n",
    "            plot!(X[wb:we],YWS[wb:we],seriestype = :scatter,\n",
    "                  markersize=0.3,\n",
    "                  markeralpha = 1.0,\n",
    "                  markerstrokecolor =color,\n",
    "                  label=\"wave $n\")\n",
    "            wb=we+1\n",
    "        end\n",
    "        display(plot!(size=(900,275))) \n",
    "        #tm=lpad(time,4,\"0\")\n",
    "        #savefig(\"./reports/pngs/snapshot$tm.png\")\n",
    "    end\n",
    "end\n"
   ]
  },
  {
   "cell_type": "markdown",
   "id": "auburn-production",
   "metadata": {},
   "source": [
    "### Histogram snapshot"
   ]
  },
  {
   "cell_type": "code",
   "execution_count": null,
   "id": "published-exploration",
   "metadata": {
    "ExecuteTime": {
     "start_time": "2022-09-23T17:47:32.040Z"
    }
   },
   "outputs": [],
   "source": [
    "function histsnapshot(steps,allrunners)\n",
    "    println(\"Control PostProcessing: number of histsnapshots \", length(steps))\n",
    "    for step in steps\n",
    "        bins=0:round(Int,parameters.frontviewdistance):round(Int,parameters.racedistance)\n",
    "        display(histogram(allrunners.pos[:,step],bins=bins,label=false,ylims=(0,100),size=(900,300)))\n",
    "        xlabel!(\"Road (m)\")\n",
    "        ylabel!(\"Runners per $parameters.frontviewdistance (m)\")\n",
    "    end\n",
    "end"
   ]
  },
  {
   "cell_type": "markdown",
   "id": "complicated-adolescent",
   "metadata": {},
   "source": [
    "### Motion profiles"
   ]
  },
  {
   "cell_type": "code",
   "execution_count": null,
   "id": "meaningful-antarctica",
   "metadata": {
    "ExecuteTime": {
     "start_time": "2022-09-23T17:47:32.229Z"
    }
   },
   "outputs": [],
   "source": [
    "function motionvisuals(runnersidxs,allrunners,times)\n",
    "    plot(title=\"Motion profile\")\n",
    "    xlabel!(\"Time (s)\")\n",
    "    ylabel!(\"Position (m)\")\n",
    "    for runner in runnersidxs\n",
    "        plot!(times,allrunners.pos[runner,:],lw=0.5,label=string(runner))#,label=false)\n",
    "    end\n",
    "    display(plot!(size=(800,400)))\n",
    "end"
   ]
  },
  {
   "cell_type": "markdown",
   "id": "local-traffic",
   "metadata": {},
   "source": [
    "### Speed profiles"
   ]
  },
  {
   "cell_type": "code",
   "execution_count": null,
   "id": "alive-address",
   "metadata": {
    "ExecuteTime": {
     "start_time": "2022-09-23T17:47:32.422Z"
    }
   },
   "outputs": [],
   "source": [
    "function speedsvisuals(runnersidxs,allrunners,times)\n",
    "    plot(title=\"Speed Profile\")\n",
    "    xlabel!(\"Time (s)\")\n",
    "    ylabel!(\"Speed (m/s)\")\n",
    "\n",
    "    for runner in runnersidxs #range(group.size):\n",
    "        plot!(times,allrunners.vels[runner,:],lw=0.5,label=string(runner))\n",
    "    end\n",
    "    display(plot!(dpi=300))\n",
    "    savefig(\"./speedprofile.png\")\n",
    "end"
   ]
  },
  {
   "cell_type": "markdown",
   "id": "informal-snowboard",
   "metadata": {},
   "source": [
    "### Phase (x=position,y=speed)"
   ]
  },
  {
   "cell_type": "code",
   "execution_count": null,
   "id": "modified-maria",
   "metadata": {
    "ExecuteTime": {
     "start_time": "2022-09-23T17:47:32.613Z"
    }
   },
   "outputs": [],
   "source": [
    "function phasevisuals(runnersidxs,allrunners)\n",
    "    plot(title=\"Phase Profile\")\n",
    "    xlabel!(\"Position (m)\")\n",
    "    ylabel!(\"Speed (m/s)\")\n",
    "    for runner in runnersidxs\n",
    "        plot!(allrunners.pos[runner,:],allrunners.vels[runner,:],lw=0.5,label=string(runner))\n",
    "    end\n",
    "    display(plot!(size=(800,400)))\n",
    "end"
   ]
  },
  {
   "cell_type": "markdown",
   "id": "gross-funeral",
   "metadata": {},
   "source": [
    "### Rho profiles"
   ]
  },
  {
   "cell_type": "code",
   "execution_count": null,
   "id": "northern-mounting",
   "metadata": {
    "ExecuteTime": {
     "start_time": "2022-09-23T17:47:32.802Z"
    }
   },
   "outputs": [],
   "source": [
    "function rhosvisuals(runnersidxs,allrunners,times)\n",
    "    plot(title=\"Rho Profile\")\n",
    "    xlabel!(\"Time (s)\")\n",
    "    ylabel!(\"Rho\")\n",
    "\n",
    "    for runner in runnersidxs\n",
    "        plot!(times,allrunners.rhos[runner,:],ms=3,label=string(runner),seriestype = :scatter)\n",
    "    end\n",
    "    display(plot!(size=(800,400)))\n",
    "end"
   ]
  },
  {
   "cell_type": "code",
   "execution_count": null,
   "id": "upset-overview",
   "metadata": {
    "ExecuteTime": {
     "start_time": "2022-09-23T17:47:32.806Z"
    }
   },
   "outputs": [],
   "source": [
    "function burstsvisuals(runnersidxs,allrunners,times,gap)\n",
    "    bursts=zeros(length(runnersidxs))\n",
    "    for (idx,runner) in enumerate(runnersidxs)\n",
    "        bursts[idx]=sum(x->x>0.3,allrunners.rhos[runner,:]) \n",
    "    end\n",
    "    \n",
    "    plot(title=\"Number of at least\"*string(gap)*\"seconds blocks running slower\")\n",
    "    plot!(runnersidxs,bursts,ms=3,seriestype = :scatter)\n",
    "    display(plot!(size=(800,400)))\n",
    "end"
   ]
  },
  {
   "cell_type": "markdown",
   "id": "developed-respondent",
   "metadata": {},
   "source": [
    "## Post-Processing"
   ]
  },
  {
   "cell_type": "code",
   "execution_count": null,
   "id": "083c5cbd",
   "metadata": {
    "ExecuteTime": {
     "start_time": "2022-09-23T17:47:33.037Z"
    }
   },
   "outputs": [],
   "source": [
    "if true\n",
    "    snapshot(2000,allrunners,NinWaves)\n",
    "end"
   ]
  },
  {
   "cell_type": "markdown",
   "id": "beneficial-offense",
   "metadata": {},
   "source": [
    "#### Density of runners in a certain time step "
   ]
  },
  {
   "cell_type": "code",
   "execution_count": null,
   "id": "breeding-while",
   "metadata": {
    "ExecuteTime": {
     "start_time": "2022-09-23T17:47:33.152Z"
    }
   },
   "outputs": [],
   "source": [
    "if false \n",
    "    histsnapshot(1000,allrunners)\n",
    "end"
   ]
  },
  {
   "cell_type": "markdown",
   "id": "instructional-homeless",
   "metadata": {},
   "source": [
    "#### Plot the position of certain runners as function of time"
   ]
  },
  {
   "cell_type": "code",
   "execution_count": null,
   "id": "smooth-projector",
   "metadata": {
    "ExecuteTime": {
     "start_time": "2022-09-23T17:47:33.268Z"
    }
   },
   "outputs": [],
   "source": [
    "if false\n",
    "    motionvisuals(team,allrunners,times)\n",
    "end"
   ]
  },
  {
   "cell_type": "markdown",
   "id": "adjusted-supervision",
   "metadata": {},
   "source": [
    "#### Plot the speed of certain runners as function of time"
   ]
  },
  {
   "cell_type": "code",
   "execution_count": null,
   "id": "powered-workshop",
   "metadata": {
    "ExecuteTime": {
     "start_time": "2022-09-23T17:47:33.381Z"
    }
   },
   "outputs": [],
   "source": [
    "if true\n",
    "    speedsvisuals([376,4678,8026],allrunners,times)\n",
    "end"
   ]
  },
  {
   "cell_type": "markdown",
   "id": "respective-omaha",
   "metadata": {},
   "source": [
    "#### Plot the speed of certain runners as function of their positions"
   ]
  },
  {
   "cell_type": "code",
   "execution_count": null,
   "id": "stylish-alcohol",
   "metadata": {
    "ExecuteTime": {
     "start_time": "2022-09-23T17:47:33.490Z"
    }
   },
   "outputs": [],
   "source": [
    "if false\n",
    "    phasevisuals(team,allrunners)\n",
    "end"
   ]
  },
  {
   "cell_type": "markdown",
   "id": "antique-treasury",
   "metadata": {},
   "source": [
    "#### Plot the evolution of Rho for certain runners"
   ]
  },
  {
   "cell_type": "code",
   "execution_count": null,
   "id": "subject-compilation",
   "metadata": {
    "ExecuteTime": {
     "start_time": "2022-09-23T17:47:33.599Z"
    }
   },
   "outputs": [],
   "source": [
    "if false\n",
    "    rhosvisuals(team,allrunners,times)\n",
    "end"
   ]
  },
  {
   "cell_type": "markdown",
   "id": "polar-theme",
   "metadata": {},
   "source": [
    "#### Plot the number of instants where the velocity is affected by density "
   ]
  },
  {
   "cell_type": "code",
   "execution_count": null,
   "id": "assigned-ceramic",
   "metadata": {
    "ExecuteTime": {
     "start_time": "2022-09-23T17:47:33.715Z"
    }
   },
   "outputs": [],
   "source": [
    "if false\n",
    "    burstsvisuals(1:nrunners,allrunners,times,1) #Counting bursts for all runners\n",
    "end"
   ]
  },
  {
   "cell_type": "markdown",
   "id": "isolated-debut",
   "metadata": {},
   "source": [
    "## Extra Post-Processing:\n",
    "### Functions for race (partial) timings, metrics and team reports"
   ]
  },
  {
   "cell_type": "markdown",
   "id": "direct-falls",
   "metadata": {},
   "source": [
    "### Defining partial distances for Post-Processing times"
   ]
  },
  {
   "cell_type": "code",
   "execution_count": null,
   "id": "paperback-victoria",
   "metadata": {
    "ExecuteTime": {
     "start_time": "2022-09-23T17:47:33.939Z"
    }
   },
   "outputs": [],
   "source": [
    "dists=500.0 .* [x for x in 1:20] # Partial distances\n",
    "ndists=length(dists)\n",
    "bdt=10.0; #Time interval for bursts measurement"
   ]
  },
  {
   "cell_type": "code",
   "execution_count": null,
   "id": "civilian-first",
   "metadata": {
    "ExecuteTime": {
     "start_time": "2022-09-23T17:47:33.943Z"
    },
    "code_folding": []
   },
   "outputs": [],
   "source": [
    "function reports(times,allrunners,allrunners_training,team)\n",
    "    par=parameters\n",
    "    ndists=length(dists)\n",
    "    starttimes=zeros(nrunners)\n",
    "    endtimes=zeros((nrunners,ndists))\n",
    "    runnertimes=zeros((nrunners,ndists))\n",
    "    \n",
    "\n",
    "    for runner in 1:nrunners\n",
    "        tsidx=findfirst(x->(x>0.0), allrunners.pos[runner,:])\n",
    "        starttimes[runner]=times[tsidx]\n",
    "        for (idx,dist) in enumerate(dists)\n",
    "            teidx=findfirst(x->(x > dist),allrunners.pos[runner,:])\n",
    "            endtimes[runner,idx]=times[teidx]\n",
    "        end\n",
    "    end\n",
    "    \n",
    "    println(\">control Post-Processing: Waves=\")\n",
    "    println(par.waves)\n",
    "    r0=1\n",
    "    r1=sum(Int,par.waves[1, 1:par.numberofwaves])\n",
    "    wave_departure=maximum(starttimes[r0:r1])\n",
    "    wave_time_gap_to_cross=maximum(starttimes[r0:r1])-minimum(starttimes[r0:r1])+1\n",
    "    println(\">control Post-Processing: departures computation\")\n",
    "    println(\">control Post-Processing: departures: wave: \",1, \" departure:\",  wave_departure)\n",
    "    println(\">control Post-Processing: departures: wave: \",1, \" time gap to cross:\",  wave_time_gap_to_cross)\n",
    "\n",
    "    wavetxt=\" [\"*string(par.waves[1,1:size(par.waves)[1]])[9: end-1]*\" ,0.0 ,\"*string(par.waves[1,end])*\"]\"\n",
    "    acumulated_wave_time_gap_to_cross=wave_time_gap_to_cross\n",
    "\n",
    "\n",
    "    for j in range(2,size(par.waves)[1])\n",
    "        r0+=sum(Int,par.waves[j-1, 1: par.numberofwaves])\n",
    "        r1=r0+sum(Int,par.waves[j,1: par.numberofwaves])-1\n",
    "        wave_departure=maximum(starttimes[r0:r1])\n",
    "        wavetxt*=\"\\n [\"*string(par.waves[j,1:size(par.waves)[1]])[9:end-1]*\",\"*string(acumulated_wave_time_gap_to_cross)*\n",
    "        \" + \"*string(j-1)*\"*gap ,\"*string(par.waves[j,end])*\"]\"\n",
    "        wave_time_gap_to_cross=maximum(starttimes[r0:r1])-minimum(starttimes[r0:r1])+1\n",
    "        acumulated_wave_time_gap_to_cross+=wave_time_gap_to_cross\n",
    "        println(\">control Post-Processing: departures: wave: \",j, \" departure:\",  wave_departure)\n",
    "        println(\">control Post-Processing: departures: wave: \",j, \" time gap to cross: \",  wave_time_gap_to_cross)\n",
    "    end\n",
    "\n",
    "    println(\">control Post-Processing: suggested setting for waves after initial running for tune settings\")\n",
    "    println(\">control Post-Processing: ********************************************************\")\n",
    "    println(wavetxt)\n",
    "    println(\">control Post-Processing: *********************************************************\")\n",
    "\n",
    "    for runner in 1:nrunners\n",
    "        for idx in 1:ndists\n",
    "            runnertimes[runner,idx]= endtimes[runner,idx]-starttimes[runner]\n",
    "        end\n",
    "    end\n",
    "    \n",
    "    racetime=maximum(endtimes[:,ndists])\n",
    "    slowrunners=argmax(endtimes[:,ndists])\n",
    "    mintime=minimum(runnertimes[:,ndists])\n",
    "    worsttime=maximum(runnertimes[:,ndists])\n",
    "    winrunners=argmin(runnertimes[:,ndists])\n",
    "    losrunners=argmax(runnertimes[:,ndists])\n",
    "\n",
    "    starttimes_training=zeros(nrunners)\n",
    "    endtimes_training=zeros((nrunners,ndists))\n",
    "    runnertimes_training=zeros((nrunners,ndists))\n",
    "\n",
    "    for runner in 1:nrunners\n",
    "        tsidx=findfirst(x->(x>0.0), allrunners_training.pos[runner,:])\n",
    "        starttimes_training[runner]=times[tsidx]\n",
    "        for (idx,dist) in enumerate(dists)\n",
    "            teidx=findfirst(x->(x > dist),allrunners_training.pos[runner,:])\n",
    "            endtimes_training[runner,idx]=Int(times[teidx])\n",
    "        end\n",
    "    end\n",
    "    \n",
    "     for runner in 1:nrunners\n",
    "        for idx in 1:ndists\n",
    "            runnertimes_training[runner,idx]=endtimes_training[runner,idx]-starttimes_training[runner]\n",
    "        end\n",
    "    end\n",
    "   \n",
    "    errors=zeros((nrunners,ndists))\n",
    "    for runner in 1:nrunners\n",
    "        for idx in 1:ndists\n",
    "            errors[runner,idx]=ceil(runnertimes[runner,idx])-floor(runnertimes_training[runner,idx])\n",
    "        end\n",
    "    end\n",
    "    \n",
    "    println(\">control Post-Processing: departure: runners  affected by the velocity rule at departure \",\n",
    "          length(findall(x->(x!=0.0),starttimes-starttimes_training)), \" (in seconds)\")\n",
    "    println(\">control Post-Processing: par.posweights=\")\n",
    "    println(par.posweights)\n",
    "\n",
    "    t1=par.posweights[2,2]\n",
    "    t2=par.posweights[3,2]\n",
    "    t3=par.posweights[4,2]\n",
    "    t4=par.posweights[5,2]\n",
    "    \n",
    "    w0=par.posweights[1,1]\n",
    "    w1=par.posweights[2,1]\n",
    "    w2=par.posweights[3,1]\n",
    "    w3=par.posweights[4,1]\n",
    "    w4=par.posweights[5,1]\n",
    "\n",
    "\n",
    "    errorspen=zeros(nrunners)\n",
    "    count_t1=0\n",
    "    count_t2=0\n",
    "    count_t3=0\n",
    "    count_t4=0\n",
    "\n",
    "    for (idx,error) in enumerate(errors[:,ndists])\n",
    "        if error <= t1\n",
    "            errorspen[idx]=error*w1\n",
    "            count_t1+=1\n",
    "        elseif t1 < error <= t2\n",
    "            errorspen[idx]=w1*t1+(error-t1)*w2\n",
    "            count_t2+=1\n",
    "        elseif t2 < error <= t3\n",
    "            errorspen[idx]=w1*t1+(t2-t1)*w2+(error-t2)*w3\n",
    "            count_t3+=1\n",
    "        else\n",
    "            errorspen[idx]=w1*t1+(t2-t1)*w2+(t3-t2)*w3+(error-t3)*w4\n",
    "            count_t4+=1\n",
    "        end\n",
    "    end\n",
    "    println(\">control Post-Processing: number of runners with time loss in [0,\", t1,\"] is \", count_t1)\n",
    "    println(\">control Post-Processing: number of runners with time loss in ]\",t1,\",\", t2,\"] is \", count_t2)\n",
    "    println(\">control Post-Processing: number of runners with time loss in ]\",t2,\",\", t3,\"] is \", count_t3)\n",
    "    println(\">control Post-Processing: number of runners with time loss > \",t3, \" is \", count_t4)\n",
    "\n",
    "    errorspen .+= w0 .* starttimes\n",
    "    println(\">control Post-Processing: waves description: errors computation for metric\")\n",
    "    r0=1\n",
    "    r1=1\n",
    "     for j in range(2,size(par.waves)[1])\n",
    "         r0+=sum(Int,par.waves[j-1, 1:par.numberofwaves])\n",
    "         r1=r0+sum(Int,par.waves[j, 1:par.numberofwaves])\n",
    "         errorspen[r0:r1-1].-= w0.*par.waves[j,par.numberofwaves+1]\n",
    "         println(\">control Post-Processing:  wave \",\n",
    "                 j-1, \"start: \",r0,\" wave end: \",r1-1,\", \",par.waves[j,par.numberofwaves+1])\n",
    "     end\n",
    "\n",
    "    println(\">control Post-Processing: race time: \", racetime, \" (in seconds)\")\n",
    "    println(\">control Post-Processing: slowest racer: \", slowrunners)\n",
    "    println(\">control Post-Processing: best race time: \", mintime, \" (in seconds)\")\n",
    "    println(\">control Post-Processing: winner: \", winrunners)\n",
    "    println(\">control Post-Processing: worst race time: \", worsttime, \" (in seconds)\")\n",
    "    println(\">control Post-Processing: last: \", losrunners)\n",
    "    \n",
    "    losttimesperkm=zeros(Int,(nrunners,ndists))\n",
    "    for runner in 1:nrunners\n",
    "        losttimesperkm[runner,1]=errors[runner,1]\n",
    "        for idx in 2:ndists\n",
    "            losttimesperkm[runner,idx]=ceil(Int,errors[runner,idx])-floor(Int,errors[runner,idx-1])\n",
    "        end\n",
    "    end\n",
    "\n",
    "    metricerror=sum(errorspen)/length(errorspen)\n",
    "    println(\">control Post-Processing: metric error: \", metricerror)\n",
    "    l1error=norm(errors[:,ndists],1)/length(errors[:,ndists])\n",
    "    println(\">control Post-Processing: Average lost time (l1 error): \", l1error, \" (in seconds)\")\n",
    "    println(\">control Post-Processing: Average lost time per runner per partial distance: \") \n",
    "    println(\">=\",ceil.(Int,mean(losttimesperkm,dims=1)), \" (in seconds)\")\n",
    "    println(\">control Post-Processing: Counter of runners that lost >\",bdt,\"(s) in each partial distance: \") \n",
    "    \n",
    "    counters=zeros(Int,ndists)\n",
    "    for i in 1:ndists\n",
    "        counters[i]=count(x->(x>bdt),losttimesperkm[:,i])\n",
    "    end\n",
    "    println(\">\",counters)\n",
    "    \n",
    "    sortedargs=sortperm(runnertimes[:,ndists])\n",
    "    println(\">>>>>>>>>>>>>>>>>>>>>>>>>>>>>>>>>>>>>>>>>>>>>>>>>>>>>>>>>>>>>>>>>>>>>>\")\n",
    "    println(\">>>>>>>>>>>>>>>>>>>>>>>>>>>>>>>>>>>>>>>>>>>>>>>>>>>>>>>>>>>>>>>>>>>>>>\")\n",
    "    println(\">control Post-Processing: team runners\")\n",
    "    for runneridx in team\n",
    "        println(\">>>>>>>>>>>>>>>>>>>>>>>>>>>>>>>>>>>>>>>>>>>>>>>>>>>>>>>>>>>>>>>>>>\")\n",
    "        println(\">control Post-Processing: runner[$runneridx]\")\n",
    "        println(\">control Post-Processing: Average speeds=\", allrunners.avgspeeds[runneridx], \" (in meter per second)\")\n",
    "        println(\">control Post-Processing: Slope factor=\", allrunners.slopefactors[runneridx])\n",
    "        println(\">control Post-Processing: Wave delay time=\", allrunners.wavedelays[runneridx], \" (in seconds)\")\n",
    "        println(\">control Post-Processing: Initial position=\", allrunners.pos[runneridx,1],\" (in meters)\")\n",
    "        println(\">control Post-Processing: Race time=\")\n",
    "        println(\">=\",runnertimes[runneridx,:],\" (in seconds)\")\n",
    "        println(\">control Post-Processing: Finishing time=\")\n",
    "        println(\">=\",endtimes[runneridx,:], \" (in seconds)\")\n",
    "        println(\">control Post-Processing: Cumulative Lost times per Km=\")\n",
    "        println(\">=\",errors[runneridx,:], \" (in seconds)\")\n",
    "        println(\">control Post-Processing: Lost time per Km=\")\n",
    "        println(\">=\",losttimesperkm[runneridx,:], \" (in seconds)\")\n",
    "        println(\">control Post-Processing: Metric error=\", errorspen[runneridx])\n",
    "        println(\">control Post-Processing: Final position=\",findfirst(x->x==runneridx,sortedargs))\n",
    "    end\n",
    "    \n",
    "    runnertimes, runnertimes_training,errors,errorspen,racetime, losttimesperkm\n",
    "    \n",
    "end"
   ]
  },
  {
   "cell_type": "code",
   "execution_count": null,
   "id": "harmful-night",
   "metadata": {
    "ExecuteTime": {
     "start_time": "2022-09-23T17:47:33.947Z"
    },
    "code_folding": []
   },
   "outputs": [],
   "source": [
    "function plottimes(runnertimes,runnertimes_training)\n",
    "     plot(1:nrunners,runnertimes[:,ndists],ms=0.5,label=\"Race\",seriestype = :scatter,\n",
    "         markerstrokecolor = \"orange\",\n",
    "         reuse=false)\n",
    "    ylabel!(\"Time in seconds\")\n",
    "    xlabel!(\"Runner index\")\n",
    "    plot!(team,runnertimes[team,ndists],seriestype = :scatter, markercolor = \"orange\",label=false)\n",
    "    plot!(team,runnertimes_training[team,ndists],seriestype = :scatter, markercolor = \"blue\",label=false)\n",
    "    display(plot!(1:nrunners,runnertimes_training[:,ndists],ms=0.5,label=\"Training\",seriestype = :scatter,\n",
    "         markerstrokecolor =\"blue\"))\n",
    "end"
   ]
  },
  {
   "cell_type": "code",
   "execution_count": null,
   "id": "thirty-money",
   "metadata": {
    "ExecuteTime": {
     "start_time": "2022-09-23T17:47:33.951Z"
    }
   },
   "outputs": [],
   "source": [
    "function ploterrors(errors,errorspen,racetime)\n",
    "    metricerror=sum(errorspen)/length(errorspen)\n",
    "    l1error=norm(errors[:,ndists],1)/length(errors[:,ndists])\n",
    "    plot(1:nrunners,errors[:,ndists],ms=0.5,label=\"Time lost\",\n",
    "        seriestype = :scatter, markerstrokecolor = \"orange\",\n",
    "        title=\"Averaged time and metric losses = \"*string(round(Int,l1error))*\", \"\n",
    "         *string(round(Int,metricerror)),reuse=false)\n",
    "    ylabel!(\"Time in seconds (total race time: \"*string(ceil(Int,racetime))*\")\")\n",
    "    xlabel!(\"Runner index\")\n",
    "    plot!(team,errors[team,ndists],seriestype = :scatter, markercolor = \"orange\",label=false)\n",
    "    plot!(team,errorspen[team],seriestype = :scatter, markercolor = \"blue\",label=false)\n",
    "    display(plot!(1:nrunners,errorspen,ms=0.5,label=\"Metric score\",\n",
    "            seriestype = :scatter, markerstrokecolor = \"blue\"))\n",
    "end"
   ]
  },
  {
   "cell_type": "code",
   "execution_count": null,
   "id": "excited-liberia",
   "metadata": {
    "ExecuteTime": {
     "start_time": "2022-09-23T17:47:33.954Z"
    }
   },
   "outputs": [],
   "source": [
    "function burstshistogram(losttimesperkm)\n",
    "    burstcounters=zeros(Int,nrunners)\n",
    "    for runner in 1:nrunners\n",
    "        burstcounters[runner]=count(x->(x>bdt),losttimesperkm[runner,:])\n",
    "    end\n",
    "    h=histogram(burstcounters,bins=ndists,label=false,bar_width=0.8,dpi=300)\n",
    "    xticks!([i+0.5 for i in 0:ndists],[string(i) for i in 0:ndists])\n",
    "    xlabel!(\"Number of bursts\")\n",
    "    ylabel!(\"Number of runners\")\n",
    "    display(h)\n",
    "    savefig(\"./hist.png\")\n",
    "end"
   ]
  },
  {
   "cell_type": "markdown",
   "id": "available-documentary",
   "metadata": {},
   "source": [
    "### Race reports and more plots"
   ]
  },
  {
   "cell_type": "code",
   "execution_count": null,
   "id": "czech-murder",
   "metadata": {
    "ExecuteTime": {
     "start_time": "2022-09-23T17:47:34.069Z"
    }
   },
   "outputs": [],
   "source": [
    "rt,rt_t,e,ep,rct,lt=reports(times,allrunners,alltrainees,team);"
   ]
  },
  {
   "cell_type": "code",
   "execution_count": null,
   "id": "uniform-bobby",
   "metadata": {
    "ExecuteTime": {
     "start_time": "2022-09-23T17:47:34.072Z"
    }
   },
   "outputs": [],
   "source": [
    "if false\n",
    "    plottimes(rt,rt_t)\n",
    "end"
   ]
  },
  {
   "cell_type": "code",
   "execution_count": null,
   "id": "coated-disney",
   "metadata": {
    "ExecuteTime": {
     "start_time": "2022-09-23T17:47:34.076Z"
    }
   },
   "outputs": [],
   "source": [
    "if false\n",
    "    ploterrors(e,ep,rct)\n",
    "end"
   ]
  },
  {
   "cell_type": "code",
   "execution_count": null,
   "id": "verified-credit",
   "metadata": {
    "ExecuteTime": {
     "start_time": "2022-09-23T17:47:34.080Z"
    }
   },
   "outputs": [],
   "source": [
    "if true\n",
    "    burstshistogram(lt)\n",
    "end"
   ]
  },
  {
   "cell_type": "code",
   "execution_count": null,
   "id": "caroline-geneva",
   "metadata": {},
   "outputs": [],
   "source": []
  }
 ],
 "metadata": {
  "@webio": {
   "lastCommId": null,
   "lastKernelId": null
  },
  "hide_input": false,
  "kernelspec": {
   "display_name": "Julia 1.7.1",
   "language": "julia",
   "name": "julia-1.7"
  },
  "language_info": {
   "file_extension": ".jl",
   "mimetype": "application/julia",
   "name": "julia",
   "version": "1.7.1"
  },
  "latex_envs": {
   "LaTeX_envs_menu_present": true,
   "autoclose": false,
   "autocomplete": true,
   "bibliofile": "biblio.bib",
   "cite_by": "apalike",
   "current_citInitial": 1,
   "eqLabelWithNumbers": true,
   "eqNumInitial": 1,
   "hotkeys": {
    "equation": "Ctrl-E",
    "itemize": "Ctrl-I"
   },
   "labels_anchors": false,
   "latex_user_defs": false,
   "report_style_numbering": false,
   "user_envs_cfg": false
  },
  "varInspector": {
   "cols": {
    "lenName": 16,
    "lenType": 16,
    "lenVar": 40
   },
   "kernels_config": {
    "python": {
     "delete_cmd_postfix": "",
     "delete_cmd_prefix": "del ",
     "library": "var_list.py",
     "varRefreshCmd": "print(var_dic_list())"
    },
    "r": {
     "delete_cmd_postfix": ") ",
     "delete_cmd_prefix": "rm(",
     "library": "var_list.r",
     "varRefreshCmd": "cat(var_dic_list()) "
    }
   },
   "types_to_exclude": [
    "module",
    "function",
    "builtin_function_or_method",
    "instance",
    "_Feature"
   ],
   "window_display": false
  }
 },
 "nbformat": 4,
 "nbformat_minor": 5
}
