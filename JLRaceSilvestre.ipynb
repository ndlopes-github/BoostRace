{
 "cells": [
  {
   "cell_type": "markdown",
   "id": "690a5b1b",
   "metadata": {},
   "source": [
    "# Simplified 'julia' code for \"The modeling of urban races\""
   ]
  },
  {
   "cell_type": "markdown",
   "id": "mineral-glenn",
   "metadata": {
    "ExecuteTime": {
     "end_time": "2022-07-23T12:05:07.438000+01:00",
     "start_time": "2022-07-23T11:05:07.437Z"
    }
   },
   "source": [
    "## Loading required modules"
   ]
  },
  {
   "cell_type": "code",
   "execution_count": 1,
   "id": "2c462784",
   "metadata": {
    "ExecuteTime": {
     "end_time": "2022-09-14T22:21:58.807000+01:00",
     "start_time": "2022-09-14T21:21:51.521Z"
    }
   },
   "outputs": [],
   "source": [
    "using Random\n",
    "using Distributions\n",
    "using CubicSplines\n",
    "using Plots\n",
    "using Random\n",
    "using Distributions\n",
    "using LinearAlgebra\n",
    "using Interpolations\n",
    "Random.seed!(1234);"
   ]
  },
  {
   "cell_type": "markdown",
   "id": "7a0f16ec",
   "metadata": {},
   "source": [
    "## All the settings are introduced in the following cells "
   ]
  },
  {
   "cell_type": "markdown",
   "id": "daily-accessory",
   "metadata": {},
   "source": [
    "### Numerical model discretization parameters"
   ]
  },
  {
   "cell_type": "code",
   "execution_count": 2,
   "id": "2fb17b94",
   "metadata": {
    "ExecuteTime": {
     "end_time": "2022-09-14T22:22:01.061000+01:00",
     "start_time": "2022-09-14T21:21:51.745Z"
    }
   },
   "outputs": [],
   "source": [
    "const racedistance=10000.0 #race length (in meters)\n",
    "const timestep=0.4 #time step for time discretized method (in seconds)\n",
    "const observertimestep=1.0 #time interval to save data into memory (in seconds)\n",
    "const observernsteps=8080 # Number of steps saved into memory for Post-Processing\n",
    "const endtime=8080.0; #"
   ]
  },
  {
   "cell_type": "markdown",
   "id": "interested-architecture",
   "metadata": {},
   "source": [
    "### Mathematical model parameters"
   ]
  },
  {
   "cell_type": "code",
   "execution_count": 3,
   "id": "discrete-balance",
   "metadata": {
    "ExecuteTime": {
     "end_time": "2022-09-14T22:22:01.135000+01:00",
     "start_time": "2022-09-14T21:21:51.856Z"
    }
   },
   "outputs": [],
   "source": [
    "const frontviewdistance=4.0 # Linear distance in front of the runner defining his vital space\n",
    "const minratio=15.0/40.0 #Min density (ratio of runners per area unit) \n",
    "const maxratio=25.0/40.0 #Max density \n",
    "const minrho=0.4 #Min value for rho\n",
    "const maxrho=0.8 #Max value for rho\n",
    "const posweights=[0.2 0; 2.0 30;  1.5 60;  1.25 120; 1.0 100000] # Parameters defining the metric\n",
    "const ldist=0.5; #Distance between rows at the starting position (in meters)"
   ]
  },
  {
   "cell_type": "markdown",
   "id": "worth-cincinnati",
   "metadata": {},
   "source": [
    "### Race settings"
   ]
  },
  {
   "cell_type": "code",
   "execution_count": 4,
   "id": "front-russell",
   "metadata": {
    "ExecuteTime": {
     "end_time": "2022-09-14T22:22:01.183000+01:00",
     "start_time": "2022-09-14T21:21:51.966Z"
    }
   },
   "outputs": [],
   "source": [
    "const gap=180 # Time gap between consecutive waves\n",
    "const waves=[3000 166 167 0.0 3.34;\n",
    "        166  3000 167 (145 +1*gap) 2.92;\n",
    "        167 167 3000 (283.0+2*gap) 2.5]; # Configuration of wave mixtures "
   ]
  },
  {
   "cell_type": "markdown",
   "id": "aquatic-manor",
   "metadata": {},
   "source": [
    "### Course definition"
   ]
  },
  {
   "cell_type": "code",
   "execution_count": 5,
   "id": "cellular-honor",
   "metadata": {
    "ExecuteTime": {
     "end_time": "2022-09-14T22:22:01.206000+01:00",
     "start_time": "2022-09-14T21:21:52.089Z"
    }
   },
   "outputs": [],
   "source": [
    "const coursename=\"Silvestre\"\n",
    "const courseauxdata=[-500.0 10.0 16.0;\n",
    "    220.0 (-0.02*220) 16.0;\n",
    "    260.0 (-0.02*260) 11.0;\n",
    "    480.0 (-0.02*480) 11.0;\n",
    "    520.0 (-0.02*520) 6.0;\n",
    "    1000.0 -20.0 6.0;\n",
    "    1040.0 -20.0 8.0;\n",
    "    1500.0 -20.0 8.0;\n",
    "    2000.0 -20.0 8.0;\n",
    "    6000.0 -20.0 8.0;\n",
    "    6500.0 -20.0 8.0;\n",
    "    7460.0 13.6 8.0;\n",
    "    7500.0 15.0 16.0;\n",
    "    8500.0 50.0 16.0;\n",
    "    10000.0 0.0 16.0;\n",
    "    10500.0 (-1050.0/3.0+1000.0/3.0) 16.0];"
   ]
  },
  {
   "cell_type": "code",
   "execution_count": 6,
   "id": "eight-louisiana",
   "metadata": {
    "ExecuteTime": {
     "end_time": "2022-09-14T22:22:01.602000+01:00",
     "start_time": "2022-09-14T21:21:52.091Z"
    }
   },
   "outputs": [],
   "source": [
    "elev_interpolator=LinearInterpolation(courseauxdata[:,1], courseauxdata[:,2],extrapolation_bc=Line())\n",
    "width_interpolator=LinearInterpolation(courseauxdata[:,1], courseauxdata[:,3],extrapolation_bc=Line())\n",
    "\n",
    "N=501\n",
    "auxwidth=zeros(N)\n",
    "auxlev=zeros(N)\n",
    "x=range(-500,10500,N)\n",
    "datainterp=zeros((N,3));"
   ]
  },
  {
   "cell_type": "code",
   "execution_count": 7,
   "id": "numerical-integer",
   "metadata": {
    "ExecuteTime": {
     "end_time": "2022-09-14T22:22:01.812000+01:00",
     "start_time": "2022-09-14T21:21:52.093Z"
    }
   },
   "outputs": [],
   "source": [
    "for i in 1:N\n",
    "    datainterp[i,1]=x[i]\n",
    "    datainterp[i,2]=elev_interpolator(x[i])\n",
    "    datainterp[i,3]=width_interpolator(x[i])\n",
    "end\n",
    "const coursedata=datainterp; "
   ]
  },
  {
   "cell_type": "markdown",
   "id": "closed-block",
   "metadata": {
    "ExecuteTime": {
     "end_time": "2022-08-03T17:53:15.187000+01:00",
     "start_time": "2022-08-03T16:53:15.185Z"
    }
   },
   "source": [
    "### Defining a Team for detailed reports "
   ]
  },
  {
   "cell_type": "code",
   "execution_count": 8,
   "id": "adjustable-sacramento",
   "metadata": {
    "ExecuteTime": {
     "end_time": "2022-09-14T22:22:01.813000+01:00",
     "start_time": "2022-09-14T21:21:52.215Z"
    }
   },
   "outputs": [],
   "source": [
    "#team=rand(1:nrunners,10) #e.g., random 10 runners\n",
    "team=[478,5891,9345];  #e.g, 3 runners: 1 in the first wave, 1 in the second wave, 1 in the third wave "
   ]
  },
  {
   "cell_type": "markdown",
   "id": "comic-superior",
   "metadata": {},
   "source": [
    "### Setting specific data for certain exception runners (may be in the team or not)"
   ]
  },
  {
   "cell_type": "code",
   "execution_count": 9,
   "id": "designed-destination",
   "metadata": {
    "ExecuteTime": {
     "end_time": "2022-09-14T22:22:01.871000+01:00",
     "start_time": "2022-09-14T21:21:52.348Z"
    }
   },
   "outputs": [],
   "source": [
    "# exceptionrunners=[] # No exception runners\n",
    "# Testing the same runner in the three waves\n",
    "teamrunner1=[team[1] 38.0 -3.0] # Runner 356 with Average Time 34.0 mnts (per 10Km) and -4.0 Slope Factor\n",
    "teamrunner2=[team[2] 38.0 -3.0] # Runner 5891 with Average Time 34.0 mnts (per 10Km) and -4.0 Slope Factor\n",
    "teamrunner3=[team[3] 38.0 -3.0] # Runner 9345 with Average Time 34.0mnts(per 10Km) and -4.3 Slope Factor\n",
    "exceptionrunners=[teamrunner1, teamrunner2, teamrunner3];"
   ]
  },
  {
   "cell_type": "markdown",
   "id": "surrounded-frederick",
   "metadata": {},
   "source": [
    "### Plots switch (false= dont show plots)"
   ]
  },
  {
   "cell_type": "code",
   "execution_count": 10,
   "id": "certain-ballet",
   "metadata": {
    "ExecuteTime": {
     "end_time": "2022-09-14T22:22:02.396000+01:00",
     "start_time": "2022-09-14T21:21:52.460Z"
    }
   },
   "outputs": [
    {
     "data": {
      "text/plain": [
       "false"
      ]
     },
     "execution_count": 10,
     "metadata": {},
     "output_type": "execute_result"
    }
   ],
   "source": [
    "plots=false "
   ]
  },
  {
   "cell_type": "markdown",
   "id": "olive-magnet",
   "metadata": {},
   "source": [
    "## Parameters  struct"
   ]
  },
  {
   "cell_type": "code",
   "execution_count": 11,
   "id": "275dcc68",
   "metadata": {
    "ExecuteTime": {
     "end_time": "2022-09-14T22:22:02.400000+01:00",
     "start_time": "2022-09-14T21:21:52.567Z"
    }
   },
   "outputs": [],
   "source": [
    "struct Parameters\n",
    "    timestep::Float32\n",
    "    observertimestep::Float32\n",
    "    observernsteps::Int16\n",
    "    endtime::Float32\n",
    "    waves::Matrix{Float32}\n",
    "    frontviewdistance::Float32\n",
    "    minratio::Float32\n",
    "    maxratio::Float32\n",
    "    minrho::Float32\n",
    "    maxrho::Float32\n",
    "    posweights::Matrix{Float32}\n",
    "    ldist::Float32\n",
    "    numberofwaves::Int8\n",
    "    nrunners::Int16\n",
    "    coursename::String\n",
    "    coursedata::Matrix{Float32}\n",
    "    racedistance::Float32\n",
    "end"
   ]
  },
  {
   "cell_type": "markdown",
   "id": "dental-pennsylvania",
   "metadata": {},
   "source": [
    "### Construct the Parameters struct"
   ]
  },
  {
   "cell_type": "code",
   "execution_count": 12,
   "id": "a78f818d",
   "metadata": {
    "ExecuteTime": {
     "end_time": "2022-09-14T22:22:02.558000+01:00",
     "start_time": "2022-09-14T21:21:52.675Z"
    }
   },
   "outputs": [],
   "source": [
    "const numberofwaves=size(waves)[1]\n",
    "const nrunners=Int(sum(waves[:,1:numberofwaves]))\n",
    "const parameters=Parameters(timestep,observertimestep,observernsteps, endtime,\n",
    "               waves,frontviewdistance,minratio,maxratio,minrho,maxrho,\n",
    "               posweights,ldist, numberofwaves, nrunners, coursename,coursedata,\n",
    "               racedistance);"
   ]
  },
  {
   "cell_type": "markdown",
   "id": "fourth-inside",
   "metadata": {},
   "source": [
    "## Courses struct"
   ]
  },
  {
   "cell_type": "code",
   "execution_count": 13,
   "id": "loose-insulation",
   "metadata": {
    "ExecuteTime": {
     "end_time": "2022-09-14T22:22:02.562000+01:00",
     "start_time": "2022-09-14T21:21:52.784Z"
    }
   },
   "outputs": [],
   "source": [
    "struct Courses\n",
    "    name::String\n",
    "    x_data::Vector{Float32}\n",
    "    diff_data::Vector{Float32}\n",
    "    width_data::Vector{Float32}\n",
    "    cspline_elev::CubicSplines.CubicSpline{Float32}\n",
    "    cspline_width::CubicSplines.CubicSpline{Float32}\n",
    "    foresightarea_data::Vector{Float32}\n",
    "end"
   ]
  },
  {
   "cell_type": "markdown",
   "id": "executive-voltage",
   "metadata": {},
   "source": [
    "### Construct the Courses struct"
   ]
  },
  {
   "cell_type": "code",
   "execution_count": 14,
   "id": "5e8d15ae",
   "metadata": {
    "ExecuteTime": {
     "end_time": "2022-09-14T22:22:03.402000+01:00",
     "start_time": "2022-09-14T21:21:52.890Z"
    }
   },
   "outputs": [],
   "source": [
    "coursename=parameters.coursename\n",
    "data=parameters.coursedata;\n",
    "x_data=data[:,1]\n",
    "diff_data=data[:,2]\n",
    "width_data=data[:,3]\n",
    "cspline_elev=CubicSpline(x_data,diff_data)\n",
    "cspline_width=CubicSpline(x_data,width_data)\n",
    "\n",
    "# the course is divided in 1 bin per meter\n",
    "roadstart=0.0\n",
    "roadend=floor(Int,parameters.racedistance)\n",
    "roadbins= range(roadstart,roadend-1.0,ceil(Int,parameters.racedistance))\n",
    "foresightarea_data=zeros(size(roadbins)[1])\n",
    "\n",
    "for bin in roadbins\n",
    "    h=parameters.frontviewdistance\n",
    "    a=bin\n",
    "    b=a+h\n",
    "    wa=cspline_width(a)\n",
    "    wb=cspline_width(b)\n",
    "    foresightarea_data[floor(Int,bin)+1]=(wa+wb)*h/2.0\n",
    "end\n",
    "\n",
    "const course=Courses(coursename,x_data,diff_data,width_data,cspline_elev,cspline_width,foresightarea_data);"
   ]
  },
  {
   "cell_type": "markdown",
   "id": "downtown-mentor",
   "metadata": {},
   "source": [
    "## Plot the course elevation gain/loss and width profiles"
   ]
  },
  {
   "cell_type": "code",
   "execution_count": 15,
   "id": "2aae7579",
   "metadata": {
    "ExecuteTime": {
     "end_time": "2022-09-14T22:22:03.406000+01:00",
     "start_time": "2022-09-14T21:21:53.002Z"
    }
   },
   "outputs": [],
   "source": [
    "function plot_diff_course( )\n",
    "    xs = range(start=minimum(course.x_data), stop=maximum(course.x_data), length=1000)\n",
    "    ys=course.cspline_elev(xs)\n",
    "    display(plot(xs, ys,title=\"Elevation (m)\",reuse=false))\n",
    "end\n",
    "\n",
    "function plot_width_course()\n",
    "    xs = range(start=minimum(course.x_data), stop=maximum(course.x_data), length=1000)\n",
    "    ys=course.cspline_width(xs)\n",
    "    display(plot(xs, ys,reuse=false, title=\"Width (m)\"))\n",
    "\n",
    "end\n",
    "\n",
    "if plots\n",
    "    plot_diff_course()\n",
    "    plot_width_course()\n",
    "end"
   ]
  },
  {
   "cell_type": "markdown",
   "id": "appreciated-values",
   "metadata": {},
   "source": [
    "## Processing waves distribution and setting the speed profiles for the runners\n",
    "### Generation of average times, slope factors, initial positions, etc"
   ]
  },
  {
   "cell_type": "code",
   "execution_count": 16,
   "id": "055465a9",
   "metadata": {
    "ExecuteTime": {
     "end_time": "2022-09-14T22:22:03.528000+01:00",
     "start_time": "2022-09-14T21:21:53.126Z"
    }
   },
   "outputs": [],
   "source": [
    "TimeBins=[i for i in 30:100];\n",
    "ReactionLineTime=parameters.timestep\n",
    "\n",
    "RunnerDist=[15,18,20,17,18,18,31,40,45,72,96,88,109,131,155,192,\n",
    "            207,270,281,263,326,298,268,240,309,296,346,313,323,347,\n",
    "            286,325,281,274,291,252 ,285,220,220,207,213,180,172,145,140,\n",
    "            151,112,145,96,85,85,87,85,73,42,47,27,39,45,31,28,29,24,21,15,21,14,17,14,12,12]\n",
    "\n",
    "AcumulatedRelativeRunnerDist=cumsum(RunnerDist/sum(RunnerDist));"
   ]
  },
  {
   "cell_type": "code",
   "execution_count": 17,
   "id": "313d16a8",
   "metadata": {
    "ExecuteTime": {
     "end_time": "2022-09-14T22:22:03.801000+01:00",
     "start_time": "2022-09-14T21:21:53.129Z"
    }
   },
   "outputs": [
    {
     "data": {
      "text/plain": [
       "inversepseudosigmoid (generic function with 1 method)"
      ]
     },
     "execution_count": 17,
     "metadata": {},
     "output_type": "execute_result"
    }
   ],
   "source": [
    "\n",
    "function inversepseudosigmoid(exceptionrunnners)\n",
    "    ldist=parameters.ldist\n",
    "    nwaves=parameters.numberofwaves\n",
    "    mixwaves=Int.(parameters.waves[:,1:nwaves])\n",
    "    wavedelays=parameters.waves[:,nwaves+1]\n",
    "    waveinitspeeds=parameters.waves[:,nwaves+2]\n",
    "\n",
    "    partitions=zeros(Float32,size(mixwaves)[1]+1)\n",
    "    for part in range(1,nwaves)\n",
    "        partitions[part+1]=partitions[part]+sum(mixwaves[:,part])/nrunners\n",
    "    end\n",
    "\n",
    "    println(\">Control PreProcessing: partitions \", partitions)\n",
    "    println(\">Control PreProcessing: number of waves\",  nwaves)\n",
    "\n",
    "    waves=zeros(Float32,nrunners)\n",
    "    wb=1\n",
    "    we=1\n",
    "\n",
    "    for wave in range(1, nwaves)\n",
    "        parts=zeros(Float32,sum(mixwaves[wave, 1 : nwaves]))\n",
    "        pb=1\n",
    "        pe=1\n",
    "        for part in range(1, nwaves)\n",
    "            size=mixwaves[wave,part]\n",
    "            pe+=size\n",
    "            wavepart=rand(Uniform(partitions[part],partitions[part+1]),size)\n",
    "            parts[pb:pe-1]=wavepart\n",
    "            pb=pe\n",
    "        end\n",
    "        we+=size(parts)[1]\n",
    "        shuffle!(parts) #mix parts in each wave\n",
    "        waves[wb:we-1]=parts\n",
    "        wb=we\n",
    "    end\n",
    "\n",
    "    RandDist=waves\n",
    "    AvgTimes=CubicSpline(AcumulatedRelativeRunnerDist,TimeBins,  extrapl=[1, ], extrapr=[1, ])[RandDist]\n",
    "    InitPositions=zeros(Float32,nrunners)\n",
    "    WaveDelays=zeros(Float32,nrunners)\n",
    "    WaveInitSpeeds=zeros(Float32,nrunners)\n",
    "    SlopeFactors=rand(Uniform(-13.0,-3.0),nrunners)\n",
    "    \n",
    "    # Redefine AvgTimes and SlopeFactors for the exception runners\n",
    "    if length(exceptionrunners)>0\n",
    "        for runner in exceptionrunners\n",
    "            AvgTimes[Int(runner[1])]=runner[2]\n",
    "            SlopeFactors[Int(runner[1])]=runner[3]\n",
    "        end\n",
    "    end\n",
    "\n",
    "    # Position along the start line\n",
    "    NinWaves=Int.(zeros(Float32,nwaves))\n",
    "    for wave in range(1,nwaves)\n",
    "        NinWaves[wave]=sum(mixwaves[wave, 1: nwaves])\n",
    "    end\n",
    "\n",
    "    itemcount=0\n",
    "    for (nwave,nrunners) in enumerate(NinWaves)\n",
    "        linecounter=0\n",
    "        for i in range(1,nrunners)\n",
    "            # To avoid truncations due to the cubic spline\n",
    "            auxwidthcontrl=Int(floor(course.cspline_width(-linecounter*ldist)+0.5))\n",
    "\n",
    "            if (i+1)%auxwidthcontrl==0\n",
    "                linecounter+=1\n",
    "            end\n",
    "            InitPositions[i+itemcount]=-linecounter*ldist#+0.30*np.random.random_sample()-0.15\n",
    "            WaveDelays[i+itemcount]=wavedelays[nwave]+linecounter*ReactionLineTime\n",
    "            WaveInitSpeeds[i+itemcount]=waveinitspeeds[nwave]\n",
    "        end\n",
    "        itemcount+=nrunners\n",
    "    end\n",
    "\n",
    "    return (AvgTimes, RandDist, NinWaves,InitPositions, WaveDelays,WaveInitSpeeds,SlopeFactors)\n",
    "end"
   ]
  },
  {
   "cell_type": "markdown",
   "id": "meaning-evidence",
   "metadata": {},
   "source": [
    "## Setting the speed profiles, initial positions, etc "
   ]
  },
  {
   "cell_type": "code",
   "execution_count": 18,
   "id": "3789fcad",
   "metadata": {
    "ExecuteTime": {
     "end_time": "2022-09-14T22:22:06.226000+01:00",
     "start_time": "2022-09-14T21:21:53.258Z"
    }
   },
   "outputs": [
    {
     "name": "stdout",
     "output_type": "stream",
     "text": [
      ">Control PreProcessing: partitions Float32[0.0, 0.3333, 0.6666, 1.0]\n",
      ">Control PreProcessing: number of waves3\n"
     ]
    }
   ],
   "source": [
    "const (AvgTimes, RandDist, NinWaves,InitPositions, \n",
    "    WaveDelays, WaveInitSpeeds, SlopeFactors)= inversepseudosigmoid(exceptionrunners);"
   ]
  },
  {
   "cell_type": "markdown",
   "id": "accessible-dynamics",
   "metadata": {},
   "source": [
    "### Scatter plot of the times distributions accordingly to the wave mixtures"
   ]
  },
  {
   "cell_type": "code",
   "execution_count": 19,
   "id": "cbb2d8bd",
   "metadata": {
    "ExecuteTime": {
     "end_time": "2022-09-14T22:22:06.228000+01:00",
     "start_time": "2022-09-14T21:21:53.388Z"
    }
   },
   "outputs": [],
   "source": [
    "if plots \n",
    "    plot(AcumulatedRelativeRunnerDist,CubicSpline(AcumulatedRelativeRunnerDist,TimeBins,\n",
    "        extrapl=[1, ], extrapr=[1, ])[AcumulatedRelativeRunnerDist],linecolor = :red,lw=2)\n",
    "    plot!(RandDist,sort(AvgTimes),seriestype = :scatter,title=\"Random Times Distribution\",\n",
    "        markersize=0.3,markeralpha = 0.4,markercolor = :blue )\n",
    "end"
   ]
  },
  {
   "cell_type": "markdown",
   "id": "wicked-feeding",
   "metadata": {},
   "source": [
    "### Defining a struct for each runner data "
   ]
  },
  {
   "cell_type": "code",
   "execution_count": 20,
   "id": "7e20a13a",
   "metadata": {
    "ExecuteTime": {
     "end_time": "2022-09-14T22:22:06.231000+01:00",
     "start_time": "2022-09-14T21:21:53.497Z"
    }
   },
   "outputs": [],
   "source": [
    "struct Frunner\n",
    "    time::Float32\n",
    "    wavedelay::Float32\n",
    "    waveinitspeed::Float32\n",
    "    initposition::Float32\n",
    "    slopefactor::Float32\n",
    "\n",
    "    avgspeed::Float32\n",
    "    pos::Vector{Float32}\n",
    "    vels::Vector{Float32}\n",
    "    rhos::Vector{Float32}\n",
    "end"
   ]
  },
  {
   "cell_type": "code",
   "execution_count": 21,
   "id": "3b78c295",
   "metadata": {
    "ExecuteTime": {
     "end_time": "2022-09-14T22:22:06.232000+01:00",
     "start_time": "2022-09-14T21:21:53.498Z"
    }
   },
   "outputs": [],
   "source": [
    "avgspeed(time)=(10000.0/(time*60.0)); # metres per second"
   ]
  },
  {
   "cell_type": "code",
   "execution_count": 22,
   "id": "dc306ee3",
   "metadata": {
    "ExecuteTime": {
     "end_time": "2022-09-14T22:22:06.341000+01:00",
     "start_time": "2022-09-14T21:21:53.500Z"
    }
   },
   "outputs": [
    {
     "data": {
      "text/plain": [
       "pos (generic function with 1 method)"
      ]
     },
     "execution_count": 22,
     "metadata": {},
     "output_type": "execute_result"
    }
   ],
   "source": [
    "function pos(initposition)\n",
    "    aux=zeros(parameters.observernsteps)\n",
    "    aux[1]=initposition\n",
    "    return aux\n",
    "end"
   ]
  },
  {
   "cell_type": "code",
   "execution_count": 23,
   "id": "5a2bcdcc",
   "metadata": {
    "ExecuteTime": {
     "end_time": "2022-09-14T22:22:06.354000+01:00",
     "start_time": "2022-09-14T21:21:53.501Z"
    }
   },
   "outputs": [],
   "source": [
    "vels=zeros(parameters.observernsteps)\n",
    "rhos=zeros(parameters.observernsteps);"
   ]
  },
  {
   "cell_type": "code",
   "execution_count": 24,
   "id": "6acc67d1",
   "metadata": {
    "ExecuteTime": {
     "end_time": "2022-09-14T22:22:06.356000+01:00",
     "start_time": "2022-09-14T21:21:53.502Z"
    }
   },
   "outputs": [],
   "source": [
    "Frunner(time,wavedelay,waveinitspeed,initposition,slopefactor)=\n",
    "Frunner(time,wavedelay,waveinitspeed,initposition,slopefactor,\n",
    "        avgspeed(time),pos(initposition),vels,rhos);"
   ]
  },
  {
   "cell_type": "markdown",
   "id": "composed-farmer",
   "metadata": {},
   "source": [
    "## Runners struct (container for all data)"
   ]
  },
  {
   "cell_type": "code",
   "execution_count": 25,
   "id": "f2ca9621",
   "metadata": {
    "ExecuteTime": {
     "end_time": "2022-09-14T22:22:06.359000+01:00",
     "start_time": "2022-09-14T21:21:53.610Z"
    }
   },
   "outputs": [],
   "source": [
    "mutable struct Runners\n",
    "    group::Vector{Frunner}\n",
    "    nrunners::Int16\n",
    "    pos::Matrix{Float32} \n",
    "    vels::Matrix{Float32}\n",
    "    rhos::Matrix{Float32}\n",
    "    wavedelays::Vector{Float32}\n",
    "    waveinitspeeds::Vector{Float32}\n",
    "    avgspeeds::Vector{Float32}\n",
    "    slopefactors::Vector{Float32}\n",
    "end"
   ]
  },
  {
   "cell_type": "code",
   "execution_count": 26,
   "id": "85324220",
   "metadata": {
    "ExecuteTime": {
     "end_time": "2022-09-14T22:22:06.365000+01:00",
     "start_time": "2022-09-14T21:21:53.612Z"
    }
   },
   "outputs": [],
   "source": [
    "positions(group)=reduce(hcat,[runner.pos for runner in group])' # ' = transpose\n",
    "velocities(group)=reduce(hcat,[runner.vels for runner in group])'\n",
    "rhosall(group)=reduce(hcat,[runner.rhos for runner in group])'\n",
    "wavedelays(group)=[runner.wavedelay for runner in group]\n",
    "waveinitspeeds(group)=[runner.waveinitspeed for runner in group]\n",
    "avgspeeds(group)=[runner.avgspeed for runner in group]\n",
    "slopefactors(group)=[runner.slopefactor for runner in group];"
   ]
  },
  {
   "cell_type": "code",
   "execution_count": 27,
   "id": "e712fe82",
   "metadata": {
    "ExecuteTime": {
     "end_time": "2022-09-14T22:22:06.367000+01:00",
     "start_time": "2022-09-14T21:21:53.613Z"
    }
   },
   "outputs": [],
   "source": [
    "Runners(group)=Runners(group,\n",
    "                       nrunners,\n",
    "                       positions(group),\n",
    "                       velocities(group),\n",
    "                       rhosall(group),\n",
    "                       wavedelays(group),\n",
    "                       waveinitspeeds(group),\n",
    "                       avgspeeds(group),\n",
    "                       slopefactors(group));"
   ]
  },
  {
   "cell_type": "markdown",
   "id": "needed-electric",
   "metadata": {},
   "source": [
    "## Function for Rho and Group Speed (VL) computation"
   ]
  },
  {
   "cell_type": "code",
   "execution_count": 28,
   "id": "f8b70967",
   "metadata": {
    "ExecuteTime": {
     "end_time": "2022-09-14T22:22:06.493000+01:00",
     "start_time": "2022-09-14T21:21:53.720Z"
    }
   },
   "outputs": [
    {
     "data": {
      "text/plain": [
       "RhoVL (generic function with 1 method)"
      ]
     },
     "execution_count": 28,
     "metadata": {},
     "output_type": "execute_result"
    }
   ],
   "source": [
    "function RhoVL(R::Vector{Float32},VL::Vector{Float32},X::Vector{Float32},V::Vector{Float32},\n",
    "               allrunners::Runners,training::Bool)\n",
    "    minrho=parameters.minrho\n",
    "    maxrho=parameters.maxrho\n",
    "    minratio=parameters.minratio\n",
    "    maxratio=parameters.maxratio\n",
    "    racedistance=parameters.racedistance\n",
    "    fvdist=parameters.frontviewdistance\n",
    "    # sorted indexes of  the runners\n",
    "    sortedargs=sortperm(X)\n",
    "    # rho definition (density container)\n",
    "    #For VL calculation. average of the  slowest in front of the runner\n",
    "    foresightarea=zeros(Float32,nrunners)\n",
    "\n",
    "    # First step: counting the number of runner in the frontview  area\n",
    "     for (arg_idx, arg) in enumerate(sortedargs)\n",
    "        if X[arg]< 0.0 continue end #start counting only after crossing the starting line\n",
    "        if X[arg] > racedistance - fvdist continue end #stop near the crossing the finish line\n",
    "        foresightarea[arg]=course.foresightarea_data[ceil(Int,X[arg])+1]\n",
    "        #minn rf is the minimum number of runners in the foresight that impacts the runners speed\n",
    "\n",
    "        minn=floor(Int, minratio*foresightarea[arg]) #min number of  runners for impact area\n",
    "        maxn=floor(Int, maxratio*foresightarea[arg]) #max number of  runners for impact are\n",
    "        #println(minn,\" \",maxn)\n",
    "        # continue conditions\n",
    "        if minn<3 continue end #At least 3 runners in the impact area\n",
    "        if arg_idx+minn>length(sortedargs) continue end\n",
    "        if X[sortedargs[arg_idx+minn]]-X[arg]>= fvdist continue end\n",
    "\n",
    "        rhocounter=1.0\n",
    "        argsofguysinfront=sortedargs[arg_idx+1:min(arg_idx+maxn,nrunners)]\n",
    "         for arg_i in argsofguysinfront\n",
    "            if X[arg_i]-X[arg]>fvdist continue\n",
    "            else rhocounter+=1.0\n",
    "            end\n",
    "        end\n",
    "\n",
    "        if (rhocounter/foresightarea[arg])>maxratio\n",
    "            R[arg]=maxrho\n",
    "        elseif ((rhocounter/foresightarea[arg]<=maxratio)\n",
    "                && (rhocounter/foresightarea[arg]>=minratio))\n",
    "            D_A=rhocounter/foresightarea[arg]\n",
    "            R[arg]=(minrho*(D_A-maxratio)-maxrho*(D_A-minratio))/(minratio-maxratio)\n",
    "        end\n",
    "\n",
    "\n",
    "        lngth=floor(Int,minn/2) #\n",
    "        sortedspeeds=sort(V[argsofguysinfront])\n",
    "        slowersspeeds=sortedspeeds[1:lngth]\n",
    "        slowersavgspeed=sum(slowersspeeds)/length(slowersspeeds)\n",
    "        VL[arg]=min(slowersavgspeed,V[arg])\n",
    "    end\n",
    "    return R,VL\n",
    "end"
   ]
  },
  {
   "cell_type": "markdown",
   "id": "incredible-andrew",
   "metadata": {},
   "source": [
    "## Speed function F $(\\frac{dx}{dt}=F)$"
   ]
  },
  {
   "cell_type": "code",
   "execution_count": 29,
   "id": "threaded-richards",
   "metadata": {
    "ExecuteTime": {
     "end_time": "2022-09-14T22:22:06.498000+01:00",
     "start_time": "2022-09-14T21:21:53.825Z"
    }
   },
   "outputs": [],
   "source": [
    "# Speed function \n",
    "function F(t::Float32,X::Vector{Float32},V::Vector{Float32},allrunners::Runners,training::Bool)\n",
    "    ## Some alias to simplify\n",
    "    spline=course.cspline_elev\n",
    "    VL=zeros(Float32,nrunners)\n",
    "    racedistance=parameters.racedistance\n",
    "    epsm=100\n",
    "    R=zeros(Float32,nrunners)\n",
    "\n",
    "    if training==true\n",
    "        # Race for timing reports\n",
    "         for r in 1:nrunners\n",
    "            # Stop epsm=100m after the finishing line\n",
    "            if (t <= allrunners.wavedelays[r]) || (X[r]>=racedistance+epsm)\n",
    "                V[r]=0.0\n",
    "            else\n",
    "                V[r]=(allrunners.avgspeeds[r] + gradient(spline,X[r],1)*allrunners.slopefactors[r])\n",
    "            end \n",
    "        end\n",
    "    elseif training==false\n",
    "\n",
    "        R, VL = RhoVL(R,VL,X,V,allrunners,training)\n",
    "\n",
    "         for r in 1:nrunners\n",
    "            if (t <= allrunners.wavedelays[r]) || (X[r]>=racedistance+epsm)\n",
    "                V[r]=0.0\n",
    "            elseif X[r]<0 # This Condition can be improved! (wave propagation in lanes)\n",
    "                V[r]=min(allrunners.waveinitspeeds[r],allrunners.avgspeeds[r])\n",
    "            else\n",
    "                rspeed=(allrunners.avgspeeds[r]+gradient(spline,X[r],1)*allrunners.slopefactors[r])\n",
    "                V[r]=(1.0-R[r])*rspeed+R[r]*VL[r]\n",
    "            end\n",
    "        end\n",
    "\n",
    "    end\n",
    "    return V, R\n",
    "end;"
   ]
  },
  {
   "cell_type": "markdown",
   "id": "inclusive-cookie",
   "metadata": {},
   "source": [
    "## 2nd order Runge-Kutta solver "
   ]
  },
  {
   "cell_type": "code",
   "execution_count": 30,
   "id": "atmospheric-person",
   "metadata": {
    "ExecuteTime": {
     "end_time": "2022-09-14T22:22:06.618000+01:00",
     "start_time": "2022-09-14T21:21:53.931Z"
    }
   },
   "outputs": [
    {
     "data": {
      "text/plain": [
       "rk2 (generic function with 1 method)"
      ]
     },
     "execution_count": 30,
     "metadata": {},
     "output_type": "execute_result"
    }
   ],
   "source": [
    "function rk2(allrunners::Runners,training::Bool)\n",
    "    println(\">Control OdeSystemSolvers: Entering rk2_solver\")\n",
    "    \n",
    "    obsnsteps=parameters.observernsteps\n",
    "    obststep=parameters.observertimestep\n",
    "    dt=parameters.timestep\n",
    "    nsteps=ceil(Int,parameters.endtime/dt)\n",
    "    println(\">Control OdeSystemSolvers: total number of time steps = \", nsteps)\n",
    "    avgspeeds=allrunners.avgspeeds\n",
    "    slopefactors=allrunners.slopefactors\n",
    "\n",
    "    println(\">Control OdeSystemSolvers: number of runners = \", nrunners)\n",
    "    # Container for the solutions\n",
    "    times=zeros(Float32,obsnsteps)\n",
    "\n",
    "    # Internal Copy of allrunners.positions\n",
    "    positions=allrunners.pos\n",
    "    println(\">control OdeSystemSolvers: size(positions)= \", size(positions))\n",
    "    println(\">control OdeSystemSolvers: initial positions= \", positions[nrunners-10:nrunners,1])\n",
    "\n",
    "    #println(typeof(positions))\n",
    "    velocities=zeros(Float32,nrunners,obsnsteps)\n",
    "    rhos=zeros(Float32,nrunners,obsnsteps)\n",
    "\n",
    "    X1=positions[:,1] #rk Updated positions\n",
    "    X0=positions[:,1] #rk old positions\n",
    "    V=velocities[:,1] # useless since it is 0\n",
    "\n",
    "    K1=zeros(Float32,nrunners)\n",
    "    K2=zeros(Float32,nrunners)\n",
    "    R =zeros(Float32,nrunners)\n",
    "    \n",
    "    j=0\n",
    "    for i in 0:(nsteps-1)\n",
    "        t=dt*i\n",
    "        V, R = F(t,X0, V, allrunners,training) #update velocities\n",
    "        K1=dt .* V\n",
    "        V, R = F(t+dt, X0 .+ K1, V, allrunners,training) #update velocities\n",
    "        K2=dt .* V\n",
    "        X1=X0 .+ 0.5 .* (K1 .+ K2) # update positions\n",
    "\n",
    "        ## Containers for Observer\n",
    "        if ((i+1)*dt>=(obststep*j) && i*dt<=(obststep*j))\n",
    "            delta=(j*obststep-i*dt)/dt\n",
    "            beta=1.0-delta\n",
    "            times[j+1]=obststep*(j+1)\n",
    "            ## interpolations\n",
    "            positions[:,j+1]= beta .* X0 .+ delta .*X1\n",
    "            velocities[:,j+1]=V #beta .* velocities[:,j] .+delta.* V\n",
    "            rhos[:,j+1]=R #beta .* rhos[:,j] .+ delta .* R\n",
    "            if (j+1 == obsnsteps) break end\n",
    "            j+=1\n",
    "        end\n",
    "        X0[:] .= X1[:]\n",
    "    end\n",
    "\n",
    "    return times, positions,velocities, rhos\n",
    "end;\n",
    "solver=rk2"
   ]
  },
  {
   "cell_type": "markdown",
   "id": "fixed-craps",
   "metadata": {},
   "source": [
    "## Race processing function"
   ]
  },
  {
   "cell_type": "code",
   "execution_count": 31,
   "id": "5b9834aa",
   "metadata": {
    "ExecuteTime": {
     "end_time": "2022-09-14T22:22:06.726000+01:00",
     "start_time": "2022-09-14T21:21:54.040Z"
    }
   },
   "outputs": [
    {
     "data": {
      "text/plain": [
       "race (generic function with 1 method)"
      ]
     },
     "execution_count": 31,
     "metadata": {},
     "output_type": "execute_result"
    }
   ],
   "source": [
    "function race(raceswitch::Bool)\n",
    "    if raceswitch==true strng=\"Race\"\n",
    "    else strng=\"Training\"\n",
    "    end\n",
    "    println(\">control $strng: model\")\n",
    "    runnerslist=Array{Frunner,1}(undef, nrunners)\n",
    "    for i in 1:nrunners\n",
    "        runnerslist[i]=Frunner(AvgTimes[i],WaveDelays[i],WaveInitSpeeds[i],InitPositions[i],SlopeFactors[i])\n",
    "    end\n",
    "    allrunners=Runners(runnerslist)\n",
    "    println(\">control $strng: sizes(allrunners.group)= \", size(allrunners.group))\n",
    "    println(\">control $strng: Pre-Processing done\")\n",
    "    println(\">control $strng: Starting $strng Simulation\")\n",
    "    times, allrunners.pos, allrunners.vels, allrunners.rhos=solver(allrunners,!raceswitch)\n",
    "    println(\">Control $strng: Processing done\")\n",
    "    return times, allrunners\n",
    "end"
   ]
  },
  {
   "cell_type": "markdown",
   "id": "continuous-signal",
   "metadata": {},
   "source": [
    "## Training race (free running)"
   ]
  },
  {
   "cell_type": "code",
   "execution_count": 32,
   "id": "9c6ae0cd",
   "metadata": {
    "ExecuteTime": {
     "end_time": "2022-09-14T22:24:09.398000+01:00",
     "start_time": "2022-09-14T21:21:54.145Z"
    }
   },
   "outputs": [
    {
     "name": "stdout",
     "output_type": "stream",
     "text": [
      ">control Training: model\n",
      ">control Training: sizes(allrunners.group)= (10000,)\n",
      ">control Training: Pre-Processing done\n",
      ">control Training: Starting Training Simulation\n",
      ">Control OdeSystemSolvers: Entering rk2_solver\n",
      ">Control OdeSystemSolvers: total number of time steps = 20200\n",
      ">Control OdeSystemSolvers: number of runners = 10000\n",
      ">control OdeSystemSolvers: size(positions)= (10000, 8080)\n",
      ">control OdeSystemSolvers: initial positions= Float32[-103.5, -103.5, -103.5, -104.0, -104.0, -104.0, -104.0, -104.0, -104.0, -104.0, -104.0]\n",
      ">Control Training: Processing done\n",
      ">Elapsed time=122.276354505\n"
     ]
    }
   ],
   "source": [
    "t=@elapsed begin \n",
    "    times , alltrainees = race(false) \n",
    "end\n",
    "println(\">Elapsed time=\", t)"
   ]
  },
  {
   "cell_type": "markdown",
   "id": "considerable-florida",
   "metadata": {},
   "source": [
    "## Race"
   ]
  },
  {
   "cell_type": "code",
   "execution_count": 33,
   "id": "square-habitat",
   "metadata": {
    "ExecuteTime": {
     "end_time": "2022-09-14T22:27:45.948000+01:00",
     "start_time": "2022-09-14T21:21:54.250Z"
    }
   },
   "outputs": [
    {
     "name": "stdout",
     "output_type": "stream",
     "text": [
      ">control Race: model\n",
      ">control Race: sizes(allrunners.group)= (10000,)\n",
      ">control Race: Pre-Processing done\n",
      ">control Race: Starting Race Simulation\n",
      ">Control OdeSystemSolvers: Entering rk2_solver\n",
      ">Control OdeSystemSolvers: total number of time steps = 20200\n",
      ">Control OdeSystemSolvers: number of runners = 10000\n",
      ">control OdeSystemSolvers: size(positions)= (10000, 8080)\n",
      ">control OdeSystemSolvers: initial positions= Float32[-103.5, -103.5, -103.5, -104.0, -104.0, -104.0, -104.0, -104.0, -104.0, -104.0, -104.0]\n",
      ">Control Race: Processing done\n",
      ">Elapsed time=216.542981214\n"
     ]
    }
   ],
   "source": [
    "t= @elapsed begin \n",
    "        _ , allrunners= race(true)\n",
    "end\n",
    "println(\">Elapsed time=\", t)"
   ]
  },
  {
   "cell_type": "markdown",
   "id": "alien-photography",
   "metadata": {},
   "source": [
    "## Post-Processing functions"
   ]
  },
  {
   "cell_type": "markdown",
   "id": "absolute-intake",
   "metadata": {},
   "source": [
    "### Positions snapshot"
   ]
  },
  {
   "cell_type": "code",
   "execution_count": 34,
   "id": "7d4bb257",
   "metadata": {
    "ExecuteTime": {
     "end_time": "2022-09-14T22:27:46.059000+01:00",
     "start_time": "2022-09-14T21:21:54.470Z"
    }
   },
   "outputs": [
    {
     "data": {
      "text/plain": [
       "snapshot (generic function with 1 method)"
      ]
     },
     "execution_count": 34,
     "metadata": {},
     "output_type": "execute_result"
    }
   ],
   "source": [
    "function snapshot(steps,allrunners,ninwaves)\n",
    "    xs = range(start=minimum(course.x_data), stop=maximum(course.x_data), length=1000)\n",
    "    ys=course.cspline_elev(xs)\n",
    "    ws=course.cspline_width(xs)\n",
    "    yws=ys .+ ws\n",
    "\n",
    "    println(\"Control PostProcessing: number of snapshots \", length(steps))\n",
    "    for step in steps\n",
    "        time=Int(step*parameters.observertimestep)\n",
    "        X=allrunners.pos[:, step]\n",
    "        YWS=zeros(nrunners)\n",
    "        for r in 1:nrunners\n",
    "            YWS[r]=rand(Uniform(0,1))*course.cspline_width(X[r])+course.cspline_elev(X[r])\n",
    "        end\n",
    "\n",
    "        colors=[\"orange\",\"cyan\",\"green\",\"purple\",\"brown\",\"pink\",\"gray\",\"azure\",\"olive\",\"blue\"]\n",
    "        nwaves=size(ninwaves)[1]\n",
    "\n",
    "        plot(xs, ys,title=\"Race Snapshot t=$time (s)\",label=\"Elevation\")\n",
    "        xlabel!(\"Course length (m)\")\n",
    "        ylabel!(\"Course elevation (m)\")\n",
    "        plot!(xs,yws,label=\"Width\")\n",
    "        wb=1\n",
    "        we=0\n",
    "        n=0\n",
    "        for (color,counter) in zip(colors[1:nwaves],ninwaves)\n",
    "            n+=1\n",
    "            we+=counter\n",
    "            plot!(X[wb:we],YWS[wb:we],seriestype = :scatter,\n",
    "                  markersize=0.3,\n",
    "                  markeralpha = 1.0,\n",
    "                  markerstrokecolor =color,\n",
    "                  label=\"wave $n\")\n",
    "            wb=we+1\n",
    "        end\n",
    "        display(plot!(size=(900,275))) \n",
    "        #tm=lpad(time,4,\"0\")\n",
    "        #savefig(\"./reports/pngs/snapshot$tm.png\")\n",
    "    end\n",
    "end\n"
   ]
  },
  {
   "cell_type": "markdown",
   "id": "auburn-production",
   "metadata": {},
   "source": [
    "### Histogram snapshot"
   ]
  },
  {
   "cell_type": "code",
   "execution_count": 35,
   "id": "published-exploration",
   "metadata": {
    "ExecuteTime": {
     "end_time": "2022-09-14T22:27:46.160000+01:00",
     "start_time": "2022-09-14T21:21:54.588Z"
    }
   },
   "outputs": [
    {
     "data": {
      "text/plain": [
       "histsnapshot (generic function with 1 method)"
      ]
     },
     "execution_count": 35,
     "metadata": {},
     "output_type": "execute_result"
    }
   ],
   "source": [
    "function histsnapshot(steps,allrunners)\n",
    "    println(\"Control PostProcessing: number of histsnapshots \", length(steps))\n",
    "    for step in steps\n",
    "        bins=0:round(Int,parameters.frontviewdistance):round(Int,parameters.racedistance)\n",
    "        display(histogram(allrunners.pos[:,step],bins=bins,label=false,ylims=(0,100),size=(900,300)))\n",
    "        xlabel!(\"Road (m)\")\n",
    "        ylabel!(\"Runners per $parameters.frontviewdistance (m)\")\n",
    "    end\n",
    "end"
   ]
  },
  {
   "cell_type": "markdown",
   "id": "complicated-adolescent",
   "metadata": {},
   "source": [
    "### Motion profiles"
   ]
  },
  {
   "cell_type": "code",
   "execution_count": 36,
   "id": "meaningful-antarctica",
   "metadata": {
    "ExecuteTime": {
     "end_time": "2022-09-14T22:27:46.276000+01:00",
     "start_time": "2022-09-14T21:21:54.716Z"
    }
   },
   "outputs": [
    {
     "data": {
      "text/plain": [
       "motionvisuals (generic function with 1 method)"
      ]
     },
     "execution_count": 36,
     "metadata": {},
     "output_type": "execute_result"
    }
   ],
   "source": [
    "function motionvisuals(runnersidxs,allrunners,times)\n",
    "    plot(title=\"Motion profile\")\n",
    "    xlabel!(\"Time (s)\")\n",
    "    ylabel!(\"Position (m)\")\n",
    "    for runner in runnersidxs\n",
    "        plot!(times,allrunners.pos[runner,:],lw=0.5,label=string(runner))#,label=false)\n",
    "    end\n",
    "    display(plot!(size=(800,400)))\n",
    "end"
   ]
  },
  {
   "cell_type": "markdown",
   "id": "local-traffic",
   "metadata": {},
   "source": [
    "### Speed profiles"
   ]
  },
  {
   "cell_type": "code",
   "execution_count": 37,
   "id": "alive-address",
   "metadata": {
    "ExecuteTime": {
     "end_time": "2022-09-14T22:27:46.375000+01:00",
     "start_time": "2022-09-14T21:21:54.822Z"
    }
   },
   "outputs": [
    {
     "data": {
      "text/plain": [
       "speedsvisuals (generic function with 1 method)"
      ]
     },
     "execution_count": 37,
     "metadata": {},
     "output_type": "execute_result"
    }
   ],
   "source": [
    "function speedsvisuals(runnersidxs,allrunners,times)\n",
    "    plot(title=\"Speed Profile\")\n",
    "    xlabel!(\"Time (s)\")\n",
    "    ylabel!(\"Speed (m/s)\")\n",
    "\n",
    "    for runner in runnersidxs #range(group.size):\n",
    "        plot!(times,allrunners.vels[runner,:],lw=0.5,label=string(runner))\n",
    "    end\n",
    "    display(plot!(size=(800,400)))\n",
    "end"
   ]
  },
  {
   "cell_type": "markdown",
   "id": "informal-snowboard",
   "metadata": {},
   "source": [
    "### Phase (x=position,y=speed)"
   ]
  },
  {
   "cell_type": "code",
   "execution_count": 38,
   "id": "modified-maria",
   "metadata": {
    "ExecuteTime": {
     "end_time": "2022-09-14T22:27:46.477000+01:00",
     "start_time": "2022-09-14T21:21:54.932Z"
    }
   },
   "outputs": [
    {
     "data": {
      "text/plain": [
       "phasevisuals (generic function with 1 method)"
      ]
     },
     "execution_count": 38,
     "metadata": {},
     "output_type": "execute_result"
    }
   ],
   "source": [
    "function phasevisuals(runnersidxs,allrunners)\n",
    "    plot(title=\"Phase Profile\")\n",
    "    xlabel!(\"Position (m)\")\n",
    "    ylabel!(\"Speed (m/s)\")\n",
    "    for runner in runnersidxs\n",
    "        plot!(allrunners.pos[runner,:],allrunners.vels[runner,:],lw=0.5,label=string(runner))\n",
    "    end\n",
    "    display(plot!(size=(800,400)))\n",
    "end"
   ]
  },
  {
   "cell_type": "markdown",
   "id": "gross-funeral",
   "metadata": {},
   "source": [
    "### Rho profiles"
   ]
  },
  {
   "cell_type": "code",
   "execution_count": 39,
   "id": "northern-mounting",
   "metadata": {
    "ExecuteTime": {
     "end_time": "2022-09-14T22:27:46.589000+01:00",
     "start_time": "2022-09-14T21:21:55.057Z"
    }
   },
   "outputs": [
    {
     "data": {
      "text/plain": [
       "rhosvisuals (generic function with 1 method)"
      ]
     },
     "execution_count": 39,
     "metadata": {},
     "output_type": "execute_result"
    }
   ],
   "source": [
    "function rhosvisuals(runnersidxs,allrunners,times)\n",
    "    plot(title=\"Rho Profile\")\n",
    "    xlabel!(\"Time (s)\")\n",
    "    ylabel!(\"Rho\")\n",
    "\n",
    "    for runner in runnersidxs\n",
    "        plot!(times,allrunners.rhos[runner,:],ms=3,label=string(runner),seriestype = :scatter)\n",
    "    end\n",
    "    display(plot!(size=(800,400)))\n",
    "end"
   ]
  },
  {
   "cell_type": "code",
   "execution_count": 40,
   "id": "upset-overview",
   "metadata": {
    "ExecuteTime": {
     "end_time": "2022-09-14T22:27:46.691000+01:00",
     "start_time": "2022-09-14T21:21:55.059Z"
    }
   },
   "outputs": [
    {
     "data": {
      "text/plain": [
       "burstsvisuals (generic function with 1 method)"
      ]
     },
     "execution_count": 40,
     "metadata": {},
     "output_type": "execute_result"
    }
   ],
   "source": [
    "function burstsvisuals(runnersidxs,allrunners,times,gap)\n",
    "    bursts=zeros(length(runnersidxs))\n",
    "    for (idx,runner) in enumerate(runnersidxs)\n",
    "        bursts[idx]=sum(x->x>0.3,allrunners.rhos[runner,:]) \n",
    "    end\n",
    "    \n",
    "    plot(title=\"Number of at least\"*string(gap)*\"seconds blocks running slower\")\n",
    "    plot!(runnersidxs,bursts,ms=3,seriestype = :scatter)\n",
    "    display(plot!(size=(800,400)))\n",
    "end"
   ]
  },
  {
   "cell_type": "markdown",
   "id": "developed-respondent",
   "metadata": {},
   "source": [
    "## Post-Processing"
   ]
  },
  {
   "cell_type": "code",
   "execution_count": 41,
   "id": "083c5cbd",
   "metadata": {
    "ExecuteTime": {
     "end_time": "2022-09-14T22:27:46.692000+01:00",
     "start_time": "2022-09-14T21:21:55.164Z"
    }
   },
   "outputs": [],
   "source": [
    "if plots\n",
    "    snapshot(4000,allrunners,NinWaves)\n",
    "end"
   ]
  },
  {
   "cell_type": "markdown",
   "id": "beneficial-offense",
   "metadata": {},
   "source": [
    "#### Density of runners in a certain time step "
   ]
  },
  {
   "cell_type": "code",
   "execution_count": 42,
   "id": "breeding-while",
   "metadata": {
    "ExecuteTime": {
     "end_time": "2022-09-14T22:27:46.692000+01:00",
     "start_time": "2022-09-14T21:21:55.265Z"
    }
   },
   "outputs": [],
   "source": [
    "if plots \n",
    "    histsnapshot(1000,allrunners)\n",
    "end"
   ]
  },
  {
   "cell_type": "markdown",
   "id": "instructional-homeless",
   "metadata": {},
   "source": [
    "#### Plot the position of certain runners as function of time"
   ]
  },
  {
   "cell_type": "code",
   "execution_count": 43,
   "id": "smooth-projector",
   "metadata": {
    "ExecuteTime": {
     "end_time": "2022-09-14T22:27:46.693000+01:00",
     "start_time": "2022-09-14T21:21:55.368Z"
    }
   },
   "outputs": [],
   "source": [
    "if plots\n",
    "    motionvisuals(team,allrunners,times)\n",
    "end"
   ]
  },
  {
   "cell_type": "markdown",
   "id": "adjusted-supervision",
   "metadata": {},
   "source": [
    "#### Plot the speed of certain runners as function of time"
   ]
  },
  {
   "cell_type": "code",
   "execution_count": 44,
   "id": "powered-workshop",
   "metadata": {
    "ExecuteTime": {
     "end_time": "2022-09-14T22:27:46.694000+01:00",
     "start_time": "2022-09-14T21:21:55.478Z"
    }
   },
   "outputs": [],
   "source": [
    "if plots\n",
    "    speedsvisuals(team,allrunners,times)\n",
    "end"
   ]
  },
  {
   "cell_type": "markdown",
   "id": "respective-omaha",
   "metadata": {},
   "source": [
    "#### Plot the speed of certain runners as function of their positions (optionl/debug)"
   ]
  },
  {
   "cell_type": "code",
   "execution_count": 45,
   "id": "stylish-alcohol",
   "metadata": {
    "ExecuteTime": {
     "end_time": "2022-09-14T22:27:46.695000+01:00",
     "start_time": "2022-09-14T21:21:55.582Z"
    }
   },
   "outputs": [],
   "source": [
    "if plots\n",
    "    phasevisuals(team,allrunners)\n",
    "end"
   ]
  },
  {
   "cell_type": "markdown",
   "id": "antique-treasury",
   "metadata": {},
   "source": [
    "#### Plot the evolution of Rho for certain runners"
   ]
  },
  {
   "cell_type": "code",
   "execution_count": 46,
   "id": "subject-compilation",
   "metadata": {
    "ExecuteTime": {
     "end_time": "2022-09-14T22:27:46.695000+01:00",
     "start_time": "2022-09-14T21:21:55.686Z"
    }
   },
   "outputs": [],
   "source": [
    "if plots\n",
    "    rhosvisuals(team,allrunners,times)\n",
    "end"
   ]
  },
  {
   "cell_type": "markdown",
   "id": "polar-theme",
   "metadata": {},
   "source": [
    "#### Plot the number of instants where the velocity is affected by density "
   ]
  },
  {
   "cell_type": "code",
   "execution_count": 47,
   "id": "assigned-ceramic",
   "metadata": {
    "ExecuteTime": {
     "end_time": "2022-09-14T22:27:46.696000+01:00",
     "start_time": "2022-09-14T21:21:55.790Z"
    }
   },
   "outputs": [],
   "source": [
    "if plots \n",
    "    burstsvisuals(1:nrunners,allrunners,times,1) #Counting bursts for all runners\n",
    "end"
   ]
  },
  {
   "cell_type": "markdown",
   "id": "isolated-debut",
   "metadata": {},
   "source": [
    "## Extra Post-Processing:\n",
    "### Functions for race (partial) timings, metrics and team reports"
   ]
  },
  {
   "cell_type": "markdown",
   "id": "direct-falls",
   "metadata": {},
   "source": [
    "### Defining partial distances for Post-Processing times"
   ]
  },
  {
   "cell_type": "code",
   "execution_count": 48,
   "id": "paperback-victoria",
   "metadata": {
    "ExecuteTime": {
     "end_time": "2022-09-14T22:27:46.756000+01:00",
     "start_time": "2022-09-14T21:21:56.026Z"
    }
   },
   "outputs": [],
   "source": [
    "dists=500.0 .* [x for x in 1:20] # Partial distances\n",
    "ndists=length(dists)\n",
    "bdt=10.0; #Time interval for bursts measurement"
   ]
  },
  {
   "cell_type": "code",
   "execution_count": 49,
   "id": "civilian-first",
   "metadata": {
    "ExecuteTime": {
     "end_time": "2022-09-14T22:27:46.918000+01:00",
     "start_time": "2022-09-14T21:21:56.028Z"
    },
    "code_folding": []
   },
   "outputs": [
    {
     "data": {
      "text/plain": [
       "reports (generic function with 1 method)"
      ]
     },
     "execution_count": 49,
     "metadata": {},
     "output_type": "execute_result"
    }
   ],
   "source": [
    "function reports(times,allrunners,allrunners_training,team)\n",
    "    par=parameters\n",
    "    ndists=length(dists)\n",
    "    starttimes=zeros(nrunners)\n",
    "    endtimes=zeros((nrunners,ndists))\n",
    "    runnertimes=zeros((nrunners,ndists))\n",
    "    \n",
    "\n",
    "    for runner in 1:nrunners\n",
    "        tsidx=findfirst(x->(x>0.0), allrunners.pos[runner,:])\n",
    "        starttimes[runner]=times[tsidx]\n",
    "        for (idx,dist) in enumerate(dists)\n",
    "            teidx=findfirst(x->(x > dist),allrunners.pos[runner,:])\n",
    "            endtimes[runner,idx]=times[teidx]\n",
    "        end\n",
    "    end\n",
    "    \n",
    "    println(\">control Post-Processing: Waves=\")\n",
    "    println(par.waves)\n",
    "    r0=1\n",
    "    r1=sum(Int,par.waves[1, 1:par.numberofwaves])\n",
    "    wave_departure=maximum(starttimes[r0:r1])\n",
    "    wave_time_gap_to_cross=maximum(starttimes[r0:r1])-minimum(starttimes[r0:r1])+1\n",
    "    println(\">control Post-Processing: departures computation\")\n",
    "    println(\">control Post-Processing: departures: wave: \",1, \" departure:\",  wave_departure)\n",
    "    println(\">control Post-Processing: departures: wave: \",1, \" time gap to cross:\",  wave_time_gap_to_cross)\n",
    "\n",
    "    wavetxt=\" [\"*string(par.waves[1,1:size(par.waves)[1]])[9: end-1]*\" ,0.0 ,\"*string(par.waves[1,end])*\"]\"\n",
    "    acumulated_wave_time_gap_to_cross=wave_time_gap_to_cross\n",
    "\n",
    "\n",
    "    for j in range(2,size(par.waves)[1])\n",
    "        r0+=sum(Int,par.waves[j-1, 1: par.numberofwaves])\n",
    "        r1=r0+sum(Int,par.waves[j,1: par.numberofwaves])-1\n",
    "        wave_departure=maximum(starttimes[r0:r1])\n",
    "        wavetxt*=\"\\n [\"*string(par.waves[j,1:size(par.waves)[1]])[9:end-1]*\",\"*string(acumulated_wave_time_gap_to_cross)*\n",
    "        \" + \"*string(j-1)*\"*gap ,\"*string(par.waves[j,end])*\"]\"\n",
    "        wave_time_gap_to_cross=maximum(starttimes[r0:r1])-minimum(starttimes[r0:r1])+1\n",
    "        acumulated_wave_time_gap_to_cross+=wave_time_gap_to_cross\n",
    "        println(\">control Post-Processing: departures: wave: \",j, \" departure:\",  wave_departure)\n",
    "        println(\">control Post-Processing: departures: wave: \",j, \" time gap to cross: \",  wave_time_gap_to_cross)\n",
    "    end\n",
    "\n",
    "    println(\">control Post-Processing: suggested setting for waves after initial running for tune settings\")\n",
    "    println(\">control Post-Processing: ********************************************************\")\n",
    "    println(wavetxt)\n",
    "    println(\">control Post-Processing: *********************************************************\")\n",
    "\n",
    "    for runner in 1:nrunners\n",
    "        for idx in 1:ndists\n",
    "            runnertimes[runner,idx]= endtimes[runner,idx]-starttimes[runner]\n",
    "        end\n",
    "    end\n",
    "    \n",
    "    racetime=maximum(endtimes[:,ndists])\n",
    "    slowrunners=argmax(endtimes[:,ndists])\n",
    "    mintime=minimum(runnertimes[:,ndists])\n",
    "    worsttime=maximum(runnertimes[:,ndists])\n",
    "    winrunners=argmin(runnertimes[:,ndists])\n",
    "    losrunners=argmax(runnertimes[:,ndists])\n",
    "\n",
    "    starttimes_training=zeros(nrunners)\n",
    "    endtimes_training=zeros((nrunners,ndists))\n",
    "    runnertimes_training=zeros((nrunners,ndists))\n",
    "\n",
    "    for runner in 1:nrunners\n",
    "        tsidx=findfirst(x->(x>0.0), allrunners_training.pos[runner,:])\n",
    "        starttimes_training[runner]=times[tsidx]\n",
    "        for (idx,dist) in enumerate(dists)\n",
    "            teidx=findfirst(x->(x > dist),allrunners_training.pos[runner,:])\n",
    "            endtimes_training[runner,idx]=Int(times[teidx])\n",
    "        end\n",
    "    end\n",
    "    \n",
    "     for runner in 1:nrunners\n",
    "        for idx in 1:ndists\n",
    "            runnertimes_training[runner,idx]=endtimes_training[runner,idx]-starttimes_training[runner]\n",
    "        end\n",
    "    end\n",
    "   \n",
    "    errors=zeros((nrunners,ndists))\n",
    "    for runner in 1:nrunners\n",
    "        for idx in 1:ndists\n",
    "            errors[runner,idx]=ceil(runnertimes[runner,idx])-floor(runnertimes_training[runner,idx])\n",
    "        end\n",
    "    end\n",
    "    \n",
    "    println(\">control Post-Processing: departure: runners  affected by the velocity rule at departure \",\n",
    "          length(findall(x->(x!=0.0),starttimes-starttimes_training)), \" (in seconds)\")\n",
    "    println(\">control Post-Processing: par.posweights=\")\n",
    "    println(par.posweights)\n",
    "\n",
    "    t1=par.posweights[2,2]\n",
    "    t2=par.posweights[3,2]\n",
    "    t3=par.posweights[4,2]\n",
    "    t4=par.posweights[5,2]\n",
    "    \n",
    "    w0=par.posweights[1,1]\n",
    "    w1=par.posweights[2,1]\n",
    "    w2=par.posweights[3,1]\n",
    "    w3=par.posweights[4,1]\n",
    "    w4=par.posweights[5,1]\n",
    "\n",
    "\n",
    "    errorspen=zeros(nrunners)\n",
    "    count_t1=0\n",
    "    count_t2=0\n",
    "    count_t3=0\n",
    "    count_t4=0\n",
    "\n",
    "    for (idx,error) in enumerate(errors[:,ndists])\n",
    "        if error <= t1\n",
    "            errorspen[idx]=error*w1\n",
    "            count_t1+=1\n",
    "        elseif t1 < error <= t2\n",
    "            errorspen[idx]=w1*t1+(error-t1)*w2\n",
    "            count_t2+=1\n",
    "        elseif t2 < error <= t3\n",
    "            errorspen[idx]=w1*t1+(t2-t1)*w2+(error-t2)*w3\n",
    "            count_t3+=1\n",
    "        else\n",
    "            errorspen[idx]=w1*t1+(t2-t1)*w2+(t3-t2)*w3+(error-t3)*w4\n",
    "            count_t4+=1\n",
    "        end\n",
    "    end\n",
    "    println(\">control Post-Processing: number of runners with time loss in [0,\", t1,\"] is \", count_t1)\n",
    "    println(\">control Post-Processing: number of runners with time loss in ]\",t1,\",\", t2,\"] is \", count_t2)\n",
    "    println(\">control Post-Processing: number of runners with time loss in ]\",t2,\",\", t3,\"] is \", count_t3)\n",
    "    println(\">control Post-Processing: number of runners with time loss > \",t3, \" is \", count_t4)\n",
    "\n",
    "    errorspen .+= w0 .* starttimes\n",
    "    println(\">control Post-Processing: waves description: errors computation for metric\")\n",
    "    r0=1\n",
    "    r1=1\n",
    "     for j in range(2,size(par.waves)[1])\n",
    "         r0+=sum(Int,par.waves[j-1, 1:par.numberofwaves])\n",
    "         r1=r0+sum(Int,par.waves[j, 1:par.numberofwaves])\n",
    "         errorspen[r0:r1-1].-= w0.*par.waves[j,par.numberofwaves+1]\n",
    "         println(\">control Post-Processing:  wave \",\n",
    "                 j-1, \"start: \",r0,\" wave end: \",r1-1,\", \",par.waves[j,par.numberofwaves+1])\n",
    "     end\n",
    "\n",
    "    println(\">control Post-Processing: race time: \", racetime, \" (in seconds)\")\n",
    "    println(\">control Post-Processing: slowest racer: \", slowrunners)\n",
    "    println(\">control Post-Processing: best race time: \", mintime, \" (in seconds)\")\n",
    "    println(\">control Post-Processing: winner: \", winrunners)\n",
    "    println(\">control Post-Processing: worst race time: \", worsttime, \" (in seconds)\")\n",
    "    println(\">control Post-Processing: last: \", losrunners)\n",
    "    \n",
    "    losttimesperkm=zeros(Int,(nrunners,ndists))\n",
    "    for runner in 1:nrunners\n",
    "        losttimesperkm[runner,1]=errors[runner,1]\n",
    "        for idx in 2:ndists\n",
    "            losttimesperkm[runner,idx]=ceil(Int,errors[runner,idx])-floor(Int,errors[runner,idx-1])\n",
    "        end\n",
    "    end\n",
    "\n",
    "    metricerror=sum(errorspen)/length(errorspen)\n",
    "    println(\">control Post-Processing: metric error: \", metricerror)\n",
    "    l1error=norm(errors[:,ndists],1)/length(errors[:,ndists])\n",
    "    println(\">control Post-Processing: Average lost time (l1 error): \", l1error, \" (in seconds)\")\n",
    "    println(\">control Post-Processing: Average lost time per runner per partial distance: \") \n",
    "    println(\">=\",ceil.(Int,mean(losttimesperkm,dims=1)), \" (in seconds)\")\n",
    "    println(\">control Post-Processing: Counter of runners that lost >\",bdt,\"(s) in each partial distance: \") \n",
    "    \n",
    "    counters=zeros(Int,ndists)\n",
    "    for i in 1:ndists\n",
    "        counters[i]=count(x->(x>bdt),losttimesperkm[:,i])\n",
    "    end\n",
    "    println(\">\",counters)\n",
    "    \n",
    "    sortedargs=sortperm(runnertimes[:,ndists])\n",
    "    println(\">>>>>>>>>>>>>>>>>>>>>>>>>>>>>>>>>>>>>>>>>>>>>>>>>>>>>>>>>>>>>>>>>>>>>>\")\n",
    "    println(\">>>>>>>>>>>>>>>>>>>>>>>>>>>>>>>>>>>>>>>>>>>>>>>>>>>>>>>>>>>>>>>>>>>>>>\")\n",
    "    println(\">control Post-Processing: team runners\")\n",
    "    for runneridx in team\n",
    "        println(\">>>>>>>>>>>>>>>>>>>>>>>>>>>>>>>>>>>>>>>>>>>>>>>>>>>>>>>>>>>>>>>>>>\")\n",
    "        println(\">control Post-Processing: runner[$runneridx]\")\n",
    "        println(\">control Post-Processing: Average speeds=\", allrunners.avgspeeds[runneridx], \" (in metre per second)\")\n",
    "        println(\">control Post-Processing: Slope factor=\", allrunners.slopefactors[runneridx])\n",
    "        println(\">control Post-Processing: Wave delay time=\", allrunners.wavedelays[runneridx], \" (in seconds)\")\n",
    "        println(\">control Post-Processing: Initial position=\", allrunners.pos[runneridx,1],\" (in metres)\")\n",
    "        println(\">control Post-Processing: Race time=\")\n",
    "        println(\">=\",runnertimes[runneridx,:],\" (in seconds)\")\n",
    "        println(\">control Post-Processing: Finishing time=\")\n",
    "        println(\">=\",endtimes[runneridx,:], \" (in seconds)\")\n",
    "        println(\">control Post-Processing: Cumulative Lost times per Km=\")\n",
    "        println(\">=\",errors[runneridx,:], \" (in seconds)\")\n",
    "        println(\">control Post-Processing: Lost time per Km=\")\n",
    "        println(\">=\",losttimesperkm[runneridx,:], \" (in seconds)\")\n",
    "        println(\">control Post-Processing: Metric error=\", errorspen[runneridx])\n",
    "        println(\">control Post-Processing: Final position=\",findfirst(x->x==runneridx,sortedargs))\n",
    "    end\n",
    "    \n",
    "    return  runnertimes, runnertimes_training,errors,errorspen,racetime, losttimesperkm\n",
    "    \n",
    "end"
   ]
  },
  {
   "cell_type": "code",
   "execution_count": 50,
   "id": "harmful-night",
   "metadata": {
    "ExecuteTime": {
     "end_time": "2022-09-14T22:27:47.017000+01:00",
     "start_time": "2022-09-14T21:21:56.030Z"
    },
    "code_folding": []
   },
   "outputs": [
    {
     "data": {
      "text/plain": [
       "plottimes (generic function with 1 method)"
      ]
     },
     "execution_count": 50,
     "metadata": {},
     "output_type": "execute_result"
    }
   ],
   "source": [
    "function plottimes(runnertimes,runnertimes_training)\n",
    "     plot(1:nrunners,runnertimes[:,ndists],ms=0.5,label=\"Race\",seriestype = :scatter,\n",
    "         markerstrokecolor = \"orange\",\n",
    "         reuse=false)\n",
    "    ylabel!(\"Time in seconds\")\n",
    "    xlabel!(\"Runner index\")\n",
    "    plot!(team,runnertimes[team,ndists],seriestype = :scatter, markercolor = \"orange\",label=false)\n",
    "    plot!(team,runnertimes_training[team,ndists],seriestype = :scatter, markercolor = \"blue\",label=false)\n",
    "    display(plot!(1:nrunners,runnertimes_training[:,ndists],ms=0.5,label=\"Training\",seriestype = :scatter,\n",
    "         markerstrokecolor =\"blue\"))\n",
    "end"
   ]
  },
  {
   "cell_type": "code",
   "execution_count": 51,
   "id": "thirty-money",
   "metadata": {
    "ExecuteTime": {
     "end_time": "2022-09-14T22:27:47.130000+01:00",
     "start_time": "2022-09-14T21:21:56.031Z"
    }
   },
   "outputs": [
    {
     "data": {
      "text/plain": [
       "ploterrors (generic function with 1 method)"
      ]
     },
     "execution_count": 51,
     "metadata": {},
     "output_type": "execute_result"
    }
   ],
   "source": [
    "function ploterrors(errors,errorspen,racetime)\n",
    "    metricerror=sum(errorspen)/length(errorspen)\n",
    "    l1error=norm(errors[:,ndists],1)/length(errors[:,ndists])\n",
    "    plot(1:nrunners,errors[:,ndists],ms=0.5,label=\"Time lost\",\n",
    "        seriestype = :scatter, markerstrokecolor = \"orange\",\n",
    "        title=\"Averaged time and metric losses = \"*string(round(Int,l1error))*\", \"\n",
    "         *string(round(Int,metricerror)),reuse=false)\n",
    "    ylabel!(\"Time in seconds (total race time: \"*string(ceil(Int,racetime))*\")\")\n",
    "    xlabel!(\"Runner index\")\n",
    "    plot!(team,errors[team,ndists],seriestype = :scatter, markercolor = \"orange\",label=false)\n",
    "    plot!(team,errorspen[team],seriestype = :scatter, markercolor = \"blue\",label=false)\n",
    "    display(plot!(1:nrunners,errorspen,ms=0.5,label=\"Metric score\",\n",
    "            seriestype = :scatter, markerstrokecolor = \"blue\"))\n",
    "end"
   ]
  },
  {
   "cell_type": "code",
   "execution_count": 61,
   "id": "excited-liberia",
   "metadata": {
    "ExecuteTime": {
     "end_time": "2022-09-14T22:36:27.079000+01:00",
     "start_time": "2022-09-14T21:36:27.073Z"
    }
   },
   "outputs": [
    {
     "data": {
      "text/plain": [
       "burstshistogram (generic function with 1 method)"
      ]
     },
     "execution_count": 61,
     "metadata": {},
     "output_type": "execute_result"
    }
   ],
   "source": [
    "function burstshistogram(losttimesperkm)\n",
    "    burstcounters=zeros(Int,nrunners)\n",
    "    for runner in 1:nrunners\n",
    "        burstcounters[runner]=count(x->(x>bdt),losttimesperkm[runner,:])\n",
    "    end\n",
    "    h=histogram(burstcounters,bins=ndists,label=false,bar_width=0.8,dpi=300)\n",
    "    xticks!([i+0.5 for i in 0:ndists],[string(i) for i in 0:ndists])\n",
    "    xlabel!(\"Number of bursts\")\n",
    "    ylabel!(\"Number of runners\")\n",
    "    display(h)\n",
    "    savefig(\"./hist.png\")\n",
    "end"
   ]
  },
  {
   "cell_type": "markdown",
   "id": "available-documentary",
   "metadata": {},
   "source": [
    "### Race reports and more plots"
   ]
  },
  {
   "cell_type": "code",
   "execution_count": 53,
   "id": "czech-murder",
   "metadata": {
    "ExecuteTime": {
     "end_time": "2022-09-14T22:28:36.406000+01:00",
     "start_time": "2022-09-14T21:21:56.159Z"
    }
   },
   "outputs": [
    {
     "name": "stdout",
     "output_type": "stream",
     "text": [
      ">control Post-Processing: Waves=\n",
      "Float32[3000.0 166.0 167.0 0.0 3.34; 166.0 3000.0 167.0 325.0 2.92; 167.0 167.0 3000.0 643.0 2.5]\n",
      ">control Post-Processing: departures computation\n",
      ">control Post-Processing: departures: wave: 1 departure:146.0\n",
      ">control Post-Processing: departures: wave: 1 time gap to cross:145.0\n",
      ">control Post-Processing: departures: wave: 2 departure:464.0\n",
      ">control Post-Processing: departures: wave: 2 time gap to cross: 139.0\n",
      ">control Post-Processing: departures: wave: 3 departure:789.0\n",
      ">control Post-Processing: departures: wave: 3 time gap to cross: 146.0\n",
      ">control Post-Processing: suggested setting for waves after initial running for tune settings\n",
      ">control Post-Processing: ********************************************************\n",
      " [3000.0, 166.0, 167.0 ,0.0 ,3.34]\n",
      " [166.0, 3000.0, 167.0,145.0 + 1*gap ,2.92]\n",
      " [167.0, 167.0, 3000.0,284.0 + 2*gap ,2.5]\n",
      ">control Post-Processing: *********************************************************\n",
      ">control Post-Processing: departure: runners  affected by the velocity rule at departure 7931 (in seconds)\n",
      ">control Post-Processing: par.posweights=\n",
      "Float32[0.2 0.0; 2.0 30.0; 1.5 60.0; 1.25 120.0; 1.0 100000.0]\n",
      ">control Post-Processing: number of runners with time loss in [0,30.0] is 1801\n",
      ">control Post-Processing: number of runners with time loss in ]30.0,60.0] is 993\n",
      ">control Post-Processing: number of runners with time loss in ]60.0,120.0] is 2496\n",
      ">control Post-Processing: number of runners with time loss > 120.0 is 4710\n",
      ">control Post-Processing: waves description: errors computation for metric\n",
      ">control Post-Processing:  wave 1start: 3334 wave end: 6666, 325.0\n",
      ">control Post-Processing:  wave 2start: 6667 wave end: 10000, 643.0\n",
      ">control Post-Processing: race time: 6892.0 (in seconds)\n",
      ">control Post-Processing: slowest racer: 9079\n",
      ">control Post-Processing: best race time: 1800.0 (in seconds)\n",
      ">control Post-Processing: winner: 10\n",
      ">control Post-Processing: worst race time: 6143.0 (in seconds)\n",
      ">control Post-Processing: last: 9079\n",
      ">control Post-Processing: metric error: 181.65326411251576\n",
      ">control Post-Processing: Average lost time (l1 error): 122.3152 (in seconds)\n",
      ">control Post-Processing: Average lost time per runner per partial distance: \n",
      ">=[22 19 15 12 10 8 7 6 6 5 4 3 3 4 3 1 1 0 1 0] (in seconds)\n",
      ">control Post-Processing: Counter of runners that lost >10.0(s) in each partial distance: \n",
      ">[7777, 7272, 5749, 5086, 4397, 3408, 2666, 2202, 1770, 1467, 987, 715, 530, 1347, 913, 0, 0, 0, 0, 0]\n",
      ">>>>>>>>>>>>>>>>>>>>>>>>>>>>>>>>>>>>>>>>>>>>>>>>>>>>>>>>>>>>>>>>>>>>>>\n",
      ">>>>>>>>>>>>>>>>>>>>>>>>>>>>>>>>>>>>>>>>>>>>>>>>>>>>>>>>>>>>>>>>>>>>>>\n",
      ">control Post-Processing: team runners\n",
      ">>>>>>>>>>>>>>>>>>>>>>>>>>>>>>>>>>>>>>>>>>>>>>>>>>>>>>>>>>>>>>>>>>\n",
      ">control Post-Processing: runner[478]\n",
      ">control Post-Processing: Average speeds=4.385965 (in metre per second)\n",
      ">control Post-Processing: Slope factor=-3.0\n",
      ">control Post-Processing: Wave delay time=11.6 (in seconds)\n",
      ">control Post-Processing: Initial position=-14.5 (in metres)\n",
      ">control Post-Processing: Race time=\n",
      ">=[131.0, 248.0, 362.0, 476.0, 590.0, 704.0, 818.0, 932.0, 1046.0, 1160.0, 1274.0, 1388.0, 1502.0, 1619.0, 1736.0, 1853.0, 1970.0, 2081.0, 2193.0, 2304.0] (in seconds)\n",
      ">control Post-Processing: Finishing time=\n",
      ">=[149.0, 266.0, 380.0, 494.0, 608.0, 722.0, 836.0, 950.0, 1064.0, 1178.0, 1292.0, 1406.0, 1520.0, 1637.0, 1754.0, 1871.0, 1988.0, 2099.0, 2211.0, 2322.0] (in seconds)\n",
      ">control Post-Processing: Cumulative Lost times per Km=\n",
      ">=[19.0, 24.0, 24.0, 24.0, 24.0, 24.0, 24.0, 24.0, 24.0, 24.0, 24.0, 24.0, 24.0, 24.0, 24.0, 24.0, 24.0, 24.0, 24.0, 24.0] (in seconds)\n",
      ">control Post-Processing: Lost time per Km=\n",
      ">=[19, 5, 0, 0, 0, 0, 0, 0, 0, 0, 0, 0, 0, 0, 0, 0, 0, 0, 0, 0] (in seconds)\n",
      ">control Post-Processing: Metric error=51.60000005364418\n",
      ">control Post-Processing: Final position=155\n",
      ">>>>>>>>>>>>>>>>>>>>>>>>>>>>>>>>>>>>>>>>>>>>>>>>>>>>>>>>>>>>>>>>>>\n",
      ">control Post-Processing: runner[5891]\n",
      ">control Post-Processing: Average speeds=4.385965 (in metre per second)\n",
      ">control Post-Processing: Slope factor=-3.0\n",
      ">control Post-Processing: Wave delay time=388.6 (in seconds)\n",
      ">control Post-Processing: Initial position=-79.5 (in metres)\n",
      ">control Post-Processing: Race time=\n",
      ">=[165.0, 328.0, 492.0, 654.0, 772.0, 886.0, 1000.0, 1114.0, 1228.0, 1342.0, 1457.0, 1575.0, 1703.0, 1846.0, 1980.0, 2097.0, 2214.0, 2325.0, 2437.0, 2548.0] (in seconds)\n",
      ">control Post-Processing: Finishing time=\n",
      ">=[582.0, 745.0, 909.0, 1071.0, 1189.0, 1303.0, 1417.0, 1531.0, 1645.0, 1759.0, 1874.0, 1992.0, 2120.0, 2263.0, 2397.0, 2514.0, 2631.0, 2742.0, 2854.0, 2965.0] (in seconds)\n",
      ">control Post-Processing: Cumulative Lost times per Km=\n",
      ">=[53.0, 103.0, 153.0, 201.0, 205.0, 205.0, 205.0, 205.0, 205.0, 205.0, 206.0, 210.0, 224.0, 250.0, 268.0, 268.0, 268.0, 267.0, 268.0, 267.0] (in seconds)\n",
      ">control Post-Processing: Lost time per Km=\n",
      ">=[53, 50, 50, 48, 4, 0, 0, 0, 0, 0, 1, 4, 14, 26, 18, 0, 0, -1, 1, -1] (in seconds)\n",
      ">control Post-Processing: Metric error=345.40000124275684\n",
      ">control Post-Processing: Final position=342\n",
      ">>>>>>>>>>>>>>>>>>>>>>>>>>>>>>>>>>>>>>>>>>>>>>>>>>>>>>>>>>>>>>>>>>\n",
      ">control Post-Processing: runner[9345]\n",
      ">control Post-Processing: Average speeds=4.385965 (in metre per second)\n",
      ">control Post-Processing: Slope factor=-3.0\n",
      ">control Post-Processing: Wave delay time=709.8 (in seconds)\n",
      ">control Post-Processing: Initial position=-83.5 (in metres)\n",
      ">control Post-Processing: Race time=\n",
      ">=[194.0, 389.0, 537.0, 651.0, 765.0, 879.0, 1031.0, 1189.0, 1356.0, 1502.0, 1636.0, 1762.0, 1876.0, 1996.0, 2113.0, 2230.0, 2346.0, 2458.0, 2569.0, 2681.0] (in seconds)\n",
      ">control Post-Processing: Finishing time=\n",
      ">=[939.0, 1134.0, 1282.0, 1396.0, 1510.0, 1624.0, 1776.0, 1934.0, 2101.0, 2247.0, 2381.0, 2507.0, 2621.0, 2741.0, 2858.0, 2975.0, 3091.0, 3203.0, 3314.0, 3426.0] (in seconds)\n",
      ">control Post-Processing: Cumulative Lost times per Km=\n",
      ">=[81.0, 164.0, 198.0, 198.0, 198.0, 198.0, 236.0, 280.0, 333.0, 365.0, 385.0, 397.0, 397.0, 400.0, 400.0, 401.0, 400.0, 400.0, 400.0, 400.0] (in seconds)\n",
      ">control Post-Processing: Lost time per Km=\n",
      ">=[81, 83, 34, 0, 0, 0, 38, 44, 53, 32, 20, 12, 0, 3, 0, 1, -1, 0, 0, 0] (in seconds)\n",
      ">control Post-Processing: Metric error=480.3999961167574\n",
      ">control Post-Processing: Final position=580\n"
     ]
    }
   ],
   "source": [
    "rt,rt_t,e,ep,rct,lt=reports(times,allrunners,alltrainees,team);"
   ]
  },
  {
   "cell_type": "code",
   "execution_count": 54,
   "id": "uniform-bobby",
   "metadata": {
    "ExecuteTime": {
     "end_time": "2022-09-14T22:28:36.407000+01:00",
     "start_time": "2022-09-14T21:21:56.160Z"
    }
   },
   "outputs": [],
   "source": [
    "if plots \n",
    "    plottimes(rt,rt_t)\n",
    "end"
   ]
  },
  {
   "cell_type": "code",
   "execution_count": 55,
   "id": "coated-disney",
   "metadata": {
    "ExecuteTime": {
     "end_time": "2022-09-14T22:28:36.408000+01:00",
     "start_time": "2022-09-14T21:21:56.164Z"
    }
   },
   "outputs": [],
   "source": [
    "if plots\n",
    "    ploterrors(e,ep,rct)\n",
    "end"
   ]
  },
  {
   "cell_type": "code",
   "execution_count": 62,
   "id": "verified-credit",
   "metadata": {
    "ExecuteTime": {
     "end_time": "2022-09-14T22:36:36.588000+01:00",
     "start_time": "2022-09-14T21:36:36.090Z"
    }
   },
   "outputs": [
    {
     "data": {
      "image/svg+xml": [
       "<?xml version=\"1.0\" encoding=\"utf-8\"?>\n",
       "<svg xmlns=\"http://www.w3.org/2000/svg\" xmlns:xlink=\"http://www.w3.org/1999/xlink\" width=\"600\" height=\"400\" viewBox=\"0 0 2400 1600\">\n",
       "<defs>\n",
       "  <clipPath id=\"clip310\">\n",
       "    <rect x=\"0\" y=\"0\" width=\"2400\" height=\"1600\"/>\n",
       "  </clipPath>\n",
       "</defs>\n",
       "<path clip-path=\"url(#clip310)\" d=\"\n",
       "M0 1600 L2400 1600 L2400 0 L0 0  Z\n",
       "  \" fill=\"#ffffff\" fill-rule=\"evenodd\" fill-opacity=\"1\"/>\n",
       "<defs>\n",
       "  <clipPath id=\"clip311\">\n",
       "    <rect x=\"480\" y=\"0\" width=\"1681\" height=\"1600\"/>\n",
       "  </clipPath>\n",
       "</defs>\n",
       "<path clip-path=\"url(#clip310)\" d=\"\n",
       "M262.551 1423.18 L2352.76 1423.18 L2352.76 47.2441 L262.551 47.2441  Z\n",
       "  \" fill=\"#ffffff\" fill-rule=\"evenodd\" fill-opacity=\"1\"/>\n",
       "<defs>\n",
       "  <clipPath id=\"clip312\">\n",
       "    <rect x=\"262\" y=\"47\" width=\"2091\" height=\"1377\"/>\n",
       "  </clipPath>\n",
       "</defs>\n",
       "<polyline clip-path=\"url(#clip312)\" style=\"stroke:#000000; stroke-linecap:butt; stroke-linejoin:round; stroke-width:2; stroke-opacity:0.1; fill:none\" points=\"\n",
       "  424.612,1423.18 424.612,47.2441 \n",
       "  \"/>\n",
       "<polyline clip-path=\"url(#clip312)\" style=\"stroke:#000000; stroke-linecap:butt; stroke-linejoin:round; stroke-width:2; stroke-opacity:0.1; fill:none\" points=\"\n",
       "  542.351,1423.18 542.351,47.2441 \n",
       "  \"/>\n",
       "<polyline clip-path=\"url(#clip312)\" style=\"stroke:#000000; stroke-linecap:butt; stroke-linejoin:round; stroke-width:2; stroke-opacity:0.1; fill:none\" points=\"\n",
       "  660.09,1423.18 660.09,47.2441 \n",
       "  \"/>\n",
       "<polyline clip-path=\"url(#clip312)\" style=\"stroke:#000000; stroke-linecap:butt; stroke-linejoin:round; stroke-width:2; stroke-opacity:0.1; fill:none\" points=\"\n",
       "  777.828,1423.18 777.828,47.2441 \n",
       "  \"/>\n",
       "<polyline clip-path=\"url(#clip312)\" style=\"stroke:#000000; stroke-linecap:butt; stroke-linejoin:round; stroke-width:2; stroke-opacity:0.1; fill:none\" points=\"\n",
       "  895.567,1423.18 895.567,47.2441 \n",
       "  \"/>\n",
       "<polyline clip-path=\"url(#clip312)\" style=\"stroke:#000000; stroke-linecap:butt; stroke-linejoin:round; stroke-width:2; stroke-opacity:0.1; fill:none\" points=\"\n",
       "  1013.31,1423.18 1013.31,47.2441 \n",
       "  \"/>\n",
       "<polyline clip-path=\"url(#clip312)\" style=\"stroke:#000000; stroke-linecap:butt; stroke-linejoin:round; stroke-width:2; stroke-opacity:0.1; fill:none\" points=\"\n",
       "  1131.05,1423.18 1131.05,47.2441 \n",
       "  \"/>\n",
       "<polyline clip-path=\"url(#clip312)\" style=\"stroke:#000000; stroke-linecap:butt; stroke-linejoin:round; stroke-width:2; stroke-opacity:0.1; fill:none\" points=\"\n",
       "  1248.78,1423.18 1248.78,47.2441 \n",
       "  \"/>\n",
       "<polyline clip-path=\"url(#clip312)\" style=\"stroke:#000000; stroke-linecap:butt; stroke-linejoin:round; stroke-width:2; stroke-opacity:0.1; fill:none\" points=\"\n",
       "  1366.52,1423.18 1366.52,47.2441 \n",
       "  \"/>\n",
       "<polyline clip-path=\"url(#clip312)\" style=\"stroke:#000000; stroke-linecap:butt; stroke-linejoin:round; stroke-width:2; stroke-opacity:0.1; fill:none\" points=\"\n",
       "  1484.26,1423.18 1484.26,47.2441 \n",
       "  \"/>\n",
       "<polyline clip-path=\"url(#clip312)\" style=\"stroke:#000000; stroke-linecap:butt; stroke-linejoin:round; stroke-width:2; stroke-opacity:0.1; fill:none\" points=\"\n",
       "  1602,1423.18 1602,47.2441 \n",
       "  \"/>\n",
       "<polyline clip-path=\"url(#clip312)\" style=\"stroke:#000000; stroke-linecap:butt; stroke-linejoin:round; stroke-width:2; stroke-opacity:0.1; fill:none\" points=\"\n",
       "  1719.74,1423.18 1719.74,47.2441 \n",
       "  \"/>\n",
       "<polyline clip-path=\"url(#clip312)\" style=\"stroke:#000000; stroke-linecap:butt; stroke-linejoin:round; stroke-width:2; stroke-opacity:0.1; fill:none\" points=\"\n",
       "  1837.48,1423.18 1837.48,47.2441 \n",
       "  \"/>\n",
       "<polyline clip-path=\"url(#clip312)\" style=\"stroke:#000000; stroke-linecap:butt; stroke-linejoin:round; stroke-width:2; stroke-opacity:0.1; fill:none\" points=\"\n",
       "  1955.22,1423.18 1955.22,47.2441 \n",
       "  \"/>\n",
       "<polyline clip-path=\"url(#clip312)\" style=\"stroke:#000000; stroke-linecap:butt; stroke-linejoin:round; stroke-width:2; stroke-opacity:0.1; fill:none\" points=\"\n",
       "  2072.96,1423.18 2072.96,47.2441 \n",
       "  \"/>\n",
       "<polyline clip-path=\"url(#clip312)\" style=\"stroke:#000000; stroke-linecap:butt; stroke-linejoin:round; stroke-width:2; stroke-opacity:0.1; fill:none\" points=\"\n",
       "  2190.7,1423.18 2190.7,47.2441 \n",
       "  \"/>\n",
       "<polyline clip-path=\"url(#clip312)\" style=\"stroke:#000000; stroke-linecap:butt; stroke-linejoin:round; stroke-width:2; stroke-opacity:0.1; fill:none\" points=\"\n",
       "  2308.43,1423.18 2308.43,47.2441 \n",
       "  \"/>\n",
       "<polyline clip-path=\"url(#clip312)\" style=\"stroke:#000000; stroke-linecap:butt; stroke-linejoin:round; stroke-width:2; stroke-opacity:0.1; fill:none\" points=\"\n",
       "  2426.17,1423.18 2426.17,47.2441 \n",
       "  \"/>\n",
       "<polyline clip-path=\"url(#clip312)\" style=\"stroke:#000000; stroke-linecap:butt; stroke-linejoin:round; stroke-width:2; stroke-opacity:0.1; fill:none\" points=\"\n",
       "  2543.91,1423.18 2543.91,47.2441 \n",
       "  \"/>\n",
       "<polyline clip-path=\"url(#clip312)\" style=\"stroke:#000000; stroke-linecap:butt; stroke-linejoin:round; stroke-width:2; stroke-opacity:0.1; fill:none\" points=\"\n",
       "  2661.65,1423.18 2661.65,47.2441 \n",
       "  \"/>\n",
       "<polyline clip-path=\"url(#clip312)\" style=\"stroke:#000000; stroke-linecap:butt; stroke-linejoin:round; stroke-width:2; stroke-opacity:0.1; fill:none\" points=\"\n",
       "  2779.39,1423.18 2779.39,47.2441 \n",
       "  \"/>\n",
       "<polyline clip-path=\"url(#clip310)\" style=\"stroke:#000000; stroke-linecap:butt; stroke-linejoin:round; stroke-width:4; stroke-opacity:1; fill:none\" points=\"\n",
       "  262.551,1423.18 2352.76,1423.18 \n",
       "  \"/>\n",
       "<polyline clip-path=\"url(#clip310)\" style=\"stroke:#000000; stroke-linecap:butt; stroke-linejoin:round; stroke-width:4; stroke-opacity:1; fill:none\" points=\"\n",
       "  424.612,1423.18 424.612,1404.28 \n",
       "  \"/>\n",
       "<polyline clip-path=\"url(#clip310)\" style=\"stroke:#000000; stroke-linecap:butt; stroke-linejoin:round; stroke-width:4; stroke-opacity:1; fill:none\" points=\"\n",
       "  542.351,1423.18 542.351,1404.28 \n",
       "  \"/>\n",
       "<polyline clip-path=\"url(#clip310)\" style=\"stroke:#000000; stroke-linecap:butt; stroke-linejoin:round; stroke-width:4; stroke-opacity:1; fill:none\" points=\"\n",
       "  660.09,1423.18 660.09,1404.28 \n",
       "  \"/>\n",
       "<polyline clip-path=\"url(#clip310)\" style=\"stroke:#000000; stroke-linecap:butt; stroke-linejoin:round; stroke-width:4; stroke-opacity:1; fill:none\" points=\"\n",
       "  777.828,1423.18 777.828,1404.28 \n",
       "  \"/>\n",
       "<polyline clip-path=\"url(#clip310)\" style=\"stroke:#000000; stroke-linecap:butt; stroke-linejoin:round; stroke-width:4; stroke-opacity:1; fill:none\" points=\"\n",
       "  895.567,1423.18 895.567,1404.28 \n",
       "  \"/>\n",
       "<polyline clip-path=\"url(#clip310)\" style=\"stroke:#000000; stroke-linecap:butt; stroke-linejoin:round; stroke-width:4; stroke-opacity:1; fill:none\" points=\"\n",
       "  1013.31,1423.18 1013.31,1404.28 \n",
       "  \"/>\n",
       "<polyline clip-path=\"url(#clip310)\" style=\"stroke:#000000; stroke-linecap:butt; stroke-linejoin:round; stroke-width:4; stroke-opacity:1; fill:none\" points=\"\n",
       "  1131.05,1423.18 1131.05,1404.28 \n",
       "  \"/>\n",
       "<polyline clip-path=\"url(#clip310)\" style=\"stroke:#000000; stroke-linecap:butt; stroke-linejoin:round; stroke-width:4; stroke-opacity:1; fill:none\" points=\"\n",
       "  1248.78,1423.18 1248.78,1404.28 \n",
       "  \"/>\n",
       "<polyline clip-path=\"url(#clip310)\" style=\"stroke:#000000; stroke-linecap:butt; stroke-linejoin:round; stroke-width:4; stroke-opacity:1; fill:none\" points=\"\n",
       "  1366.52,1423.18 1366.52,1404.28 \n",
       "  \"/>\n",
       "<polyline clip-path=\"url(#clip310)\" style=\"stroke:#000000; stroke-linecap:butt; stroke-linejoin:round; stroke-width:4; stroke-opacity:1; fill:none\" points=\"\n",
       "  1484.26,1423.18 1484.26,1404.28 \n",
       "  \"/>\n",
       "<polyline clip-path=\"url(#clip310)\" style=\"stroke:#000000; stroke-linecap:butt; stroke-linejoin:round; stroke-width:4; stroke-opacity:1; fill:none\" points=\"\n",
       "  1602,1423.18 1602,1404.28 \n",
       "  \"/>\n",
       "<polyline clip-path=\"url(#clip310)\" style=\"stroke:#000000; stroke-linecap:butt; stroke-linejoin:round; stroke-width:4; stroke-opacity:1; fill:none\" points=\"\n",
       "  1719.74,1423.18 1719.74,1404.28 \n",
       "  \"/>\n",
       "<polyline clip-path=\"url(#clip310)\" style=\"stroke:#000000; stroke-linecap:butt; stroke-linejoin:round; stroke-width:4; stroke-opacity:1; fill:none\" points=\"\n",
       "  1837.48,1423.18 1837.48,1404.28 \n",
       "  \"/>\n",
       "<polyline clip-path=\"url(#clip310)\" style=\"stroke:#000000; stroke-linecap:butt; stroke-linejoin:round; stroke-width:4; stroke-opacity:1; fill:none\" points=\"\n",
       "  1955.22,1423.18 1955.22,1404.28 \n",
       "  \"/>\n",
       "<polyline clip-path=\"url(#clip310)\" style=\"stroke:#000000; stroke-linecap:butt; stroke-linejoin:round; stroke-width:4; stroke-opacity:1; fill:none\" points=\"\n",
       "  2072.96,1423.18 2072.96,1404.28 \n",
       "  \"/>\n",
       "<polyline clip-path=\"url(#clip310)\" style=\"stroke:#000000; stroke-linecap:butt; stroke-linejoin:round; stroke-width:4; stroke-opacity:1; fill:none\" points=\"\n",
       "  2190.7,1423.18 2190.7,1404.28 \n",
       "  \"/>\n",
       "<polyline clip-path=\"url(#clip310)\" style=\"stroke:#000000; stroke-linecap:butt; stroke-linejoin:round; stroke-width:4; stroke-opacity:1; fill:none\" points=\"\n",
       "  2308.43,1423.18 2308.43,1404.28 \n",
       "  \"/>\n",
       "<polyline clip-path=\"url(#clip310)\" style=\"stroke:#000000; stroke-linecap:butt; stroke-linejoin:round; stroke-width:4; stroke-opacity:1; fill:none\" points=\"\n",
       "  2426.17,1423.18 2426.17,1404.28 \n",
       "  \"/>\n",
       "<polyline clip-path=\"url(#clip310)\" style=\"stroke:#000000; stroke-linecap:butt; stroke-linejoin:round; stroke-width:4; stroke-opacity:1; fill:none\" points=\"\n",
       "  2543.91,1423.18 2543.91,1404.28 \n",
       "  \"/>\n",
       "<polyline clip-path=\"url(#clip310)\" style=\"stroke:#000000; stroke-linecap:butt; stroke-linejoin:round; stroke-width:4; stroke-opacity:1; fill:none\" points=\"\n",
       "  2661.65,1423.18 2661.65,1404.28 \n",
       "  \"/>\n",
       "<polyline clip-path=\"url(#clip310)\" style=\"stroke:#000000; stroke-linecap:butt; stroke-linejoin:round; stroke-width:4; stroke-opacity:1; fill:none\" points=\"\n",
       "  2779.39,1423.18 2779.39,1404.28 \n",
       "  \"/>\n",
       "<path clip-path=\"url(#clip310)\" d=\"M424.612 1454.1 Q421.001 1454.1 419.172 1457.66 Q417.366 1461.2 417.366 1468.33 Q417.366 1475.44 419.172 1479.01 Q421.001 1482.55 424.612 1482.55 Q428.246 1482.55 430.052 1479.01 Q431.88 1475.44 431.88 1468.33 Q431.88 1461.2 430.052 1457.66 Q428.246 1454.1 424.612 1454.1 M424.612 1450.39 Q430.422 1450.39 433.477 1455 Q436.556 1459.58 436.556 1468.33 Q436.556 1477.06 433.477 1481.67 Q430.422 1486.25 424.612 1486.25 Q418.802 1486.25 415.723 1481.67 Q412.667 1477.06 412.667 1468.33 Q412.667 1459.58 415.723 1455 Q418.802 1450.39 424.612 1450.39 Z\" fill=\"#000000\" fill-rule=\"evenodd\" fill-opacity=\"1\" /><path clip-path=\"url(#clip310)\" d=\"M532.733 1481.64 L540.372 1481.64 L540.372 1455.28 L532.061 1456.95 L532.061 1452.69 L540.325 1451.02 L545.001 1451.02 L545.001 1481.64 L552.64 1481.64 L552.64 1485.58 L532.733 1485.58 L532.733 1481.64 Z\" fill=\"#000000\" fill-rule=\"evenodd\" fill-opacity=\"1\" /><path clip-path=\"url(#clip310)\" d=\"M654.742 1481.64 L671.062 1481.64 L671.062 1485.58 L649.117 1485.58 L649.117 1481.64 Q651.779 1478.89 656.363 1474.26 Q660.969 1469.61 662.15 1468.27 Q664.395 1465.74 665.275 1464.01 Q666.178 1462.25 666.178 1460.56 Q666.178 1457.8 664.233 1456.07 Q662.312 1454.33 659.21 1454.33 Q657.011 1454.33 654.557 1455.09 Q652.127 1455.86 649.349 1457.41 L649.349 1452.69 Q652.173 1451.55 654.627 1450.97 Q657.08 1450.39 659.117 1450.39 Q664.488 1450.39 667.682 1453.08 Q670.877 1455.77 670.877 1460.26 Q670.877 1462.39 670.066 1464.31 Q669.279 1466.2 667.173 1468.8 Q666.594 1469.47 663.492 1472.69 Q660.391 1475.88 654.742 1481.64 Z\" fill=\"#000000\" fill-rule=\"evenodd\" fill-opacity=\"1\" /><path clip-path=\"url(#clip310)\" d=\"M782.076 1466.95 Q785.433 1467.66 787.308 1469.93 Q789.206 1472.2 789.206 1475.53 Q789.206 1480.65 785.687 1483.45 Q782.169 1486.25 775.687 1486.25 Q773.511 1486.25 771.197 1485.81 Q768.905 1485.39 766.451 1484.54 L766.451 1480.02 Q768.396 1481.16 770.71 1481.74 Q773.025 1482.32 775.548 1482.32 Q779.947 1482.32 782.238 1480.58 Q784.553 1478.84 784.553 1475.53 Q784.553 1472.48 782.4 1470.77 Q780.271 1469.03 776.451 1469.03 L772.423 1469.03 L772.423 1465.19 L776.636 1465.19 Q780.085 1465.19 781.914 1463.82 Q783.743 1462.43 783.743 1459.84 Q783.743 1457.18 781.845 1455.77 Q779.97 1454.33 776.451 1454.33 Q774.53 1454.33 772.331 1454.75 Q770.132 1455.16 767.493 1456.04 L767.493 1451.88 Q770.155 1451.14 772.47 1450.77 Q774.808 1450.39 776.868 1450.39 Q782.192 1450.39 785.294 1452.83 Q788.396 1455.23 788.396 1459.35 Q788.396 1462.22 786.752 1464.21 Q785.109 1466.18 782.076 1466.95 Z\" fill=\"#000000\" fill-rule=\"evenodd\" fill-opacity=\"1\" /><path clip-path=\"url(#clip310)\" d=\"M898.577 1455.09 L886.771 1473.54 L898.577 1473.54 L898.577 1455.09 M897.35 1451.02 L903.229 1451.02 L903.229 1473.54 L908.16 1473.54 L908.16 1477.43 L903.229 1477.43 L903.229 1485.58 L898.577 1485.58 L898.577 1477.43 L882.975 1477.43 L882.975 1472.92 L897.35 1451.02 Z\" fill=\"#000000\" fill-rule=\"evenodd\" fill-opacity=\"1\" /><path clip-path=\"url(#clip310)\" d=\"M1003.58 1451.02 L1021.94 1451.02 L1021.94 1454.96 L1007.87 1454.96 L1007.87 1463.43 Q1008.89 1463.08 1009.9 1462.92 Q1010.92 1462.73 1011.94 1462.73 Q1017.73 1462.73 1021.11 1465.9 Q1024.49 1469.08 1024.49 1474.49 Q1024.49 1480.07 1021.01 1483.17 Q1017.54 1486.25 1011.22 1486.25 Q1009.05 1486.25 1006.78 1485.88 Q1004.53 1485.51 1002.13 1484.77 L1002.13 1480.07 Q1004.21 1481.2 1006.43 1481.76 Q1008.65 1482.32 1011.13 1482.32 Q1015.13 1482.32 1017.47 1480.21 Q1019.81 1478.1 1019.81 1474.49 Q1019.81 1470.88 1017.47 1468.77 Q1015.13 1466.67 1011.13 1466.67 Q1009.26 1466.67 1007.38 1467.08 Q1005.53 1467.5 1003.58 1468.38 L1003.58 1451.02 Z\" fill=\"#000000\" fill-rule=\"evenodd\" fill-opacity=\"1\" /><path clip-path=\"url(#clip310)\" d=\"M1131.45 1466.44 Q1128.3 1466.44 1126.45 1468.59 Q1124.62 1470.74 1124.62 1474.49 Q1124.62 1478.22 1126.45 1480.39 Q1128.3 1482.55 1131.45 1482.55 Q1134.6 1482.55 1136.43 1480.39 Q1138.28 1478.22 1138.28 1474.49 Q1138.28 1470.74 1136.43 1468.59 Q1134.6 1466.44 1131.45 1466.44 M1140.73 1451.78 L1140.73 1456.04 Q1138.97 1455.21 1137.17 1454.77 Q1135.39 1454.33 1133.63 1454.33 Q1129 1454.33 1126.54 1457.45 Q1124.11 1460.58 1123.77 1466.9 Q1125.13 1464.89 1127.19 1463.82 Q1129.25 1462.73 1131.73 1462.73 Q1136.94 1462.73 1139.95 1465.9 Q1142.98 1469.05 1142.98 1474.49 Q1142.98 1479.82 1139.83 1483.03 Q1136.68 1486.25 1131.45 1486.25 Q1125.45 1486.25 1122.28 1481.67 Q1119.11 1477.06 1119.11 1468.33 Q1119.11 1460.14 1123 1455.28 Q1126.89 1450.39 1133.44 1450.39 Q1135.2 1450.39 1136.98 1450.74 Q1138.79 1451.09 1140.73 1451.78 Z\" fill=\"#000000\" fill-rule=\"evenodd\" fill-opacity=\"1\" /><path clip-path=\"url(#clip310)\" d=\"M1237.67 1451.02 L1259.9 1451.02 L1259.9 1453.01 L1247.35 1485.58 L1242.46 1485.58 L1254.27 1454.96 L1237.67 1454.96 L1237.67 1451.02 Z\" fill=\"#000000\" fill-rule=\"evenodd\" fill-opacity=\"1\" /><path clip-path=\"url(#clip310)\" d=\"M1366.52 1469.17 Q1363.19 1469.17 1361.27 1470.95 Q1359.37 1472.73 1359.37 1475.86 Q1359.37 1478.98 1361.27 1480.77 Q1363.19 1482.55 1366.52 1482.55 Q1369.86 1482.55 1371.78 1480.77 Q1373.7 1478.96 1373.7 1475.86 Q1373.7 1472.73 1371.78 1470.95 Q1369.88 1469.17 1366.52 1469.17 M1361.85 1467.18 Q1358.84 1466.44 1357.15 1464.38 Q1355.48 1462.32 1355.48 1459.35 Q1355.48 1455.21 1358.42 1452.8 Q1361.38 1450.39 1366.52 1450.39 Q1371.69 1450.39 1374.62 1452.8 Q1377.56 1455.21 1377.56 1459.35 Q1377.56 1462.32 1375.87 1464.38 Q1374.21 1466.44 1371.22 1467.18 Q1374.6 1467.96 1376.48 1470.26 Q1378.37 1472.55 1378.37 1475.86 Q1378.37 1480.88 1375.3 1483.57 Q1372.24 1486.25 1366.52 1486.25 Q1360.81 1486.25 1357.73 1483.57 Q1354.67 1480.88 1354.67 1475.86 Q1354.67 1472.55 1356.57 1470.26 Q1358.47 1467.96 1361.85 1467.18 M1360.13 1459.79 Q1360.13 1462.48 1361.8 1463.98 Q1363.49 1465.49 1366.52 1465.49 Q1369.53 1465.49 1371.22 1463.98 Q1372.94 1462.48 1372.94 1459.79 Q1372.94 1457.11 1371.22 1455.6 Q1369.53 1454.1 1366.52 1454.1 Q1363.49 1454.1 1361.8 1455.6 Q1360.13 1457.11 1360.13 1459.79 Z\" fill=\"#000000\" fill-rule=\"evenodd\" fill-opacity=\"1\" /><path clip-path=\"url(#clip310)\" d=\"M1474.56 1484.86 L1474.56 1480.6 Q1476.32 1481.44 1478.13 1481.88 Q1479.93 1482.32 1481.67 1482.32 Q1486.3 1482.32 1488.73 1479.21 Q1491.18 1476.09 1491.53 1469.75 Q1490.19 1471.74 1488.13 1472.8 Q1486.07 1473.87 1483.57 1473.87 Q1478.38 1473.87 1475.35 1470.74 Q1472.34 1467.59 1472.34 1462.15 Q1472.34 1456.83 1475.49 1453.61 Q1478.64 1450.39 1483.87 1450.39 Q1489.86 1450.39 1493.01 1455 Q1496.18 1459.58 1496.18 1468.33 Q1496.18 1476.51 1492.29 1481.39 Q1488.43 1486.25 1481.88 1486.25 Q1480.12 1486.25 1478.31 1485.9 Q1476.51 1485.56 1474.56 1484.86 M1483.87 1470.21 Q1487.02 1470.21 1488.85 1468.06 Q1490.7 1465.9 1490.7 1462.15 Q1490.7 1458.43 1488.85 1456.27 Q1487.02 1454.1 1483.87 1454.1 Q1480.72 1454.1 1478.87 1456.27 Q1477.04 1458.43 1477.04 1462.15 Q1477.04 1465.9 1478.87 1468.06 Q1480.72 1470.21 1483.87 1470.21 Z\" fill=\"#000000\" fill-rule=\"evenodd\" fill-opacity=\"1\" /><path clip-path=\"url(#clip310)\" d=\"M1576.69 1481.64 L1584.33 1481.64 L1584.33 1455.28 L1576.02 1456.95 L1576.02 1452.69 L1584.28 1451.02 L1588.96 1451.02 L1588.96 1481.64 L1596.6 1481.64 L1596.6 1485.58 L1576.69 1485.58 L1576.69 1481.64 Z\" fill=\"#000000\" fill-rule=\"evenodd\" fill-opacity=\"1\" /><path clip-path=\"url(#clip310)\" d=\"M1616.04 1454.1 Q1612.43 1454.1 1610.6 1457.66 Q1608.79 1461.2 1608.79 1468.33 Q1608.79 1475.44 1610.6 1479.01 Q1612.43 1482.55 1616.04 1482.55 Q1619.67 1482.55 1621.48 1479.01 Q1623.31 1475.44 1623.31 1468.33 Q1623.31 1461.2 1621.48 1457.66 Q1619.67 1454.1 1616.04 1454.1 M1616.04 1450.39 Q1621.85 1450.39 1624.91 1455 Q1627.98 1459.58 1627.98 1468.33 Q1627.98 1477.06 1624.91 1481.67 Q1621.85 1486.25 1616.04 1486.25 Q1610.23 1486.25 1607.15 1481.67 Q1604.1 1477.06 1604.1 1468.33 Q1604.1 1459.58 1607.15 1455 Q1610.23 1450.39 1616.04 1450.39 Z\" fill=\"#000000\" fill-rule=\"evenodd\" fill-opacity=\"1\" /><path clip-path=\"url(#clip310)\" d=\"M1695.04 1481.64 L1702.68 1481.64 L1702.68 1455.28 L1694.37 1456.95 L1694.37 1452.69 L1702.63 1451.02 L1707.31 1451.02 L1707.31 1481.64 L1714.95 1481.64 L1714.95 1485.58 L1695.04 1485.58 L1695.04 1481.64 Z\" fill=\"#000000\" fill-rule=\"evenodd\" fill-opacity=\"1\" /><path clip-path=\"url(#clip310)\" d=\"M1725.2 1481.64 L1732.84 1481.64 L1732.84 1455.28 L1724.53 1456.95 L1724.53 1452.69 L1732.8 1451.02 L1737.47 1451.02 L1737.47 1481.64 L1745.11 1481.64 L1745.11 1485.58 L1725.2 1485.58 L1725.2 1481.64 Z\" fill=\"#000000\" fill-rule=\"evenodd\" fill-opacity=\"1\" /><path clip-path=\"url(#clip310)\" d=\"M1812.96 1481.64 L1820.6 1481.64 L1820.6 1455.28 L1812.29 1456.95 L1812.29 1452.69 L1820.56 1451.02 L1825.23 1451.02 L1825.23 1481.64 L1832.87 1481.64 L1832.87 1485.58 L1812.96 1485.58 L1812.96 1481.64 Z\" fill=\"#000000\" fill-rule=\"evenodd\" fill-opacity=\"1\" /><path clip-path=\"url(#clip310)\" d=\"M1846.34 1481.64 L1862.66 1481.64 L1862.66 1485.58 L1840.72 1485.58 L1840.72 1481.64 Q1843.38 1478.89 1847.96 1474.26 Q1852.57 1469.61 1853.75 1468.27 Q1856 1465.74 1856.88 1464.01 Q1857.78 1462.25 1857.78 1460.56 Q1857.78 1457.8 1855.84 1456.07 Q1853.91 1454.33 1850.81 1454.33 Q1848.61 1454.33 1846.16 1455.09 Q1843.73 1455.86 1840.95 1457.41 L1840.95 1452.69 Q1843.77 1451.55 1846.23 1450.97 Q1848.68 1450.39 1850.72 1450.39 Q1856.09 1450.39 1859.28 1453.08 Q1862.48 1455.77 1862.48 1460.26 Q1862.48 1462.39 1861.67 1464.31 Q1860.88 1466.2 1858.77 1468.8 Q1858.2 1469.47 1855.09 1472.69 Q1851.99 1475.88 1846.34 1481.64 Z\" fill=\"#000000\" fill-rule=\"evenodd\" fill-opacity=\"1\" /><path clip-path=\"url(#clip310)\" d=\"M1930.23 1481.64 L1937.87 1481.64 L1937.87 1455.28 L1929.56 1456.95 L1929.56 1452.69 L1937.82 1451.02 L1942.5 1451.02 L1942.5 1481.64 L1950.14 1481.64 L1950.14 1485.58 L1930.23 1485.58 L1930.23 1481.64 Z\" fill=\"#000000\" fill-rule=\"evenodd\" fill-opacity=\"1\" /><path clip-path=\"url(#clip310)\" d=\"M1973.75 1466.95 Q1977.1 1467.66 1978.98 1469.93 Q1980.88 1472.2 1980.88 1475.53 Q1980.88 1480.65 1977.36 1483.45 Q1973.84 1486.25 1967.36 1486.25 Q1965.18 1486.25 1962.87 1485.81 Q1960.58 1485.39 1958.12 1484.54 L1958.12 1480.02 Q1960.07 1481.16 1962.38 1481.74 Q1964.7 1482.32 1967.22 1482.32 Q1971.62 1482.32 1973.91 1480.58 Q1976.22 1478.84 1976.22 1475.53 Q1976.22 1472.48 1974.07 1470.77 Q1971.94 1469.03 1968.12 1469.03 L1964.09 1469.03 L1964.09 1465.19 L1968.31 1465.19 Q1971.76 1465.19 1973.59 1463.82 Q1975.41 1462.43 1975.41 1459.84 Q1975.41 1457.18 1973.52 1455.77 Q1971.64 1454.33 1968.12 1454.33 Q1966.2 1454.33 1964 1454.75 Q1961.8 1455.16 1959.16 1456.04 L1959.16 1451.88 Q1961.83 1451.14 1964.14 1450.77 Q1966.48 1450.39 1968.54 1450.39 Q1973.86 1450.39 1976.97 1452.83 Q1980.07 1455.23 1980.07 1459.35 Q1980.07 1462.22 1978.42 1464.21 Q1976.78 1466.18 1973.75 1466.95 Z\" fill=\"#000000\" fill-rule=\"evenodd\" fill-opacity=\"1\" /><path clip-path=\"url(#clip310)\" d=\"M2047.4 1481.64 L2055.04 1481.64 L2055.04 1455.28 L2046.73 1456.95 L2046.73 1452.69 L2054.99 1451.02 L2059.67 1451.02 L2059.67 1481.64 L2067.31 1481.64 L2067.31 1485.58 L2047.4 1485.58 L2047.4 1481.64 Z\" fill=\"#000000\" fill-rule=\"evenodd\" fill-opacity=\"1\" /><path clip-path=\"url(#clip310)\" d=\"M2089.6 1455.09 L2077.79 1473.54 L2089.6 1473.54 L2089.6 1455.09 M2088.37 1451.02 L2094.25 1451.02 L2094.25 1473.54 L2099.18 1473.54 L2099.18 1477.43 L2094.25 1477.43 L2094.25 1485.58 L2089.6 1485.58 L2089.6 1477.43 L2074 1477.43 L2074 1472.92 L2088.37 1451.02 Z\" fill=\"#000000\" fill-rule=\"evenodd\" fill-opacity=\"1\" /><path clip-path=\"url(#clip310)\" d=\"M2165.88 1481.64 L2173.52 1481.64 L2173.52 1455.28 L2165.21 1456.95 L2165.21 1452.69 L2173.47 1451.02 L2178.15 1451.02 L2178.15 1481.64 L2185.79 1481.64 L2185.79 1485.58 L2165.88 1485.58 L2165.88 1481.64 Z\" fill=\"#000000\" fill-rule=\"evenodd\" fill-opacity=\"1\" /><path clip-path=\"url(#clip310)\" d=\"M2195.28 1451.02 L2213.64 1451.02 L2213.64 1454.96 L2199.56 1454.96 L2199.56 1463.43 Q2200.58 1463.08 2201.6 1462.92 Q2202.62 1462.73 2203.64 1462.73 Q2209.42 1462.73 2212.8 1465.9 Q2216.18 1469.08 2216.18 1474.49 Q2216.18 1480.07 2212.71 1483.17 Q2209.24 1486.25 2202.92 1486.25 Q2200.74 1486.25 2198.47 1485.88 Q2196.23 1485.51 2193.82 1484.77 L2193.82 1480.07 Q2195.9 1481.2 2198.13 1481.76 Q2200.35 1482.32 2202.82 1482.32 Q2206.83 1482.32 2209.17 1480.21 Q2211.51 1478.1 2211.51 1474.49 Q2211.51 1470.88 2209.17 1468.77 Q2206.83 1466.67 2202.82 1466.67 Q2200.95 1466.67 2199.07 1467.08 Q2197.22 1467.5 2195.28 1468.38 L2195.28 1451.02 Z\" fill=\"#000000\" fill-rule=\"evenodd\" fill-opacity=\"1\" /><path clip-path=\"url(#clip310)\" d=\"M2283.04 1481.64 L2290.68 1481.64 L2290.68 1455.28 L2282.37 1456.95 L2282.37 1452.69 L2290.63 1451.02 L2295.31 1451.02 L2295.31 1481.64 L2302.95 1481.64 L2302.95 1485.58 L2283.04 1485.58 L2283.04 1481.64 Z\" fill=\"#000000\" fill-rule=\"evenodd\" fill-opacity=\"1\" /><path clip-path=\"url(#clip310)\" d=\"M2322.97 1466.44 Q2319.82 1466.44 2317.97 1468.59 Q2316.14 1470.74 2316.14 1474.49 Q2316.14 1478.22 2317.97 1480.39 Q2319.82 1482.55 2322.97 1482.55 Q2326.12 1482.55 2327.95 1480.39 Q2329.8 1478.22 2329.8 1474.49 Q2329.8 1470.74 2327.95 1468.59 Q2326.12 1466.44 2322.97 1466.44 M2332.25 1451.78 L2332.25 1456.04 Q2330.49 1455.21 2328.69 1454.77 Q2326.91 1454.33 2325.15 1454.33 Q2320.52 1454.33 2318.06 1457.45 Q2315.63 1460.58 2315.29 1466.9 Q2316.65 1464.89 2318.71 1463.82 Q2320.77 1462.73 2323.25 1462.73 Q2328.46 1462.73 2331.47 1465.9 Q2334.5 1469.05 2334.5 1474.49 Q2334.5 1479.82 2331.35 1483.03 Q2328.2 1486.25 2322.97 1486.25 Q2316.98 1486.25 2313.8 1481.67 Q2310.63 1477.06 2310.63 1468.33 Q2310.63 1460.14 2314.52 1455.28 Q2318.41 1450.39 2324.96 1450.39 Q2326.72 1450.39 2328.5 1450.74 Q2330.31 1451.09 2332.25 1451.78 Z\" fill=\"#000000\" fill-rule=\"evenodd\" fill-opacity=\"1\" /><path clip-path=\"url(#clip310)\" d=\"M2401.31 1481.64 L2408.95 1481.64 L2408.95 1455.28 L2400.64 1456.95 L2400.64 1452.69 L2408.9 1451.02 L2413.58 1451.02 L2413.58 1481.64 L2421.22 1481.64 L2421.22 1485.58 L2401.31 1485.58 L2401.31 1481.64 Z\" fill=\"#000000\" fill-rule=\"evenodd\" fill-opacity=\"1\" /><path clip-path=\"url(#clip310)\" d=\"M2429.48 1451.02 L2451.71 1451.02 L2451.71 1453.01 L2439.16 1485.58 L2434.27 1485.58 L2446.08 1454.96 L2429.48 1454.96 L2429.48 1451.02 Z\" fill=\"#000000\" fill-rule=\"evenodd\" fill-opacity=\"1\" /><path clip-path=\"url(#clip310)\" d=\"M2518.65 1481.64 L2526.28 1481.64 L2526.28 1455.28 L2517.97 1456.95 L2517.97 1452.69 L2526.24 1451.02 L2530.91 1451.02 L2530.91 1481.64 L2538.55 1481.64 L2538.55 1485.58 L2518.65 1485.58 L2518.65 1481.64 Z\" fill=\"#000000\" fill-rule=\"evenodd\" fill-opacity=\"1\" /><path clip-path=\"url(#clip310)\" d=\"M2558 1469.17 Q2554.66 1469.17 2552.74 1470.95 Q2550.84 1472.73 2550.84 1475.86 Q2550.84 1478.98 2552.74 1480.77 Q2554.66 1482.55 2558 1482.55 Q2561.33 1482.55 2563.25 1480.77 Q2565.17 1478.96 2565.17 1475.86 Q2565.17 1472.73 2563.25 1470.95 Q2561.35 1469.17 2558 1469.17 M2553.32 1467.18 Q2550.31 1466.44 2548.62 1464.38 Q2546.96 1462.32 2546.96 1459.35 Q2546.96 1455.21 2549.9 1452.8 Q2552.86 1450.39 2558 1450.39 Q2563.16 1450.39 2566.1 1452.8 Q2569.04 1455.21 2569.04 1459.35 Q2569.04 1462.32 2567.35 1464.38 Q2565.68 1466.44 2562.7 1467.18 Q2566.08 1467.96 2567.95 1470.26 Q2569.85 1472.55 2569.85 1475.86 Q2569.85 1480.88 2566.77 1483.57 Q2563.72 1486.25 2558 1486.25 Q2552.28 1486.25 2549.2 1483.57 Q2546.15 1480.88 2546.15 1475.86 Q2546.15 1472.55 2548.04 1470.26 Q2549.94 1467.96 2553.32 1467.18 M2551.61 1459.79 Q2551.61 1462.48 2553.28 1463.98 Q2554.97 1465.49 2558 1465.49 Q2561.01 1465.49 2562.7 1463.98 Q2564.41 1462.48 2564.41 1459.79 Q2564.41 1457.11 2562.7 1455.6 Q2561.01 1454.1 2558 1454.1 Q2554.97 1454.1 2553.28 1455.6 Q2551.61 1457.11 2551.61 1459.79 Z\" fill=\"#000000\" fill-rule=\"evenodd\" fill-opacity=\"1\" /><path clip-path=\"url(#clip310)\" d=\"M2636.43 1481.64 L2644.07 1481.64 L2644.07 1455.28 L2635.76 1456.95 L2635.76 1452.69 L2644.02 1451.02 L2648.7 1451.02 L2648.7 1481.64 L2656.34 1481.64 L2656.34 1485.58 L2636.43 1485.58 L2636.43 1481.64 Z\" fill=\"#000000\" fill-rule=\"evenodd\" fill-opacity=\"1\" /><path clip-path=\"url(#clip310)\" d=\"M2665.92 1484.86 L2665.92 1480.6 Q2667.68 1481.44 2669.49 1481.88 Q2671.29 1482.32 2673.03 1482.32 Q2677.66 1482.32 2680.09 1479.21 Q2682.54 1476.09 2682.89 1469.75 Q2681.55 1471.74 2679.49 1472.8 Q2677.43 1473.87 2674.93 1473.87 Q2669.74 1473.87 2666.71 1470.74 Q2663.7 1467.59 2663.7 1462.15 Q2663.7 1456.83 2666.85 1453.61 Q2670 1450.39 2675.23 1450.39 Q2681.22 1450.39 2684.37 1455 Q2687.54 1459.58 2687.54 1468.33 Q2687.54 1476.51 2683.65 1481.39 Q2679.79 1486.25 2673.24 1486.25 Q2671.48 1486.25 2669.67 1485.9 Q2667.87 1485.56 2665.92 1484.86 M2675.23 1470.21 Q2678.38 1470.21 2680.2 1468.06 Q2682.06 1465.9 2682.06 1462.15 Q2682.06 1458.43 2680.2 1456.27 Q2678.38 1454.1 2675.23 1454.1 Q2672.08 1454.1 2670.23 1456.27 Q2668.4 1458.43 2668.4 1462.15 Q2668.4 1465.9 2670.23 1468.06 Q2672.08 1470.21 2675.23 1470.21 Z\" fill=\"#000000\" fill-rule=\"evenodd\" fill-opacity=\"1\" /><path clip-path=\"url(#clip310)\" d=\"M2758.16 1481.64 L2774.48 1481.64 L2774.48 1485.58 L2752.54 1485.58 L2752.54 1481.64 Q2755.2 1478.89 2759.78 1474.26 Q2764.39 1469.61 2765.57 1468.27 Q2767.82 1465.74 2768.7 1464.01 Q2769.6 1462.25 2769.6 1460.56 Q2769.6 1457.8 2767.65 1456.07 Q2765.73 1454.33 2762.63 1454.33 Q2760.43 1454.33 2757.98 1455.09 Q2755.55 1455.86 2752.77 1457.41 L2752.77 1452.69 Q2755.59 1451.55 2758.05 1450.97 Q2760.5 1450.39 2762.54 1450.39 Q2767.91 1450.39 2771.1 1453.08 Q2774.3 1455.77 2774.3 1460.26 Q2774.3 1462.39 2773.49 1464.31 Q2772.7 1466.2 2770.59 1468.8 Q2770.01 1469.47 2766.91 1472.69 Q2763.81 1475.88 2758.16 1481.64 Z\" fill=\"#000000\" fill-rule=\"evenodd\" fill-opacity=\"1\" /><path clip-path=\"url(#clip310)\" d=\"M2794.3 1454.1 Q2790.69 1454.1 2788.86 1457.66 Q2787.05 1461.2 2787.05 1468.33 Q2787.05 1475.44 2788.86 1479.01 Q2790.69 1482.55 2794.3 1482.55 Q2797.93 1482.55 2799.74 1479.01 Q2801.57 1475.44 2801.57 1468.33 Q2801.57 1461.2 2799.74 1457.66 Q2797.93 1454.1 2794.3 1454.1 M2794.3 1450.39 Q2800.11 1450.39 2803.16 1455 Q2806.24 1459.58 2806.24 1468.33 Q2806.24 1477.06 2803.16 1481.67 Q2800.11 1486.25 2794.3 1486.25 Q2788.49 1486.25 2785.41 1481.67 Q2782.35 1477.06 2782.35 1468.33 Q2782.35 1459.58 2785.41 1455 Q2788.49 1450.39 2794.3 1450.39 Z\" fill=\"#000000\" fill-rule=\"evenodd\" fill-opacity=\"1\" /><path clip-path=\"url(#clip310)\" d=\"M1027.9 1520.52 L1036.55 1520.52 L1057.62 1560.28 L1057.62 1520.52 L1063.86 1520.52 L1063.86 1568.04 L1055.21 1568.04 L1034.14 1528.29 L1034.14 1568.04 L1027.9 1568.04 L1027.9 1520.52 Z\" fill=\"#000000\" fill-rule=\"evenodd\" fill-opacity=\"1\" /><path clip-path=\"url(#clip310)\" d=\"M1075.8 1553.98 L1075.8 1532.4 L1081.66 1532.4 L1081.66 1553.75 Q1081.66 1558.81 1083.63 1561.36 Q1085.6 1563.87 1089.55 1563.87 Q1094.29 1563.87 1097.03 1560.85 Q1099.8 1557.83 1099.8 1552.61 L1099.8 1532.4 L1105.65 1532.4 L1105.65 1568.04 L1099.8 1568.04 L1099.8 1562.57 Q1097.66 1565.82 1094.83 1567.41 Q1092.03 1568.97 1088.31 1568.97 Q1082.16 1568.97 1078.98 1565.15 Q1075.8 1561.33 1075.8 1553.98 M1090.54 1531.54 L1090.54 1531.54 Z\" fill=\"#000000\" fill-rule=\"evenodd\" fill-opacity=\"1\" /><path clip-path=\"url(#clip310)\" d=\"M1145.47 1539.24 Q1147.67 1535.29 1150.72 1533.41 Q1153.78 1531.54 1157.92 1531.54 Q1163.49 1531.54 1166.51 1535.45 Q1169.53 1539.33 1169.53 1546.53 L1169.53 1568.04 L1163.65 1568.04 L1163.65 1546.72 Q1163.65 1541.59 1161.83 1539.11 Q1160.02 1536.63 1156.29 1536.63 Q1151.74 1536.63 1149.1 1539.65 Q1146.46 1542.68 1146.46 1547.9 L1146.46 1568.04 L1140.57 1568.04 L1140.57 1546.72 Q1140.57 1541.56 1138.76 1539.11 Q1136.94 1536.63 1133.15 1536.63 Q1128.67 1536.63 1126.02 1539.68 Q1123.38 1542.71 1123.38 1547.9 L1123.38 1568.04 L1117.49 1568.04 L1117.49 1532.4 L1123.38 1532.4 L1123.38 1537.93 Q1125.39 1534.66 1128.19 1533.1 Q1130.99 1531.54 1134.84 1531.54 Q1138.72 1531.54 1141.43 1533.51 Q1144.17 1535.48 1145.47 1539.24 Z\" fill=\"#000000\" fill-rule=\"evenodd\" fill-opacity=\"1\" /><path clip-path=\"url(#clip310)\" d=\"M1206.8 1550.25 Q1206.8 1543.79 1204.13 1540.13 Q1201.49 1536.44 1196.84 1536.44 Q1192.2 1536.44 1189.52 1540.13 Q1186.88 1543.79 1186.88 1550.25 Q1186.88 1556.71 1189.52 1560.4 Q1192.2 1564.07 1196.84 1564.07 Q1201.49 1564.07 1204.13 1560.4 Q1206.8 1556.71 1206.8 1550.25 M1186.88 1537.81 Q1188.73 1534.62 1191.53 1533.1 Q1194.36 1531.54 1198.27 1531.54 Q1204.77 1531.54 1208.81 1536.69 Q1212.88 1541.85 1212.88 1550.25 Q1212.88 1558.65 1208.81 1563.81 Q1204.77 1568.97 1198.27 1568.97 Q1194.36 1568.97 1191.53 1567.44 Q1188.73 1565.88 1186.88 1562.7 L1186.88 1568.04 L1180.99 1568.04 L1180.99 1518.52 L1186.88 1518.52 L1186.88 1537.81 Z\" fill=\"#000000\" fill-rule=\"evenodd\" fill-opacity=\"1\" /><path clip-path=\"url(#clip310)\" d=\"M1253.08 1548.76 L1253.08 1551.62 L1226.16 1551.62 Q1226.54 1557.67 1229.79 1560.85 Q1233.06 1564 1238.89 1564 Q1242.26 1564 1245.41 1563.17 Q1248.6 1562.35 1251.71 1560.69 L1251.71 1566.23 Q1248.56 1567.57 1245.25 1568.27 Q1241.94 1568.97 1238.54 1568.97 Q1230.01 1568.97 1225.01 1564 Q1220.05 1559.04 1220.05 1550.57 Q1220.05 1541.82 1224.76 1536.69 Q1229.5 1531.54 1237.52 1531.54 Q1244.71 1531.54 1248.88 1536.18 Q1253.08 1540.8 1253.08 1548.76 M1247.23 1547.04 Q1247.16 1542.23 1244.52 1539.37 Q1241.91 1536.5 1237.58 1536.5 Q1232.68 1536.5 1229.72 1539.27 Q1226.79 1542.04 1226.35 1547.07 L1247.23 1547.04 Z\" fill=\"#000000\" fill-rule=\"evenodd\" fill-opacity=\"1\" /><path clip-path=\"url(#clip310)\" d=\"M1283.35 1537.87 Q1282.37 1537.3 1281.19 1537.04 Q1280.04 1536.76 1278.64 1536.76 Q1273.68 1536.76 1271 1540 Q1268.36 1543.22 1268.36 1549.27 L1268.36 1568.04 L1262.47 1568.04 L1262.47 1532.4 L1268.36 1532.4 L1268.36 1537.93 Q1270.21 1534.69 1273.17 1533.13 Q1276.13 1531.54 1280.36 1531.54 Q1280.97 1531.54 1281.7 1531.63 Q1282.43 1531.7 1283.32 1531.85 L1283.35 1537.87 Z\" fill=\"#000000\" fill-rule=\"evenodd\" fill-opacity=\"1\" /><path clip-path=\"url(#clip310)\" d=\"M1324.03 1536.5 Q1319.32 1536.5 1316.58 1540.19 Q1313.84 1543.85 1313.84 1550.25 Q1313.84 1556.65 1316.55 1560.34 Q1319.29 1564 1324.03 1564 Q1328.71 1564 1331.45 1560.31 Q1334.18 1556.62 1334.18 1550.25 Q1334.18 1543.92 1331.45 1540.23 Q1328.71 1536.5 1324.03 1536.5 M1324.03 1531.54 Q1331.67 1531.54 1336.03 1536.5 Q1340.39 1541.47 1340.39 1550.25 Q1340.39 1559 1336.03 1564 Q1331.67 1568.97 1324.03 1568.97 Q1316.36 1568.97 1312 1564 Q1307.67 1559 1307.67 1550.25 Q1307.67 1541.47 1312 1536.5 Q1316.36 1531.54 1324.03 1531.54 Z\" fill=\"#000000\" fill-rule=\"evenodd\" fill-opacity=\"1\" /><path clip-path=\"url(#clip310)\" d=\"M1368.14 1518.52 L1368.14 1523.39 L1362.54 1523.39 Q1359.39 1523.39 1358.15 1524.66 Q1356.94 1525.93 1356.94 1529.24 L1356.94 1532.4 L1366.58 1532.4 L1366.58 1536.95 L1356.94 1536.95 L1356.94 1568.04 L1351.05 1568.04 L1351.05 1536.95 L1345.45 1536.95 L1345.45 1532.4 L1351.05 1532.4 L1351.05 1529.91 Q1351.05 1523.96 1353.82 1521.26 Q1356.59 1518.52 1362.61 1518.52 L1368.14 1518.52 Z\" fill=\"#000000\" fill-rule=\"evenodd\" fill-opacity=\"1\" /><path clip-path=\"url(#clip310)\" d=\"M1419.36 1550.25 Q1419.36 1543.79 1416.68 1540.13 Q1414.04 1536.44 1409.39 1536.44 Q1404.75 1536.44 1402.07 1540.13 Q1399.43 1543.79 1399.43 1550.25 Q1399.43 1556.71 1402.07 1560.4 Q1404.75 1564.07 1409.39 1564.07 Q1414.04 1564.07 1416.68 1560.4 Q1419.36 1556.71 1419.36 1550.25 M1399.43 1537.81 Q1401.28 1534.62 1404.08 1533.1 Q1406.91 1531.54 1410.83 1531.54 Q1417.32 1531.54 1421.36 1536.69 Q1425.44 1541.85 1425.44 1550.25 Q1425.44 1558.65 1421.36 1563.81 Q1417.32 1568.97 1410.83 1568.97 Q1406.91 1568.97 1404.08 1567.44 Q1401.28 1565.88 1399.43 1562.7 L1399.43 1568.04 L1393.54 1568.04 L1393.54 1518.52 L1399.43 1518.52 L1399.43 1537.81 Z\" fill=\"#000000\" fill-rule=\"evenodd\" fill-opacity=\"1\" /><path clip-path=\"url(#clip310)\" d=\"M1434.54 1553.98 L1434.54 1532.4 L1440.39 1532.4 L1440.39 1553.75 Q1440.39 1558.81 1442.37 1561.36 Q1444.34 1563.87 1448.29 1563.87 Q1453.03 1563.87 1455.77 1560.85 Q1458.54 1557.83 1458.54 1552.61 L1458.54 1532.4 L1464.39 1532.4 L1464.39 1568.04 L1458.54 1568.04 L1458.54 1562.57 Q1456.4 1565.82 1453.57 1567.41 Q1450.77 1568.97 1447.05 1568.97 Q1440.9 1568.97 1437.72 1565.15 Q1434.54 1561.33 1434.54 1553.98 M1449.27 1531.54 L1449.27 1531.54 Z\" fill=\"#000000\" fill-rule=\"evenodd\" fill-opacity=\"1\" /><path clip-path=\"url(#clip310)\" d=\"M1497.11 1537.87 Q1496.13 1537.3 1494.95 1537.04 Q1493.8 1536.76 1492.4 1536.76 Q1487.44 1536.76 1484.76 1540 Q1482.12 1543.22 1482.12 1549.27 L1482.12 1568.04 L1476.23 1568.04 L1476.23 1532.4 L1482.12 1532.4 L1482.12 1537.93 Q1483.97 1534.69 1486.93 1533.13 Q1489.89 1531.54 1494.12 1531.54 Q1494.73 1531.54 1495.46 1531.63 Q1496.19 1531.7 1497.08 1531.85 L1497.11 1537.87 Z\" fill=\"#000000\" fill-rule=\"evenodd\" fill-opacity=\"1\" /><path clip-path=\"url(#clip310)\" d=\"M1525.98 1533.45 L1525.98 1538.98 Q1523.5 1537.71 1520.83 1537.07 Q1518.15 1536.44 1515.29 1536.44 Q1510.93 1536.44 1508.73 1537.77 Q1506.57 1539.11 1506.57 1541.79 Q1506.57 1543.82 1508.13 1545 Q1509.69 1546.15 1514.4 1547.2 L1516.4 1547.64 Q1522.64 1548.98 1525.25 1551.43 Q1527.89 1553.85 1527.89 1558.21 Q1527.89 1563.17 1523.94 1566.07 Q1520.03 1568.97 1513.15 1568.97 Q1510.29 1568.97 1507.17 1568.39 Q1504.08 1567.85 1500.65 1566.74 L1500.65 1560.69 Q1503.89 1562.38 1507.04 1563.24 Q1510.19 1564.07 1513.28 1564.07 Q1517.42 1564.07 1519.65 1562.66 Q1521.88 1561.23 1521.88 1558.65 Q1521.88 1556.27 1520.25 1554.99 Q1518.66 1553.72 1513.22 1552.54 L1511.18 1552.07 Q1505.74 1550.92 1503.32 1548.56 Q1500.9 1546.18 1500.9 1542.04 Q1500.9 1537.01 1504.47 1534.27 Q1508.03 1531.54 1514.59 1531.54 Q1517.83 1531.54 1520.7 1532.01 Q1523.56 1532.49 1525.98 1533.45 Z\" fill=\"#000000\" fill-rule=\"evenodd\" fill-opacity=\"1\" /><path clip-path=\"url(#clip310)\" d=\"M1543.01 1522.27 L1543.01 1532.4 L1555.07 1532.4 L1555.07 1536.95 L1543.01 1536.95 L1543.01 1556.3 Q1543.01 1560.66 1544.19 1561.9 Q1545.4 1563.14 1549.06 1563.14 L1555.07 1563.14 L1555.07 1568.04 L1549.06 1568.04 Q1542.28 1568.04 1539.7 1565.53 Q1537.12 1562.98 1537.12 1556.3 L1537.12 1536.95 L1532.82 1536.95 L1532.82 1532.4 L1537.12 1532.4 L1537.12 1522.27 L1543.01 1522.27 Z\" fill=\"#000000\" fill-rule=\"evenodd\" fill-opacity=\"1\" /><path clip-path=\"url(#clip310)\" d=\"M1585.5 1533.45 L1585.5 1538.98 Q1583.02 1537.71 1580.34 1537.07 Q1577.67 1536.44 1574.81 1536.44 Q1570.45 1536.44 1568.25 1537.77 Q1566.09 1539.11 1566.09 1541.79 Q1566.09 1543.82 1567.64 1545 Q1569.2 1546.15 1573.92 1547.2 L1575.92 1547.64 Q1582.16 1548.98 1584.77 1551.43 Q1587.41 1553.85 1587.41 1558.21 Q1587.41 1563.17 1583.46 1566.07 Q1579.55 1568.97 1572.67 1568.97 Q1569.81 1568.97 1566.69 1568.39 Q1563.6 1567.85 1560.17 1566.74 L1560.17 1560.69 Q1563.41 1562.38 1566.56 1563.24 Q1569.71 1564.07 1572.8 1564.07 Q1576.94 1564.07 1579.17 1562.66 Q1581.39 1561.23 1581.39 1558.65 Q1581.39 1556.27 1579.77 1554.99 Q1578.18 1553.72 1572.74 1552.54 L1570.7 1552.07 Q1565.26 1550.92 1562.84 1548.56 Q1560.42 1546.18 1560.42 1542.04 Q1560.42 1537.01 1563.98 1534.27 Q1567.55 1531.54 1574.11 1531.54 Q1577.35 1531.54 1580.22 1532.01 Q1583.08 1532.49 1585.5 1533.45 Z\" fill=\"#000000\" fill-rule=\"evenodd\" fill-opacity=\"1\" /><polyline clip-path=\"url(#clip312)\" style=\"stroke:#000000; stroke-linecap:butt; stroke-linejoin:round; stroke-width:2; stroke-opacity:0.1; fill:none\" points=\"\n",
       "  262.551,1384.24 2352.76,1384.24 \n",
       "  \"/>\n",
       "<polyline clip-path=\"url(#clip312)\" style=\"stroke:#000000; stroke-linecap:butt; stroke-linejoin:round; stroke-width:2; stroke-opacity:0.1; fill:none\" points=\"\n",
       "  262.551,1006.46 2352.76,1006.46 \n",
       "  \"/>\n",
       "<polyline clip-path=\"url(#clip312)\" style=\"stroke:#000000; stroke-linecap:butt; stroke-linejoin:round; stroke-width:2; stroke-opacity:0.1; fill:none\" points=\"\n",
       "  262.551,628.678 2352.76,628.678 \n",
       "  \"/>\n",
       "<polyline clip-path=\"url(#clip312)\" style=\"stroke:#000000; stroke-linecap:butt; stroke-linejoin:round; stroke-width:2; stroke-opacity:0.1; fill:none\" points=\"\n",
       "  262.551,250.898 2352.76,250.898 \n",
       "  \"/>\n",
       "<polyline clip-path=\"url(#clip310)\" style=\"stroke:#000000; stroke-linecap:butt; stroke-linejoin:round; stroke-width:4; stroke-opacity:1; fill:none\" points=\"\n",
       "  262.551,1423.18 262.551,47.2441 \n",
       "  \"/>\n",
       "<polyline clip-path=\"url(#clip310)\" style=\"stroke:#000000; stroke-linecap:butt; stroke-linejoin:round; stroke-width:4; stroke-opacity:1; fill:none\" points=\"\n",
       "  262.551,1384.24 281.449,1384.24 \n",
       "  \"/>\n",
       "<polyline clip-path=\"url(#clip310)\" style=\"stroke:#000000; stroke-linecap:butt; stroke-linejoin:round; stroke-width:4; stroke-opacity:1; fill:none\" points=\"\n",
       "  262.551,1006.46 281.449,1006.46 \n",
       "  \"/>\n",
       "<polyline clip-path=\"url(#clip310)\" style=\"stroke:#000000; stroke-linecap:butt; stroke-linejoin:round; stroke-width:4; stroke-opacity:1; fill:none\" points=\"\n",
       "  262.551,628.678 281.449,628.678 \n",
       "  \"/>\n",
       "<polyline clip-path=\"url(#clip310)\" style=\"stroke:#000000; stroke-linecap:butt; stroke-linejoin:round; stroke-width:4; stroke-opacity:1; fill:none\" points=\"\n",
       "  262.551,250.898 281.449,250.898 \n",
       "  \"/>\n",
       "<path clip-path=\"url(#clip310)\" d=\"M214.607 1370.04 Q210.996 1370.04 209.167 1373.6 Q207.362 1377.14 207.362 1384.27 Q207.362 1391.38 209.167 1394.94 Q210.996 1398.49 214.607 1398.49 Q218.241 1398.49 220.047 1394.94 Q221.875 1391.38 221.875 1384.27 Q221.875 1377.14 220.047 1373.6 Q218.241 1370.04 214.607 1370.04 M214.607 1366.33 Q220.417 1366.33 223.473 1370.94 Q226.551 1375.52 226.551 1384.27 Q226.551 1393 223.473 1397.61 Q220.417 1402.19 214.607 1402.19 Q208.797 1402.19 205.718 1397.61 Q202.662 1393 202.662 1384.27 Q202.662 1375.52 205.718 1370.94 Q208.797 1366.33 214.607 1366.33 Z\" fill=\"#000000\" fill-rule=\"evenodd\" fill-opacity=\"1\" /><path clip-path=\"url(#clip310)\" d=\"M144.329 989.178 L162.686 989.178 L162.686 993.113 L148.612 993.113 L148.612 1001.59 Q149.63 1001.24 150.649 1001.08 Q151.667 1000.89 152.686 1000.89 Q158.473 1000.89 161.852 1004.06 Q165.232 1007.23 165.232 1012.65 Q165.232 1018.23 161.76 1021.33 Q158.288 1024.41 151.968 1024.41 Q149.792 1024.41 147.524 1024.04 Q145.279 1023.67 142.871 1022.93 L142.871 1018.23 Q144.954 1019.36 147.177 1019.92 Q149.399 1020.47 151.876 1020.47 Q155.88 1020.47 158.218 1018.37 Q160.556 1016.26 160.556 1012.65 Q160.556 1009.04 158.218 1006.93 Q155.88 1004.83 151.876 1004.83 Q150.001 1004.83 148.126 1005.24 Q146.274 1005.66 144.329 1006.54 L144.329 989.178 Z\" fill=\"#000000\" fill-rule=\"evenodd\" fill-opacity=\"1\" /><path clip-path=\"url(#clip310)\" d=\"M184.445 992.257 Q180.834 992.257 179.005 995.822 Q177.2 999.363 177.2 1006.49 Q177.2 1013.6 179.005 1017.16 Q180.834 1020.71 184.445 1020.71 Q188.079 1020.71 189.885 1017.16 Q191.713 1013.6 191.713 1006.49 Q191.713 999.363 189.885 995.822 Q188.079 992.257 184.445 992.257 M184.445 988.553 Q190.255 988.553 193.311 993.16 Q196.389 997.743 196.389 1006.49 Q196.389 1015.22 193.311 1019.83 Q190.255 1024.41 184.445 1024.41 Q178.635 1024.41 175.556 1019.83 Q172.501 1015.22 172.501 1006.49 Q172.501 997.743 175.556 993.16 Q178.635 988.553 184.445 988.553 Z\" fill=\"#000000\" fill-rule=\"evenodd\" fill-opacity=\"1\" /><path clip-path=\"url(#clip310)\" d=\"M214.607 992.257 Q210.996 992.257 209.167 995.822 Q207.362 999.363 207.362 1006.49 Q207.362 1013.6 209.167 1017.16 Q210.996 1020.71 214.607 1020.71 Q218.241 1020.71 220.047 1017.16 Q221.875 1013.6 221.875 1006.49 Q221.875 999.363 220.047 995.822 Q218.241 992.257 214.607 992.257 M214.607 988.553 Q220.417 988.553 223.473 993.16 Q226.551 997.743 226.551 1006.49 Q226.551 1015.22 223.473 1019.83 Q220.417 1024.41 214.607 1024.41 Q208.797 1024.41 205.718 1019.83 Q202.662 1015.22 202.662 1006.49 Q202.662 997.743 205.718 993.16 Q208.797 988.553 214.607 988.553 Z\" fill=\"#000000\" fill-rule=\"evenodd\" fill-opacity=\"1\" /><path clip-path=\"url(#clip310)\" d=\"M114.931 642.023 L122.57 642.023 L122.57 615.657 L114.26 617.324 L114.26 613.065 L122.524 611.398 L127.2 611.398 L127.2 642.023 L134.839 642.023 L134.839 645.958 L114.931 645.958 L114.931 642.023 Z\" fill=\"#000000\" fill-rule=\"evenodd\" fill-opacity=\"1\" /><path clip-path=\"url(#clip310)\" d=\"M154.283 614.477 Q150.672 614.477 148.843 618.041 Q147.038 621.583 147.038 628.713 Q147.038 635.819 148.843 639.384 Q150.672 642.926 154.283 642.926 Q157.917 642.926 159.723 639.384 Q161.552 635.819 161.552 628.713 Q161.552 621.583 159.723 618.041 Q157.917 614.477 154.283 614.477 M154.283 610.773 Q160.093 610.773 163.149 615.379 Q166.227 619.963 166.227 628.713 Q166.227 637.439 163.149 642.046 Q160.093 646.629 154.283 646.629 Q148.473 646.629 145.394 642.046 Q142.339 637.439 142.339 628.713 Q142.339 619.963 145.394 615.379 Q148.473 610.773 154.283 610.773 Z\" fill=\"#000000\" fill-rule=\"evenodd\" fill-opacity=\"1\" /><path clip-path=\"url(#clip310)\" d=\"M184.445 614.477 Q180.834 614.477 179.005 618.041 Q177.2 621.583 177.2 628.713 Q177.2 635.819 179.005 639.384 Q180.834 642.926 184.445 642.926 Q188.079 642.926 189.885 639.384 Q191.713 635.819 191.713 628.713 Q191.713 621.583 189.885 618.041 Q188.079 614.477 184.445 614.477 M184.445 610.773 Q190.255 610.773 193.311 615.379 Q196.389 619.963 196.389 628.713 Q196.389 637.439 193.311 642.046 Q190.255 646.629 184.445 646.629 Q178.635 646.629 175.556 642.046 Q172.501 637.439 172.501 628.713 Q172.501 619.963 175.556 615.379 Q178.635 610.773 184.445 610.773 Z\" fill=\"#000000\" fill-rule=\"evenodd\" fill-opacity=\"1\" /><path clip-path=\"url(#clip310)\" d=\"M214.607 614.477 Q210.996 614.477 209.167 618.041 Q207.362 621.583 207.362 628.713 Q207.362 635.819 209.167 639.384 Q210.996 642.926 214.607 642.926 Q218.241 642.926 220.047 639.384 Q221.875 635.819 221.875 628.713 Q221.875 621.583 220.047 618.041 Q218.241 614.477 214.607 614.477 M214.607 610.773 Q220.417 610.773 223.473 615.379 Q226.551 619.963 226.551 628.713 Q226.551 637.439 223.473 642.046 Q220.417 646.629 214.607 646.629 Q208.797 646.629 205.718 642.046 Q202.662 637.439 202.662 628.713 Q202.662 619.963 205.718 615.379 Q208.797 610.773 214.607 610.773 Z\" fill=\"#000000\" fill-rule=\"evenodd\" fill-opacity=\"1\" /><path clip-path=\"url(#clip310)\" d=\"M114.931 264.243 L122.57 264.243 L122.57 237.877 L114.26 239.544 L114.26 235.284 L122.524 233.618 L127.2 233.618 L127.2 264.243 L134.839 264.243 L134.839 268.178 L114.931 268.178 L114.931 264.243 Z\" fill=\"#000000\" fill-rule=\"evenodd\" fill-opacity=\"1\" /><path clip-path=\"url(#clip310)\" d=\"M144.329 233.618 L162.686 233.618 L162.686 237.553 L148.612 237.553 L148.612 246.025 Q149.63 245.678 150.649 245.516 Q151.667 245.331 152.686 245.331 Q158.473 245.331 161.852 248.502 Q165.232 251.673 165.232 257.09 Q165.232 262.669 161.76 265.77 Q158.288 268.849 151.968 268.849 Q149.792 268.849 147.524 268.479 Q145.279 268.108 142.871 267.368 L142.871 262.669 Q144.954 263.803 147.177 264.358 Q149.399 264.914 151.876 264.914 Q155.88 264.914 158.218 262.807 Q160.556 260.701 160.556 257.09 Q160.556 253.479 158.218 251.372 Q155.88 249.266 151.876 249.266 Q150.001 249.266 148.126 249.683 Q146.274 250.099 144.329 250.979 L144.329 233.618 Z\" fill=\"#000000\" fill-rule=\"evenodd\" fill-opacity=\"1\" /><path clip-path=\"url(#clip310)\" d=\"M184.445 236.697 Q180.834 236.697 179.005 240.261 Q177.2 243.803 177.2 250.933 Q177.2 258.039 179.005 261.604 Q180.834 265.145 184.445 265.145 Q188.079 265.145 189.885 261.604 Q191.713 258.039 191.713 250.933 Q191.713 243.803 189.885 240.261 Q188.079 236.697 184.445 236.697 M184.445 232.993 Q190.255 232.993 193.311 237.599 Q196.389 242.183 196.389 250.933 Q196.389 259.659 193.311 264.266 Q190.255 268.849 184.445 268.849 Q178.635 268.849 175.556 264.266 Q172.501 259.659 172.501 250.933 Q172.501 242.183 175.556 237.599 Q178.635 232.993 184.445 232.993 Z\" fill=\"#000000\" fill-rule=\"evenodd\" fill-opacity=\"1\" /><path clip-path=\"url(#clip310)\" d=\"M214.607 236.697 Q210.996 236.697 209.167 240.261 Q207.362 243.803 207.362 250.933 Q207.362 258.039 209.167 261.604 Q210.996 265.145 214.607 265.145 Q218.241 265.145 220.047 261.604 Q221.875 258.039 221.875 250.933 Q221.875 243.803 220.047 240.261 Q218.241 236.697 214.607 236.697 M214.607 232.993 Q220.417 232.993 223.473 237.599 Q226.551 242.183 226.551 250.933 Q226.551 259.659 223.473 264.266 Q220.417 268.849 214.607 268.849 Q208.797 268.849 205.718 264.266 Q202.662 259.659 202.662 250.933 Q202.662 242.183 205.718 237.599 Q208.797 232.993 214.607 232.993 Z\" fill=\"#000000\" fill-rule=\"evenodd\" fill-opacity=\"1\" /><path clip-path=\"url(#clip310)\" d=\"M16.4842 1039.29 L16.4842 1030.63 L56.238 1009.56 L16.4842 1009.56 L16.4842 1003.32 L64.0042 1003.32 L64.0042 1011.98 L24.2503 1033.05 L64.0042 1033.05 L64.0042 1039.29 L16.4842 1039.29 Z\" fill=\"#000000\" fill-rule=\"evenodd\" fill-opacity=\"1\" /><path clip-path=\"url(#clip310)\" d=\"M49.9359 991.384 L28.3562 991.384 L28.3562 985.527 L49.7131 985.527 Q54.7739 985.527 57.3202 983.554 Q59.8346 981.581 59.8346 977.634 Q59.8346 972.892 56.8109 970.154 Q53.7872 967.385 48.5673 967.385 L28.3562 967.385 L28.3562 961.529 L64.0042 961.529 L64.0042 967.385 L58.5296 967.385 Q61.7762 969.518 63.3676 972.35 Q64.9272 975.151 64.9272 978.875 Q64.9272 985.018 61.1078 988.201 Q57.2883 991.384 49.9359 991.384 M27.4968 976.647 L27.4968 976.647 Z\" fill=\"#000000\" fill-rule=\"evenodd\" fill-opacity=\"1\" /><path clip-path=\"url(#clip310)\" d=\"M35.1993 921.711 Q31.2526 919.515 29.3747 916.46 Q27.4968 913.404 27.4968 909.266 Q27.4968 903.696 31.4117 900.673 Q35.2948 897.649 42.4881 897.649 L64.0042 897.649 L64.0042 903.537 L42.679 903.537 Q37.5546 903.537 35.072 905.351 Q32.5894 907.166 32.5894 910.89 Q32.5894 915.441 35.6131 918.083 Q38.6368 920.725 43.8567 920.725 L64.0042 920.725 L64.0042 926.613 L42.679 926.613 Q37.5228 926.613 35.072 928.427 Q32.5894 930.241 32.5894 934.029 Q32.5894 938.517 35.6449 941.158 Q38.6686 943.8 43.8567 943.8 L64.0042 943.8 L64.0042 949.689 L28.3562 949.689 L28.3562 943.8 L33.8944 943.8 Q30.616 941.795 29.0564 938.994 Q27.4968 936.193 27.4968 932.342 Q27.4968 928.459 29.4702 925.753 Q31.4436 923.016 35.1993 921.711 Z\" fill=\"#000000\" fill-rule=\"evenodd\" fill-opacity=\"1\" /><path clip-path=\"url(#clip310)\" d=\"M46.212 860.378 Q39.7508 860.378 36.0905 863.051 Q32.3984 865.693 32.3984 870.34 Q32.3984 874.987 36.0905 877.661 Q39.7508 880.302 46.212 880.302 Q52.6732 880.302 56.3653 877.661 Q60.0256 874.987 60.0256 870.34 Q60.0256 865.693 56.3653 863.051 Q52.6732 860.378 46.212 860.378 M33.7671 880.302 Q30.5842 878.456 29.0564 875.655 Q27.4968 872.823 27.4968 868.908 Q27.4968 862.415 32.6531 858.372 Q37.8093 854.298 46.212 854.298 Q54.6147 854.298 59.771 858.372 Q64.9272 862.415 64.9272 868.908 Q64.9272 872.823 63.3994 875.655 Q61.8398 878.456 58.657 880.302 L64.0042 880.302 L64.0042 886.191 L14.479 886.191 L14.479 880.302 L33.7671 880.302 Z\" fill=\"#000000\" fill-rule=\"evenodd\" fill-opacity=\"1\" /><path clip-path=\"url(#clip310)\" d=\"M44.7161 814.099 L47.5806 814.099 L47.5806 841.026 Q53.6281 840.644 56.8109 837.397 Q59.9619 834.119 59.9619 828.295 Q59.9619 824.921 59.1344 821.77 Q58.3069 818.587 56.6518 815.468 L62.1899 815.468 Q63.5267 818.619 64.227 821.929 Q64.9272 825.239 64.9272 828.645 Q64.9272 837.175 59.9619 842.172 Q54.9967 847.137 46.5303 847.137 Q37.7774 847.137 32.6531 842.426 Q27.4968 837.684 27.4968 829.663 Q27.4968 822.47 32.1438 818.3 Q36.7589 814.099 44.7161 814.099 M42.9973 819.955 Q38.1912 820.019 35.3266 822.661 Q32.4621 825.271 32.4621 829.599 Q32.4621 834.501 35.2312 837.461 Q38.0002 840.389 43.0292 840.835 L42.9973 819.955 Z\" fill=\"#000000\" fill-rule=\"evenodd\" fill-opacity=\"1\" /><path clip-path=\"url(#clip310)\" d=\"M33.8307 783.83 Q33.2578 784.817 33.0032 785.994 Q32.7167 787.14 32.7167 788.541 Q32.7167 793.506 35.9632 796.18 Q39.1779 798.821 45.2253 798.821 L64.0042 798.821 L64.0042 804.71 L28.3562 804.71 L28.3562 798.821 L33.8944 798.821 Q30.6479 796.975 29.0883 794.015 Q27.4968 791.055 27.4968 786.822 Q27.4968 786.217 27.5923 785.485 Q27.656 784.753 27.8151 783.862 L33.8307 783.83 Z\" fill=\"#000000\" fill-rule=\"evenodd\" fill-opacity=\"1\" /><path clip-path=\"url(#clip310)\" d=\"M32.4621 743.153 Q32.4621 747.864 36.1542 750.601 Q39.8145 753.338 46.212 753.338 Q52.6095 753.338 56.3017 750.633 Q59.9619 747.896 59.9619 743.153 Q59.9619 738.474 56.2698 735.737 Q52.5777 733 46.212 733 Q39.8781 733 36.186 735.737 Q32.4621 738.474 32.4621 743.153 M27.4968 743.153 Q27.4968 735.514 32.4621 731.154 Q37.4273 726.793 46.212 726.793 Q54.9649 726.793 59.9619 731.154 Q64.9272 735.514 64.9272 743.153 Q64.9272 750.824 59.9619 755.184 Q54.9649 759.513 46.212 759.513 Q37.4273 759.513 32.4621 755.184 Q27.4968 750.824 27.4968 743.153 Z\" fill=\"#000000\" fill-rule=\"evenodd\" fill-opacity=\"1\" /><path clip-path=\"url(#clip310)\" d=\"M14.479 699.039 L19.3487 699.039 L19.3487 704.641 Q19.3487 707.792 20.6219 709.033 Q21.895 710.242 25.2052 710.242 L28.3562 710.242 L28.3562 700.598 L32.9077 700.598 L32.9077 710.242 L64.0042 710.242 L64.0042 716.131 L32.9077 716.131 L32.9077 721.733 L28.3562 721.733 L28.3562 716.131 L25.8736 716.131 Q19.9216 716.131 17.2162 713.362 Q14.479 710.593 14.479 704.577 L14.479 699.039 Z\" fill=\"#000000\" fill-rule=\"evenodd\" fill-opacity=\"1\" /><path clip-path=\"url(#clip310)\" d=\"M33.8307 652.76 Q33.2578 653.747 33.0032 654.924 Q32.7167 656.07 32.7167 657.471 Q32.7167 662.436 35.9632 665.11 Q39.1779 667.751 45.2253 667.751 L64.0042 667.751 L64.0042 673.64 L28.3562 673.64 L28.3562 667.751 L33.8944 667.751 Q30.6479 665.905 29.0883 662.945 Q27.4968 659.985 27.4968 655.752 Q27.4968 655.147 27.5923 654.415 Q27.656 653.683 27.8151 652.792 L33.8307 652.76 Z\" fill=\"#000000\" fill-rule=\"evenodd\" fill-opacity=\"1\" /><path clip-path=\"url(#clip310)\" d=\"M49.9359 647.222 L28.3562 647.222 L28.3562 641.366 L49.7131 641.366 Q54.7739 641.366 57.3202 639.392 Q59.8346 637.419 59.8346 633.472 Q59.8346 628.73 56.8109 625.992 Q53.7872 623.223 48.5673 623.223 L28.3562 623.223 L28.3562 617.367 L64.0042 617.367 L64.0042 623.223 L58.5296 623.223 Q61.7762 625.356 63.3676 628.189 Q64.9272 630.989 64.9272 634.713 Q64.9272 640.856 61.1078 644.039 Q57.2883 647.222 49.9359 647.222 M27.4968 632.485 L27.4968 632.485 Z\" fill=\"#000000\" fill-rule=\"evenodd\" fill-opacity=\"1\" /><path clip-path=\"url(#clip310)\" d=\"M42.4881 575.671 L64.0042 575.671 L64.0042 581.528 L42.679 581.528 Q37.6183 581.528 35.1038 583.501 Q32.5894 585.475 32.5894 589.421 Q32.5894 594.164 35.6131 596.901 Q38.6368 599.638 43.8567 599.638 L64.0042 599.638 L64.0042 605.527 L28.3562 605.527 L28.3562 599.638 L33.8944 599.638 Q30.6797 597.538 29.0883 594.705 Q27.4968 591.84 27.4968 588.116 Q27.4968 581.973 31.3163 578.822 Q35.1038 575.671 42.4881 575.671 Z\" fill=\"#000000\" fill-rule=\"evenodd\" fill-opacity=\"1\" /><path clip-path=\"url(#clip310)\" d=\"M42.4881 534.358 L64.0042 534.358 L64.0042 540.214 L42.679 540.214 Q37.6183 540.214 35.1038 542.188 Q32.5894 544.161 32.5894 548.108 Q32.5894 552.85 35.6131 555.588 Q38.6368 558.325 43.8567 558.325 L64.0042 558.325 L64.0042 564.213 L28.3562 564.213 L28.3562 558.325 L33.8944 558.325 Q30.6797 556.224 29.0883 553.391 Q27.4968 550.527 27.4968 546.803 Q27.4968 540.66 31.3163 537.509 Q35.1038 534.358 42.4881 534.358 Z\" fill=\"#000000\" fill-rule=\"evenodd\" fill-opacity=\"1\" /><path clip-path=\"url(#clip310)\" d=\"M44.7161 492.185 L47.5806 492.185 L47.5806 519.112 Q53.6281 518.73 56.8109 515.484 Q59.9619 512.205 59.9619 506.381 Q59.9619 503.007 59.1344 499.856 Q58.3069 496.673 56.6518 493.554 L62.1899 493.554 Q63.5267 496.705 64.227 500.015 Q64.9272 503.325 64.9272 506.731 Q64.9272 515.261 59.9619 520.258 Q54.9967 525.223 46.5303 525.223 Q37.7774 525.223 32.6531 520.513 Q27.4968 515.77 27.4968 507.749 Q27.4968 500.556 32.1438 496.387 Q36.7589 492.185 44.7161 492.185 M42.9973 498.042 Q38.1912 498.105 35.3266 500.747 Q32.4621 503.357 32.4621 507.686 Q32.4621 512.587 35.2312 515.547 Q38.0002 518.476 43.0292 518.921 L42.9973 498.042 Z\" fill=\"#000000\" fill-rule=\"evenodd\" fill-opacity=\"1\" /><path clip-path=\"url(#clip310)\" d=\"M33.8307 461.916 Q33.2578 462.903 33.0032 464.081 Q32.7167 465.226 32.7167 466.627 Q32.7167 471.592 35.9632 474.266 Q39.1779 476.908 45.2253 476.908 L64.0042 476.908 L64.0042 482.796 L28.3562 482.796 L28.3562 476.908 L33.8944 476.908 Q30.6479 475.061 29.0883 472.101 Q27.4968 469.141 27.4968 464.908 Q27.4968 464.303 27.5923 463.571 Q27.656 462.839 27.8151 461.948 L33.8307 461.916 Z\" fill=\"#000000\" fill-rule=\"evenodd\" fill-opacity=\"1\" /><path clip-path=\"url(#clip310)\" d=\"M29.4065 433.048 L34.9447 433.048 Q33.6716 435.53 33.035 438.204 Q32.3984 440.878 32.3984 443.742 Q32.3984 448.103 33.7352 450.299 Q35.072 452.463 37.7456 452.463 Q39.7826 452.463 40.9603 450.904 Q42.1061 449.344 43.1565 444.633 L43.6021 442.628 Q44.9389 436.39 47.3897 433.78 Q49.8086 431.138 54.1691 431.138 Q59.1344 431.138 62.0308 435.085 Q64.9272 439 64.9272 445.875 Q64.9272 448.739 64.3543 451.858 Q63.8132 454.946 62.6992 458.383 L56.6518 458.383 Q58.3387 455.137 59.198 451.986 Q60.0256 448.835 60.0256 445.747 Q60.0256 441.61 58.6251 439.382 Q57.1929 437.154 54.6147 437.154 Q52.2276 437.154 50.9545 438.777 Q49.6813 440.368 48.5037 445.811 L48.0262 447.848 Q46.8804 453.291 44.5251 455.71 Q42.138 458.129 38.0002 458.129 Q32.9713 458.129 30.2341 454.564 Q27.4968 450.999 27.4968 444.442 Q27.4968 441.196 27.9743 438.331 Q28.4517 435.467 29.4065 433.048 Z\" fill=\"#000000\" fill-rule=\"evenodd\" fill-opacity=\"1\" /><path clip-path=\"url(#clip312)\" d=\"\n",
       "M377.516 86.1857 L377.516 1384.24 L471.707 1384.24 L471.707 86.1857 L377.516 86.1857 L377.516 86.1857  Z\n",
       "  \" fill=\"#009af9\" fill-rule=\"evenodd\" fill-opacity=\"1\"/>\n",
       "<polyline clip-path=\"url(#clip312)\" style=\"stroke:#000000; stroke-linecap:butt; stroke-linejoin:round; stroke-width:4; stroke-opacity:1; fill:none\" points=\"\n",
       "  377.516,86.1857 377.516,1384.24 471.707,1384.24 471.707,86.1857 377.516,86.1857 \n",
       "  \"/>\n",
       "<path clip-path=\"url(#clip312)\" d=\"\n",
       "M495.255 875.746 L495.255 1384.24 L589.446 1384.24 L589.446 875.746 L495.255 875.746 L495.255 875.746  Z\n",
       "  \" fill=\"#009af9\" fill-rule=\"evenodd\" fill-opacity=\"1\"/>\n",
       "<polyline clip-path=\"url(#clip312)\" style=\"stroke:#000000; stroke-linecap:butt; stroke-linejoin:round; stroke-width:4; stroke-opacity:1; fill:none\" points=\"\n",
       "  495.255,875.746 495.255,1384.24 589.446,1384.24 589.446,875.746 495.255,875.746 \n",
       "  \"/>\n",
       "<path clip-path=\"url(#clip312)\" d=\"\n",
       "M612.994 518.366 L612.994 1384.24 L707.185 1384.24 L707.185 518.366 L612.994 518.366 L612.994 518.366  Z\n",
       "  \" fill=\"#009af9\" fill-rule=\"evenodd\" fill-opacity=\"1\"/>\n",
       "<polyline clip-path=\"url(#clip312)\" style=\"stroke:#000000; stroke-linecap:butt; stroke-linejoin:round; stroke-width:4; stroke-opacity:1; fill:none\" points=\"\n",
       "  612.994,518.366 612.994,1384.24 707.185,1384.24 707.185,518.366 612.994,518.366 \n",
       "  \"/>\n",
       "<path clip-path=\"url(#clip312)\" d=\"\n",
       "M730.733 536.5 L730.733 1384.24 L824.924 1384.24 L824.924 536.5 L730.733 536.5 L730.733 536.5  Z\n",
       "  \" fill=\"#009af9\" fill-rule=\"evenodd\" fill-opacity=\"1\"/>\n",
       "<polyline clip-path=\"url(#clip312)\" style=\"stroke:#000000; stroke-linecap:butt; stroke-linejoin:round; stroke-width:4; stroke-opacity:1; fill:none\" points=\"\n",
       "  730.733,536.5 730.733,1384.24 824.924,1384.24 824.924,536.5 730.733,536.5 \n",
       "  \"/>\n",
       "<path clip-path=\"url(#clip312)\" d=\"\n",
       "M848.472 779.034 L848.472 1384.24 L942.663 1384.24 L942.663 779.034 L848.472 779.034 L848.472 779.034  Z\n",
       "  \" fill=\"#009af9\" fill-rule=\"evenodd\" fill-opacity=\"1\"/>\n",
       "<polyline clip-path=\"url(#clip312)\" style=\"stroke:#000000; stroke-linecap:butt; stroke-linejoin:round; stroke-width:4; stroke-opacity:1; fill:none\" points=\"\n",
       "  848.472,779.034 848.472,1384.24 942.663,1384.24 942.663,779.034 848.472,779.034 \n",
       "  \"/>\n",
       "<path clip-path=\"url(#clip312)\" d=\"\n",
       "M966.211 761.657 L966.211 1384.24 L1060.4 1384.24 L1060.4 761.657 L966.211 761.657 L966.211 761.657  Z\n",
       "  \" fill=\"#009af9\" fill-rule=\"evenodd\" fill-opacity=\"1\"/>\n",
       "<polyline clip-path=\"url(#clip312)\" style=\"stroke:#000000; stroke-linecap:butt; stroke-linejoin:round; stroke-width:4; stroke-opacity:1; fill:none\" points=\"\n",
       "  966.211,761.657 966.211,1384.24 1060.4,1384.24 1060.4,761.657 966.211,761.657 \n",
       "  \"/>\n",
       "<path clip-path=\"url(#clip312)\" d=\"\n",
       "M1083.95 774.501 L1083.95 1384.24 L1178.14 1384.24 L1178.14 774.501 L1083.95 774.501 L1083.95 774.501  Z\n",
       "  \" fill=\"#009af9\" fill-rule=\"evenodd\" fill-opacity=\"1\"/>\n",
       "<polyline clip-path=\"url(#clip312)\" style=\"stroke:#000000; stroke-linecap:butt; stroke-linejoin:round; stroke-width:4; stroke-opacity:1; fill:none\" points=\"\n",
       "  1083.95,774.501 1083.95,1384.24 1178.14,1384.24 1178.14,774.501 1083.95,774.501 \n",
       "  \"/>\n",
       "<path clip-path=\"url(#clip312)\" d=\"\n",
       "M1201.69 949.036 L1201.69 1384.24 L1295.88 1384.24 L1295.88 949.036 L1201.69 949.036 L1201.69 949.036  Z\n",
       "  \" fill=\"#009af9\" fill-rule=\"evenodd\" fill-opacity=\"1\"/>\n",
       "<polyline clip-path=\"url(#clip312)\" style=\"stroke:#000000; stroke-linecap:butt; stroke-linejoin:round; stroke-width:4; stroke-opacity:1; fill:none\" points=\"\n",
       "  1201.69,949.036 1201.69,1384.24 1295.88,1384.24 1295.88,949.036 1201.69,949.036 \n",
       "  \"/>\n",
       "<path clip-path=\"url(#clip312)\" d=\"\n",
       "M1319.43 945.258 L1319.43 1384.24 L1413.62 1384.24 L1413.62 945.258 L1319.43 945.258 L1319.43 945.258  Z\n",
       "  \" fill=\"#009af9\" fill-rule=\"evenodd\" fill-opacity=\"1\"/>\n",
       "<polyline clip-path=\"url(#clip312)\" style=\"stroke:#000000; stroke-linecap:butt; stroke-linejoin:round; stroke-width:4; stroke-opacity:1; fill:none\" points=\"\n",
       "  1319.43,945.258 1319.43,1384.24 1413.62,1384.24 1413.62,945.258 1319.43,945.258 \n",
       "  \"/>\n",
       "<path clip-path=\"url(#clip312)\" d=\"\n",
       "M1437.17 998.147 L1437.17 1384.24 L1531.36 1384.24 L1531.36 998.147 L1437.17 998.147 L1437.17 998.147  Z\n",
       "  \" fill=\"#009af9\" fill-rule=\"evenodd\" fill-opacity=\"1\"/>\n",
       "<polyline clip-path=\"url(#clip312)\" style=\"stroke:#000000; stroke-linecap:butt; stroke-linejoin:round; stroke-width:4; stroke-opacity:1; fill:none\" points=\"\n",
       "  1437.17,998.147 1437.17,1384.24 1531.36,1384.24 1531.36,998.147 1437.17,998.147 \n",
       "  \"/>\n",
       "<path clip-path=\"url(#clip312)\" d=\"\n",
       "M1554.91 1115.26 L1554.91 1384.24 L1649.1 1384.24 L1649.1 1115.26 L1554.91 1115.26 L1554.91 1115.26  Z\n",
       "  \" fill=\"#009af9\" fill-rule=\"evenodd\" fill-opacity=\"1\"/>\n",
       "<polyline clip-path=\"url(#clip312)\" style=\"stroke:#000000; stroke-linecap:butt; stroke-linejoin:round; stroke-width:4; stroke-opacity:1; fill:none\" points=\"\n",
       "  1554.91,1115.26 1554.91,1384.24 1649.1,1384.24 1649.1,1115.26 1554.91,1115.26 \n",
       "  \"/>\n",
       "<path clip-path=\"url(#clip312)\" d=\"\n",
       "M1672.64 1116.01 L1672.64 1384.24 L1766.84 1384.24 L1766.84 1116.01 L1672.64 1116.01 L1672.64 1116.01  Z\n",
       "  \" fill=\"#009af9\" fill-rule=\"evenodd\" fill-opacity=\"1\"/>\n",
       "<polyline clip-path=\"url(#clip312)\" style=\"stroke:#000000; stroke-linecap:butt; stroke-linejoin:round; stroke-width:4; stroke-opacity:1; fill:none\" points=\"\n",
       "  1672.64,1116.01 1672.64,1384.24 1766.84,1384.24 1766.84,1116.01 1672.64,1116.01 \n",
       "  \"/>\n",
       "<path clip-path=\"url(#clip312)\" d=\"\n",
       "M1790.38 1252.02 L1790.38 1384.24 L1884.57 1384.24 L1884.57 1252.02 L1790.38 1252.02 L1790.38 1252.02  Z\n",
       "  \" fill=\"#009af9\" fill-rule=\"evenodd\" fill-opacity=\"1\"/>\n",
       "<polyline clip-path=\"url(#clip312)\" style=\"stroke:#000000; stroke-linecap:butt; stroke-linejoin:round; stroke-width:4; stroke-opacity:1; fill:none\" points=\"\n",
       "  1790.38,1252.02 1790.38,1384.24 1884.57,1384.24 1884.57,1252.02 1790.38,1252.02 \n",
       "  \"/>\n",
       "<path clip-path=\"url(#clip312)\" d=\"\n",
       "M1908.12 1277.7 L1908.12 1384.24 L2002.31 1384.24 L2002.31 1277.7 L1908.12 1277.7 L1908.12 1277.7  Z\n",
       "  \" fill=\"#009af9\" fill-rule=\"evenodd\" fill-opacity=\"1\"/>\n",
       "<polyline clip-path=\"url(#clip312)\" style=\"stroke:#000000; stroke-linecap:butt; stroke-linejoin:round; stroke-width:4; stroke-opacity:1; fill:none\" points=\"\n",
       "  1908.12,1277.7 1908.12,1384.24 2002.31,1384.24 2002.31,1277.7 1908.12,1277.7 \n",
       "  \"/>\n",
       "<path clip-path=\"url(#clip312)\" d=\"\n",
       "M2025.86 1310.19 L2025.86 1384.24 L2120.05 1384.24 L2120.05 1310.19 L2025.86 1310.19 L2025.86 1310.19  Z\n",
       "  \" fill=\"#009af9\" fill-rule=\"evenodd\" fill-opacity=\"1\"/>\n",
       "<polyline clip-path=\"url(#clip312)\" style=\"stroke:#000000; stroke-linecap:butt; stroke-linejoin:round; stroke-width:4; stroke-opacity:1; fill:none\" points=\"\n",
       "  2025.86,1310.19 2025.86,1384.24 2120.05,1384.24 2120.05,1310.19 2025.86,1310.19 \n",
       "  \"/>\n",
       "<path clip-path=\"url(#clip312)\" d=\"\n",
       "M2143.6 1296.59 L2143.6 1384.24 L2237.79 1384.24 L2237.79 1296.59 L2143.6 1296.59 L2143.6 1296.59  Z\n",
       "  \" fill=\"#009af9\" fill-rule=\"evenodd\" fill-opacity=\"1\"/>\n",
       "<polyline clip-path=\"url(#clip312)\" style=\"stroke:#000000; stroke-linecap:butt; stroke-linejoin:round; stroke-width:4; stroke-opacity:1; fill:none\" points=\"\n",
       "  2143.6,1296.59 2143.6,1384.24 2237.79,1384.24 2237.79,1296.59 2143.6,1296.59 \n",
       "  \"/>\n",
       "<circle clip-path=\"url(#clip312)\" style=\"fill:#009af9; stroke:none; fill-opacity:0\" cx=\"424.612\" cy=\"86.1857\" r=\"2\"/>\n",
       "<circle clip-path=\"url(#clip312)\" style=\"fill:#009af9; stroke:none; fill-opacity:0\" cx=\"542.351\" cy=\"875.746\" r=\"2\"/>\n",
       "<circle clip-path=\"url(#clip312)\" style=\"fill:#009af9; stroke:none; fill-opacity:0\" cx=\"660.09\" cy=\"518.366\" r=\"2\"/>\n",
       "<circle clip-path=\"url(#clip312)\" style=\"fill:#009af9; stroke:none; fill-opacity:0\" cx=\"777.828\" cy=\"536.5\" r=\"2\"/>\n",
       "<circle clip-path=\"url(#clip312)\" style=\"fill:#009af9; stroke:none; fill-opacity:0\" cx=\"895.567\" cy=\"779.034\" r=\"2\"/>\n",
       "<circle clip-path=\"url(#clip312)\" style=\"fill:#009af9; stroke:none; fill-opacity:0\" cx=\"1013.31\" cy=\"761.657\" r=\"2\"/>\n",
       "<circle clip-path=\"url(#clip312)\" style=\"fill:#009af9; stroke:none; fill-opacity:0\" cx=\"1131.05\" cy=\"774.501\" r=\"2\"/>\n",
       "<circle clip-path=\"url(#clip312)\" style=\"fill:#009af9; stroke:none; fill-opacity:0\" cx=\"1248.78\" cy=\"949.036\" r=\"2\"/>\n",
       "<circle clip-path=\"url(#clip312)\" style=\"fill:#009af9; stroke:none; fill-opacity:0\" cx=\"1366.52\" cy=\"945.258\" r=\"2\"/>\n",
       "<circle clip-path=\"url(#clip312)\" style=\"fill:#009af9; stroke:none; fill-opacity:0\" cx=\"1484.26\" cy=\"998.147\" r=\"2\"/>\n",
       "<circle clip-path=\"url(#clip312)\" style=\"fill:#009af9; stroke:none; fill-opacity:0\" cx=\"1602\" cy=\"1115.26\" r=\"2\"/>\n",
       "<circle clip-path=\"url(#clip312)\" style=\"fill:#009af9; stroke:none; fill-opacity:0\" cx=\"1719.74\" cy=\"1116.01\" r=\"2\"/>\n",
       "<circle clip-path=\"url(#clip312)\" style=\"fill:#009af9; stroke:none; fill-opacity:0\" cx=\"1837.48\" cy=\"1252.02\" r=\"2\"/>\n",
       "<circle clip-path=\"url(#clip312)\" style=\"fill:#009af9; stroke:none; fill-opacity:0\" cx=\"1955.22\" cy=\"1277.7\" r=\"2\"/>\n",
       "<circle clip-path=\"url(#clip312)\" style=\"fill:#009af9; stroke:none; fill-opacity:0\" cx=\"2072.96\" cy=\"1310.19\" r=\"2\"/>\n",
       "<circle clip-path=\"url(#clip312)\" style=\"fill:#009af9; stroke:none; fill-opacity:0\" cx=\"2190.7\" cy=\"1296.59\" r=\"2\"/>\n",
       "</svg>\n"
      ]
     },
     "metadata": {},
     "output_type": "display_data"
    }
   ],
   "source": [
    "if true\n",
    "    burstshistogram(lt)\n",
    "end"
   ]
  },
  {
   "cell_type": "code",
   "execution_count": null,
   "id": "caroline-geneva",
   "metadata": {},
   "outputs": [],
   "source": []
  }
 ],
 "metadata": {
  "@webio": {
   "lastCommId": null,
   "lastKernelId": null
  },
  "hide_input": false,
  "kernelspec": {
   "display_name": "Julia 1.7.1",
   "language": "julia",
   "name": "julia-1.7"
  },
  "language_info": {
   "file_extension": ".jl",
   "mimetype": "application/julia",
   "name": "julia",
   "version": "1.7.1"
  },
  "latex_envs": {
   "LaTeX_envs_menu_present": true,
   "autoclose": false,
   "autocomplete": true,
   "bibliofile": "biblio.bib",
   "cite_by": "apalike",
   "current_citInitial": 1,
   "eqLabelWithNumbers": true,
   "eqNumInitial": 1,
   "hotkeys": {
    "equation": "Ctrl-E",
    "itemize": "Ctrl-I"
   },
   "labels_anchors": false,
   "latex_user_defs": false,
   "report_style_numbering": false,
   "user_envs_cfg": false
  },
  "varInspector": {
   "cols": {
    "lenName": 16,
    "lenType": 16,
    "lenVar": 40
   },
   "kernels_config": {
    "python": {
     "delete_cmd_postfix": "",
     "delete_cmd_prefix": "del ",
     "library": "var_list.py",
     "varRefreshCmd": "print(var_dic_list())"
    },
    "r": {
     "delete_cmd_postfix": ") ",
     "delete_cmd_prefix": "rm(",
     "library": "var_list.r",
     "varRefreshCmd": "cat(var_dic_list()) "
    }
   },
   "types_to_exclude": [
    "module",
    "function",
    "builtin_function_or_method",
    "instance",
    "_Feature"
   ],
   "window_display": false
  }
 },
 "nbformat": 4,
 "nbformat_minor": 5
}
